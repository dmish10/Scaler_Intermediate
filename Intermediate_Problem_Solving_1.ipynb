{
  "nbformat": 4,
  "nbformat_minor": 0,
  "metadata": {
    "colab": {
      "provenance": [],
      "authorship_tag": "ABX9TyNrPdQg5JjG1GvIRdKtHNdo",
      "include_colab_link": true
    },
    "kernelspec": {
      "name": "python3",
      "display_name": "Python 3"
    },
    "language_info": {
      "name": "python"
    }
  },
  "cells": [
    {
      "cell_type": "markdown",
      "metadata": {
        "id": "view-in-github",
        "colab_type": "text"
      },
      "source": [
        "<a href=\"https://colab.research.google.com/github/dmish10/Scaler_Intermediate/blob/main/Intermediate_Problem_Solving_1.ipynb\" target=\"_parent\"><img src=\"https://colab.research.google.com/assets/colab-badge.svg\" alt=\"Open In Colab\"/></a>"
      ]
    },
    {
      "cell_type": "code",
      "execution_count": null,
      "metadata": {
        "colab": {
          "base_uri": "https://localhost:8080/"
        },
        "id": "AD4V77e83JfA",
        "outputId": "ed1bbcc3-4607-4b39-dff0-fbf9ac8e9cb5"
      },
      "outputs": [
        {
          "output_type": "execute_result",
          "data": {
            "text/plain": [
              "True"
            ]
          },
          "metadata": {},
          "execution_count": 1
        }
      ],
      "source": [
        "\"z\" > \"aassfihoihafkhi\""
      ]
    },
    {
      "cell_type": "code",
      "source": [
        "def bubble_sort(a):\n",
        "  count=0\n",
        "  for i in range(len(a)-1):\n",
        "    for j in range(len(a)-(i+1)):\n",
        "      count+=1\n",
        "      if a[j] > a[j+1]:\n",
        "        a[j], a[j+1] = a[j+1], a[j]\n",
        "  print(f\"count is {count}\")\n",
        "  return a\n",
        "\n",
        "bubble_sort([\"zebra\",\"mango\",\"butcher\",\"compound\",\"darcy\",\"elephant\"])"
      ],
      "metadata": {
        "colab": {
          "base_uri": "https://localhost:8080/"
        },
        "id": "VxkXSPWZbEGq",
        "outputId": "31f9b43d-9b42-4df0-b83e-a06898b1b8ba"
      },
      "execution_count": null,
      "outputs": [
        {
          "output_type": "stream",
          "name": "stdout",
          "text": [
            "count is 15\n"
          ]
        },
        {
          "output_type": "execute_result",
          "data": {
            "text/plain": [
              "['butcher', 'compound', 'darcy', 'elephant', 'mango', 'zebra']"
            ]
          },
          "metadata": {},
          "execution_count": 7
        }
      ]
    },
    {
      "cell_type": "code",
      "source": [
        "#for above lexocigraphical question, any sorting algo will work as it takes characters and ascii value into consideration.\n",
        "#it doesn't work for capital values"
      ],
      "metadata": {
        "id": "dTkcbd1SbwdA"
      },
      "execution_count": null,
      "outputs": []
    },
    {
      "cell_type": "code",
      "source": [
        "#find the ocuurence of the substring 'hi' in a string \n",
        "a=\"hi this is me. you are high up high away hi\"\n",
        "def find_hi(a,count=0):\n",
        "  \n",
        "  starting_point =a.find(\"hi\")\n",
        "\n",
        "  if starting_point== len(a) -1:\n",
        "    return None\n",
        "  print(a[starting_point : starting_point + 2])\n",
        "   \n",
        "  return find_hi(a[starting_point + 2 :],count= count+1)\n"
      ],
      "metadata": {
        "id": "zXXooAkHcIWg"
      },
      "execution_count": null,
      "outputs": []
    },
    {
      "cell_type": "code",
      "source": [
        "find_hi(a)"
      ],
      "metadata": {
        "colab": {
          "base_uri": "https://localhost:8080/"
        },
        "id": "lppHyU4hjflv",
        "outputId": "3fbfd3b2-ad8d-4015-ad36-ffc717fe99b2"
      },
      "execution_count": null,
      "outputs": [
        {
          "output_type": "stream",
          "name": "stdout",
          "text": [
            "hi\n",
            "hi\n",
            "hi\n",
            "hi\n",
            "hi\n"
          ]
        }
      ]
    },
    {
      "cell_type": "code",
      "source": [
        "#bubble sort optimised\n",
        "\n",
        "def bubble_sort_optimised(a):\n",
        "  count=0\n",
        "  flag_swap =False\n",
        "  for i in range(len(a)-1):\n",
        "    for j in range(len(a)-(i+1)):\n",
        "      count+=1\n",
        "      if a[j] > a[j+1]:\n",
        "        a[j], a[j+1] = a[j+1], a[j]\n",
        "        flag_swap =True\n",
        "    if not flag_swap:\n",
        "      break\n",
        "  print(\"count is\", count)\n",
        "  return a\n",
        "\n",
        "bubble_sort_optimised([1,2,3,4,5,6,7]) \n"
      ],
      "metadata": {
        "colab": {
          "base_uri": "https://localhost:8080/"
        },
        "id": "Q96h77ndjpLR",
        "outputId": "a517d693-d2a9-4e03-c9cb-8b06e75863cc"
      },
      "execution_count": null,
      "outputs": [
        {
          "output_type": "stream",
          "name": "stdout",
          "text": [
            "count is 6\n"
          ]
        },
        {
          "output_type": "execute_result",
          "data": {
            "text/plain": [
              "[1, 2, 3, 4, 5, 6, 7]"
            ]
          },
          "metadata": {},
          "execution_count": 2
        }
      ]
    },
    {
      "cell_type": "code",
      "source": [
        "bubble_sort([1, 2, 3, 4, 5, 6, 7])"
      ],
      "metadata": {
        "colab": {
          "base_uri": "https://localhost:8080/"
        },
        "id": "iZh8j6jAJxQc",
        "outputId": "51f001d5-b7e6-406d-8a78-4b0ca1e87152"
      },
      "execution_count": null,
      "outputs": [
        {
          "output_type": "stream",
          "name": "stdout",
          "text": [
            "count is 21\n"
          ]
        },
        {
          "output_type": "execute_result",
          "data": {
            "text/plain": [
              "[1, 2, 3, 4, 5, 6, 7]"
            ]
          },
          "metadata": {},
          "execution_count": 8
        }
      ]
    },
    {
      "cell_type": "code",
      "source": [
        "#Given a python list data = [12, 23, 35, 42, 56], and key = 23. After how many iterations in the binary search, the key will be found?"
      ],
      "metadata": {
        "id": "CY55sBmxKNYC"
      },
      "execution_count": null,
      "outputs": []
    },
    {
      "cell_type": "code",
      "source": [
        "def find_iter(A,key):\n",
        "  start, end= 0,len(A)-1\n",
        "  iteration=0\n",
        "  \n",
        "  while start<=end:\n",
        "    mid= (start+end)//2\n",
        "    iteration+=1\n",
        "    print(f\"Iterations={iteration}\")\n",
        "    if A[mid]==key:\n",
        "      return mid\n",
        "    elif A[mid]>key:\n",
        "      end= mid -1\n",
        "    else:\n",
        "      start=mid+1\n",
        "    \n",
        "  return A[mid]\n"
      ],
      "metadata": {
        "id": "xPj1a7QH50U0"
      },
      "execution_count": null,
      "outputs": []
    },
    {
      "cell_type": "code",
      "source": [
        "find_iter([35, 66, 73, 80, 90, 102, 258], 90)"
      ],
      "metadata": {
        "colab": {
          "base_uri": "https://localhost:8080/"
        },
        "id": "ZS2-1yXl6gma",
        "outputId": "6723aa1b-fd0b-42f8-e97f-59920c31afd6"
      },
      "execution_count": null,
      "outputs": [
        {
          "output_type": "stream",
          "name": "stdout",
          "text": [
            "Iterations=1\n",
            "Iterations=2\n",
            "Iterations=3\n"
          ]
        },
        {
          "output_type": "execute_result",
          "data": {
            "text/plain": [
              "4"
            ]
          },
          "metadata": {},
          "execution_count": 29
        }
      ]
    },
    {
      "cell_type": "code",
      "source": [
        "'''\n",
        "Given a sorted array of integers A(0 based index) of size N, find the starting and the ending position of a given integer B in array A.\n",
        "Return an array of size 2, such that the first element = starting position of B in A \n",
        "and the second element = ending position of B in A, if B is not found in A return [-1, -1].\n",
        "Return an array of size 2, such that the first element = starting position of B in A \n",
        "and the second element = the ending position of B in A if B is not found in A return [-1, -1]\n",
        "'''"
      ],
      "metadata": {
        "colab": {
          "base_uri": "https://localhost:8080/",
          "height": 87
        },
        "id": "ykpID3eK6k6y",
        "outputId": "cf654f6d-ce5a-4fa5-b499-bab755941f0a"
      },
      "execution_count": null,
      "outputs": [
        {
          "output_type": "execute_result",
          "data": {
            "text/plain": [
              "'\\nGiven a sorted array of integers A(0 based index) of size N, find the starting and the ending position of a given integer B in array A.\\nReturn an array of size 2, such that the first element = starting position of B in A \\nand the second element = ending position of B in A, if B is not found in A return [-1, -1].\\nReturn an array of size 2, such that the first element = starting position of B in A \\nand the second element = the ending position of B in A if B is not found in A return [-1, -1]\\n'"
            ],
            "application/vnd.google.colaboratory.intrinsic+json": {
              "type": "string"
            }
          },
          "metadata": {},
          "execution_count": 30
        }
      ]
    },
    {
      "cell_type": "code",
      "source": [
        "def search(A,B):\n",
        "  start, end = 0, len(A)-1\n",
        "  first_index,last_index =-1,-1\n",
        "  while start<=end:\n",
        "    mid = (start+end)//2\n",
        "    \n",
        "    if A[mid] == B:\n",
        "      first_index= mid\n",
        "      #search the left half from the mid point for the first index\n",
        "      end= mid-1\n",
        "    elif A[mid] > B:\n",
        "      end= mid-1\n",
        "    else:\n",
        "      start = mid+1\n",
        "\n",
        "  start, end = 0, len(A)-1\n",
        "  while start<=end:\n",
        "    mid = (start+ end)//2\n",
        "    \n",
        "    if A[mid] == B:\n",
        "      last_index= mid\n",
        "      #search the left half from the mid point for the last index\n",
        "      start = mid+1\n",
        "    elif A[mid] > B:\n",
        "      end= mid-1\n",
        "    else:\n",
        "      start = mid+1\n",
        "  return[first_index, last_index]\n",
        "\n",
        "search([5, 7, 7, 8, 8, 10],8)\n",
        "\n",
        "    "
      ],
      "metadata": {
        "colab": {
          "base_uri": "https://localhost:8080/"
        },
        "id": "1rqcA-fdCGqd",
        "outputId": "33860b1e-8315-436b-d635-7fcff1bb3224"
      },
      "execution_count": null,
      "outputs": [
        {
          "output_type": "execute_result",
          "data": {
            "text/plain": [
              "[3, 4]"
            ]
          },
          "metadata": {},
          "execution_count": 36
        }
      ]
    },
    {
      "cell_type": "code",
      "source": [
        "data = ((1,\"Ajay\"),(2,\"bull\"))\n",
        "\n",
        "# Convert the data into a dictionary\n",
        "data_dict = dict(data)\n",
        "\n",
        "print(data_dict)\n"
      ],
      "metadata": {
        "colab": {
          "base_uri": "https://localhost:8080/"
        },
        "id": "ZWcW2b6HG5lV",
        "outputId": "689b867d-177a-45f0-9b80-199fc908f35b"
      },
      "execution_count": null,
      "outputs": [
        {
          "output_type": "stream",
          "name": "stdout",
          "text": [
            "{1: 'Ajay', 2: 'bull'}\n"
          ]
        }
      ]
    },
    {
      "cell_type": "code",
      "source": [
        "def getfirst(data):\n",
        "  return data[0]\n",
        "\n",
        "\n",
        "getfirst([1,2,9,8,3,4,7,6,5])\n"
      ],
      "metadata": {
        "colab": {
          "base_uri": "https://localhost:8080/"
        },
        "id": "G5hZLK3eIHFO",
        "outputId": "2fd1831f-c3f6-498c-988c-24b39a6b2548"
      },
      "execution_count": null,
      "outputs": [
        {
          "output_type": "execute_result",
          "data": {
            "text/plain": [
              "1"
            ]
          },
          "metadata": {},
          "execution_count": 3
        }
      ]
    },
    {
      "cell_type": "code",
      "source": [
        "d ={'Ajay':40,'Peter':45}\n",
        "out1 = 'Ajay' in d\n",
        "out2 = 40 in d\n",
        "print(out1, out2)"
      ],
      "metadata": {
        "colab": {
          "base_uri": "https://localhost:8080/"
        },
        "id": "70rL_dB1I_ns",
        "outputId": "49656d18-8825-4a48-d7f7-ada6de98cc68"
      },
      "execution_count": null,
      "outputs": [
        {
          "output_type": "stream",
          "name": "stdout",
          "text": [
            "True False\n"
          ]
        }
      ]
    },
    {
      "cell_type": "code",
      "source": [
        "mylist =[\"wow!\",\"#4678\",\"hello\",\"Good Morning\",\"890\"]\n",
        "l= [n for n in mylist if n.isalpha() or n.isdigit()]\n",
        "print(l)"
      ],
      "metadata": {
        "colab": {
          "base_uri": "https://localhost:8080/"
        },
        "id": "PHJ9vxezKZ4M",
        "outputId": "a0764aa3-4798-49a0-9f4d-57000558071b"
      },
      "execution_count": null,
      "outputs": [
        {
          "output_type": "stream",
          "name": "stdout",
          "text": [
            "['hello', '890']\n"
          ]
        }
      ]
    },
    {
      "cell_type": "code",
      "source": [
        "def find_smallest_missing(arr):\n",
        "  # Check if the first element is 0, if not return 0\n",
        "  if arr[0] != 0:\n",
        "    return 0\n",
        "  # Iterate through the array\n",
        "  for i in range(1, len(arr)):\n",
        "    # If the difference between the current element and the previous element is more than 1,\n",
        "    # return the missing value\n",
        "    if arr[i] - arr[i-1] > 1:\n",
        "      return arr[i-1] + 1\n",
        "  # If all elements are present, return the next value\n",
        "  return arr[-1] + 1\n",
        "\n",
        "# Test the function with different arrays\n",
        "print(find_smallest_missing([0, 1, 2, 3, 4, 5, 6]))  # 7\n",
        "# print(find_smallest_missing([1, 2, 3, 4, 6, 9, 11, 15]))  # 0\n",
        "# print(find_smallest_missing([0, 1, 2, 3, 4, 5, 6, 8]))  # 7\n",
        "# print(find_smallest_missing([1, 2, 3, 4, 5, 6]))  # 0\n",
        "# print(find_smallest_missing([0, 1, 2, 3, 4, 5, 6, 7, 9]))  # 8\n"
      ],
      "metadata": {
        "colab": {
          "base_uri": "https://localhost:8080/"
        },
        "id": "RaoESpTBLNXG",
        "outputId": "f5b71b5a-33f3-44dd-ee04-dcb8cc33f2b1"
      },
      "execution_count": null,
      "outputs": [
        {
          "output_type": "stream",
          "name": "stdout",
          "text": [
            "7\n"
          ]
        }
      ]
    },
    {
      "cell_type": "code",
      "source": [
        "def transpose(matrix):\n",
        "  result=None\n",
        "  rows, cols= [int(x) for x in input().split()]\n",
        "  matrix =[]\n",
        "  for i in range(rows):\n",
        "    x= list(map(int,input().split()))\n",
        "    matrix.append(x)\n",
        "\n",
        "  result= transpose(matrix)\n",
        "  return result\n"
      ],
      "metadata": {
        "id": "p094Z0uOMHhJ"
      },
      "execution_count": null,
      "outputs": []
    },
    {
      "cell_type": "code",
      "source": [
        "# Read the number of rows and columns\n",
        "rows, cols = [int(x) for x in input().split()]\n",
        "\n",
        "# Create the original matrix\n",
        "matrix = []\n",
        "for i in range(rows):\n",
        "  matrix.append([int(x) for x in input().split()])\n",
        "\n",
        "# Create the transposed matrix with the number of rows and columns switched\n",
        "transposed_matrix = [[0 for j in range(rows)] for i in range(cols)]\n",
        "\n",
        "# Iterate through the original matrix and copy the elements to the transposed matrix\n",
        "for i in range(rows):\n",
        "  for j in range(cols):\n",
        "    transposed_matrix[j][i] = matrix[i][j]\n",
        "\n",
        "# Print the transposed matrix\n",
        "for row in transposed_matrix:\n",
        "  print(row)\n"
      ],
      "metadata": {
        "colab": {
          "base_uri": "https://localhost:8080/",
          "height": 166
        },
        "id": "TMd8Lf14TXIE",
        "outputId": "ec4f1699-5857-4823-cf33-12b94844e82e"
      },
      "execution_count": null,
      "outputs": [
        {
          "output_type": "error",
          "ename": "NameError",
          "evalue": "ignored",
          "traceback": [
            "\u001b[0;31m---------------------------------------------------------------------------\u001b[0m",
            "\u001b[0;31mNameError\u001b[0m                                 Traceback (most recent call last)",
            "\u001b[0;32m<ipython-input-16-b8d0be382854>\u001b[0m in \u001b[0;36m<module>\u001b[0;34m\u001b[0m\n\u001b[0;32m----> 1\u001b[0;31m \u001b[0mtranspose\u001b[0m\u001b[0;34m(\u001b[0m\u001b[0mmatrix\u001b[0m\u001b[0;34m)\u001b[0m\u001b[0;34m\u001b[0m\u001b[0;34m\u001b[0m\u001b[0m\n\u001b[0m",
            "\u001b[0;31mNameError\u001b[0m: name 'matrix' is not defined"
          ]
        }
      ]
    },
    {
      "cell_type": "code",
      "source": [
        "\n",
        "def transpose(A):\n",
        " \n",
        " for i in range(N):\n",
        "  for j in range(i+1, N):\n",
        "   A[i][j], A[j][i] = A[j][i], A[i][j]"
      ],
      "metadata": {
        "id": "oRycpa70TZ9p"
      },
      "execution_count": null,
      "outputs": []
    }
  ]
}