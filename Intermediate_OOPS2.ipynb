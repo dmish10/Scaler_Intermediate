{
  "nbformat": 4,
  "nbformat_minor": 0,
  "metadata": {
    "colab": {
      "provenance": [],
      "authorship_tag": "ABX9TyMfcrgpigNscBQgUEtaxC+l",
      "include_colab_link": true
    },
    "kernelspec": {
      "name": "python3",
      "display_name": "Python 3"
    },
    "language_info": {
      "name": "python"
    }
  },
  "cells": [
    {
      "cell_type": "markdown",
      "metadata": {
        "id": "view-in-github",
        "colab_type": "text"
      },
      "source": [
        "<a href=\"https://colab.research.google.com/github/dmish10/Scaler_Intermediate/blob/main/Intermediate_OOPS2.ipynb\" target=\"_parent\"><img src=\"https://colab.research.google.com/assets/colab-badge.svg\" alt=\"Open In Colab\"/></a>"
      ]
    },
    {
      "cell_type": "markdown",
      "source": [
        "Examples of dunders between __init__ and __del__"
      ],
      "metadata": {
        "id": "ftuGNB7T1gvg"
      }
    },
    {
      "cell_type": "code",
      "execution_count": 1,
      "metadata": {
        "id": "-rT4nNAJ1ZdV"
      },
      "outputs": [],
      "source": [
        "class Car:\n",
        "  def __init__(self,name,mileage):\n",
        "    self.name= name\n",
        "    self.mileage = mileage"
      ]
    },
    {
      "cell_type": "code",
      "source": [
        "c1 = Car(\"nexon\", 12)\n",
        "c2 = Car(\"ciaz\",15)"
      ],
      "metadata": {
        "id": "Wr9oPM7y1yl1"
      },
      "execution_count": 2,
      "outputs": []
    },
    {
      "cell_type": "code",
      "source": [
        "c1.name"
      ],
      "metadata": {
        "colab": {
          "base_uri": "https://localhost:8080/",
          "height": 35
        },
        "id": "_ufHtKgB35Bp",
        "outputId": "ae8d149a-f023-4422-a60f-7c784cf53089"
      },
      "execution_count": 3,
      "outputs": [
        {
          "output_type": "execute_result",
          "data": {
            "text/plain": [
              "'nexon'"
            ],
            "application/vnd.google.colaboratory.intrinsic+json": {
              "type": "string"
            }
          },
          "metadata": {},
          "execution_count": 3
        }
      ]
    },
    {
      "cell_type": "code",
      "source": [
        "#but what if we want to get name -->mileage details together\n",
        "class Car:\n",
        "  def __init__(self,name,mileage):\n",
        "    self.name = name\n",
        "    self.mileage = mileage\n",
        "\n",
        "  def __str__(self):\n",
        "    return f\"{self.name} --> {self.mileage}\""
      ],
      "metadata": {
        "id": "4qEurSrZ376Q"
      },
      "execution_count": 4,
      "outputs": []
    },
    {
      "cell_type": "code",
      "source": [
        "c1 = Car(\"nexon\", 12)\n",
        "c2 = Car(\"ciaz\",15)"
      ],
      "metadata": {
        "id": "D_bm9NGq4nHv"
      },
      "execution_count": 6,
      "outputs": []
    },
    {
      "cell_type": "code",
      "source": [
        "print(c1)"
      ],
      "metadata": {
        "colab": {
          "base_uri": "https://localhost:8080/"
        },
        "id": "F69pjpna4rTv",
        "outputId": "e197ea13-da7e-48a6-b736-5ab53ec1d273"
      },
      "execution_count": 7,
      "outputs": [
        {
          "output_type": "stream",
          "name": "stdout",
          "text": [
            "nexon --> 12\n"
          ]
        }
      ]
    },
    {
      "cell_type": "code",
      "source": [
        "{3,4} + {5,7}"
      ],
      "metadata": {
        "colab": {
          "base_uri": "https://localhost:8080/",
          "height": 166
        },
        "id": "USagd_vs4yYM",
        "outputId": "f0092095-c473-4d6b-89e1-f68b832ae43c"
      },
      "execution_count": 8,
      "outputs": [
        {
          "output_type": "error",
          "ename": "TypeError",
          "evalue": "ignored",
          "traceback": [
            "\u001b[0;31m---------------------------------------------------------------------------\u001b[0m",
            "\u001b[0;31mTypeError\u001b[0m                                 Traceback (most recent call last)",
            "\u001b[0;32m<ipython-input-8-ca781fba74b0>\u001b[0m in \u001b[0;36m<module>\u001b[0;34m\u001b[0m\n\u001b[0;32m----> 1\u001b[0;31m \u001b[0;34m{\u001b[0m\u001b[0;36m3\u001b[0m\u001b[0;34m,\u001b[0m\u001b[0;36m4\u001b[0m\u001b[0;34m}\u001b[0m \u001b[0;34m+\u001b[0m \u001b[0;34m{\u001b[0m\u001b[0;36m5\u001b[0m\u001b[0;34m,\u001b[0m\u001b[0;36m7\u001b[0m\u001b[0;34m}\u001b[0m\u001b[0;34m\u001b[0m\u001b[0;34m\u001b[0m\u001b[0m\n\u001b[0m",
            "\u001b[0;31mTypeError\u001b[0m: unsupported operand type(s) for +: 'set' and 'set'"
          ]
        }
      ]
    },
    {
      "cell_type": "code",
      "source": [
        "'''The curly braces {} in Python are used to create sets. A set is an unordered collection of unique elements. In the example, {3, 4} and {5, 7} are sets containing the elements 3, 4 and 5, 7 respectively.\n",
        "\n",
        "On the other hand, curly braces {} are also used to create empty dictionaries in python. But when you use it with comma separated elements inside, Python will consider it as a set.\n",
        "\n",
        "The + operator is used to concatenate sets together, resulting in a new set that contains all the elements from both sets. In the example, {3, 4} + {5, 7} is not a valid operation, you should use union operator | or the method union() to concatenate sets.\n",
        "\n",
        "'''"
      ],
      "metadata": {
        "colab": {
          "base_uri": "https://localhost:8080/",
          "height": 105
        },
        "id": "PsRGUZdj6j6f",
        "outputId": "edef46af-0a51-4b03-b230-b4c12d200b33"
      },
      "execution_count": 9,
      "outputs": [
        {
          "output_type": "execute_result",
          "data": {
            "text/plain": [
              "'The curly braces {} in Python are used to create sets. A set is an unordered collection of unique elements. In the example, {3, 4} and {5, 7} are sets containing the elements 3, 4 and 5, 7 respectively.\\n\\nOn the other hand, curly braces {} are also used to create empty dictionaries in python. But when you use it with comma separated elements inside, Python will consider it as a set.\\n\\nThe + operator is used to concatenate sets together, resulting in a new set that contains all the elements from both sets. In the example, {3, 4} + {5, 7} is not a valid operation, you should use union operator | or the method union() to concatenate sets.\\n\\n'"
            ],
            "application/vnd.google.colaboratory.intrinsic+json": {
              "type": "string"
            }
          },
          "metadata": {},
          "execution_count": 9
        }
      ]
    },
    {
      "cell_type": "code",
      "source": [
        "#what if we want to add the objects c1 & c2\n",
        "class Car:\n",
        "  def __init__(self,name,mileage):\n",
        "    self.name = name\n",
        "    self.mileage = mileage\n",
        "\n",
        "  def __str__(self):\n",
        "    return f\"{self.name} --> {self.mileage}\"\n",
        "\n",
        "  # def __add__(self, other):\n",
        "  #   return self.name + other.name\n",
        "\n",
        "  def __add__(self,other1):\n",
        "    return self.mileage + other1.mileage\n",
        "#sent the two objects c1 & c2 as arguments - one as self and other as other\n",
        "\n",
        "  def __call__(self):\n",
        "    return \"i just got called!\""
      ],
      "metadata": {
        "id": "ByIvp0oN7ABv"
      },
      "execution_count": 30,
      "outputs": []
    },
    {
      "cell_type": "code",
      "source": [
        "c1 = Car(\"nexon\", 12)\n",
        "c2 = Car(\"ciaz\",15)"
      ],
      "metadata": {
        "id": "T7XLWYYA76Ny"
      },
      "execution_count": 32,
      "outputs": []
    },
    {
      "cell_type": "code",
      "source": [
        "c1 + c2 \n",
        "#internally its getting called as Car.__add__(c1,c2)"
      ],
      "metadata": {
        "colab": {
          "base_uri": "https://localhost:8080/"
        },
        "id": "PmesIV3D77gY",
        "outputId": "e626f75f-f162-4437-84f9-18edcd18699b"
      },
      "execution_count": 29,
      "outputs": [
        {
          "output_type": "execute_result",
          "data": {
            "text/plain": [
              "27"
            ]
          },
          "metadata": {},
          "execution_count": 29
        }
      ]
    },
    {
      "cell_type": "code",
      "source": [
        "Car.__add__(c1,c2)"
      ],
      "metadata": {
        "colab": {
          "base_uri": "https://localhost:8080/"
        },
        "id": "uAXE0i7E8vIW",
        "outputId": "795eb6e4-831c-485f-e98c-e5c8d5fb4e34"
      },
      "execution_count": 25,
      "outputs": [
        {
          "output_type": "execute_result",
          "data": {
            "text/plain": [
              "27"
            ]
          },
          "metadata": {},
          "execution_count": 25
        }
      ]
    },
    {
      "cell_type": "code",
      "source": [
        "c1() #__call__ dunder gets invoked"
      ],
      "metadata": {
        "colab": {
          "base_uri": "https://localhost:8080/",
          "height": 35
        },
        "id": "PBge1Y8mAXhj",
        "outputId": "a5d96c03-163c-4733-8de7-978c23ee8500"
      },
      "execution_count": 34,
      "outputs": [
        {
          "output_type": "execute_result",
          "data": {
            "text/plain": [
              "'i just got called!'"
            ],
            "application/vnd.google.colaboratory.intrinsic+json": {
              "type": "string"
            }
          },
          "metadata": {},
          "execution_count": 34
        }
      ]
    },
    {
      "cell_type": "code",
      "source": [
        "class BankAccount:\n",
        "  def __init__(self,initial_balance):\n",
        "    self.balance =initial_balance\n",
        "  \n",
        "  def deposit(self,amount):\n",
        "    self.balance += amount\n",
        "\n",
        "  def withdraw(self,amount):\n",
        "    self.balance -= amount"
      ],
      "metadata": {
        "id": "XAeJ-SoQF049"
      },
      "execution_count": 35,
      "outputs": []
    },
    {
      "cell_type": "code",
      "source": [
        "b1 =BankAccount(10000)"
      ],
      "metadata": {
        "id": "5qb12vj4NQmo"
      },
      "execution_count": 36,
      "outputs": []
    },
    {
      "cell_type": "code",
      "source": [
        "b1.balance"
      ],
      "metadata": {
        "colab": {
          "base_uri": "https://localhost:8080/"
        },
        "id": "RF7Az14fNhG9",
        "outputId": "7e143cfb-a11b-40f0-aa4a-ccfc9aaf4152"
      },
      "execution_count": 37,
      "outputs": [
        {
          "output_type": "execute_result",
          "data": {
            "text/plain": [
              "10000"
            ]
          },
          "metadata": {},
          "execution_count": 37
        }
      ]
    },
    {
      "cell_type": "code",
      "source": [
        "b1.deposit(5000)\n"
      ],
      "metadata": {
        "id": "qxYp7v5ZNjE6"
      },
      "execution_count": 40,
      "outputs": []
    },
    {
      "cell_type": "code",
      "source": [
        "b1.balance"
      ],
      "metadata": {
        "colab": {
          "base_uri": "https://localhost:8080/"
        },
        "id": "mmSZvJcQNpNl",
        "outputId": "1f5bc364-d929-4e63-fcaf-4716a61e4644"
      },
      "execution_count": 41,
      "outputs": [
        {
          "output_type": "execute_result",
          "data": {
            "text/plain": [
              "15000"
            ]
          },
          "metadata": {},
          "execution_count": 41
        }
      ]
    },
    {
      "cell_type": "code",
      "source": [
        "b1.withdraw(7000)"
      ],
      "metadata": {
        "id": "nM45G9zmN0Eb"
      },
      "execution_count": 42,
      "outputs": []
    },
    {
      "cell_type": "code",
      "source": [
        "b1.balance"
      ],
      "metadata": {
        "colab": {
          "base_uri": "https://localhost:8080/"
        },
        "id": "FW6WZRIdN2lb",
        "outputId": "3b29eb8f-dd02-43d8-a836-bd9437091011"
      },
      "execution_count": 43,
      "outputs": [
        {
          "output_type": "execute_result",
          "data": {
            "text/plain": [
              "8000"
            ]
          },
          "metadata": {},
          "execution_count": 43
        }
      ]
    },
    {
      "cell_type": "code",
      "source": [
        "#but we can also change the property 'balance' of the object 'b1' since its public\n",
        "b1.balance = 12345678990"
      ],
      "metadata": {
        "id": "FWrzK38AN4GD"
      },
      "execution_count": 44,
      "outputs": []
    },
    {
      "cell_type": "code",
      "source": [
        "b1.balance"
      ],
      "metadata": {
        "colab": {
          "base_uri": "https://localhost:8080/"
        },
        "id": "zhsT2-_3O3ax",
        "outputId": "1f093f2f-adf8-429f-8648-d36aca3c4d24"
      },
      "execution_count": 45,
      "outputs": [
        {
          "output_type": "execute_result",
          "data": {
            "text/plain": [
              "12345678990"
            ]
          },
          "metadata": {},
          "execution_count": 45
        }
      ]
    },
    {
      "cell_type": "code",
      "source": [
        "#in order to avoid this, we have to make the property private. a private property is not accessible by the object of the class \n",
        "#but it can be accessed by functions defined within the body of the class so only accessible within class definition\n",
        "#in below code, we want to modify the balance using deposit and withdraw functions but do not want property'balance' to be accessed directly by object 'b1'\n",
        "#so we make balance private by adding double underscores infront."
      ],
      "metadata": {
        "id": "bEZ8DQ4tO5Y_"
      },
      "execution_count": 46,
      "outputs": []
    },
    {
      "cell_type": "code",
      "source": [
        "class BankAccount:\n",
        "  def __init__(self,initial_balance):\n",
        "    self.__balance =initial_balance #balance is now a private property\n",
        "  \n",
        "  #setter functions\n",
        "  def deposit(self,amount):\n",
        "    self.__balance += amount\n",
        "\n",
        "  def withdraw(self,amount):\n",
        "    self.__balance -= amount\n",
        "\n",
        "  #getter function\n",
        "  def show_balance(self):\n",
        "    return self.__balance"
      ],
      "metadata": {
        "id": "9P3y1wAvPnkw"
      },
      "execution_count": 61,
      "outputs": []
    },
    {
      "cell_type": "code",
      "source": [
        "b2= BankAccount(100000)"
      ],
      "metadata": {
        "id": "rhZnjo6vQUMr"
      },
      "execution_count": 62,
      "outputs": []
    },
    {
      "cell_type": "code",
      "source": [
        "b2.__balance #doesn't allow b2 (object) to access since balance is private"
      ],
      "metadata": {
        "colab": {
          "base_uri": "https://localhost:8080/",
          "height": 131
        },
        "id": "c7yVE6vKQdhH",
        "outputId": "f4292a4c-e8eb-4aca-e74e-0ee1dcdc3c28"
      },
      "execution_count": 50,
      "outputs": [
        {
          "output_type": "error",
          "ename": "SyntaxError",
          "evalue": "ignored",
          "traceback": [
            "\u001b[0;36m  File \u001b[0;32m\"<ipython-input-50-a6cad7812248>\"\u001b[0;36m, line \u001b[0;32m1\u001b[0m\n\u001b[0;31m    b2.__balance. #doesn't allow b2 (object) to access since balance is private\u001b[0m\n\u001b[0m                  ^\u001b[0m\n\u001b[0;31mSyntaxError\u001b[0m\u001b[0;31m:\u001b[0m invalid syntax\n"
          ]
        }
      ]
    },
    {
      "cell_type": "code",
      "source": [
        "b2.show_balance(). #created another custom function to show the private property balance using object"
      ],
      "metadata": {
        "colab": {
          "base_uri": "https://localhost:8080/"
        },
        "id": "Q3KamxeIQfHP",
        "outputId": "6d32ce7e-804c-4d3c-ddf7-649288fb5734"
      },
      "execution_count": 63,
      "outputs": [
        {
          "output_type": "execute_result",
          "data": {
            "text/plain": [
              "100000"
            ]
          },
          "metadata": {},
          "execution_count": 63
        }
      ]
    },
    {
      "cell_type": "code",
      "source": [
        "#however if b2.__balance was called inside the class as in using print function,python would allow to print the balance but not allowed out side the class"
      ],
      "metadata": {
        "id": "JTBG3NOIWmEI"
      },
      "execution_count": 67,
      "outputs": []
    },
    {
      "cell_type": "code",
      "source": [
        "#so how private works is when python was asked to make balance private by creating '__balance' variable it instead created '_BankAccount__balance' to \n",
        "#avoid being accessed directly, so when we try to access '_BankAccount__balance' it shows the balance. "
      ],
      "metadata": {
        "id": "soPeZp3VRJhT"
      },
      "execution_count": 64,
      "outputs": []
    },
    {
      "cell_type": "code",
      "source": [
        "b2._BankAccount__balance  #name mangling in python"
      ],
      "metadata": {
        "colab": {
          "base_uri": "https://localhost:8080/"
        },
        "id": "vfVm-jAsVUVn",
        "outputId": "9a97a3d2-ff5a-448a-bfee-851d958c6ccb"
      },
      "execution_count": 66,
      "outputs": [
        {
          "output_type": "execute_result",
          "data": {
            "text/plain": [
              "100000"
            ]
          },
          "metadata": {},
          "execution_count": 66
        }
      ]
    },
    {
      "cell_type": "code",
      "source": [
        "#since 'b2._BankAccount__balance' is how python creates the variable internally so this variable also modifiable. in case, the class names of a systems \n",
        "#are not kept confidential, the system can be hacked as shown below"
      ],
      "metadata": {
        "id": "az0HYcCkVYK0"
      },
      "execution_count": 68,
      "outputs": []
    },
    {
      "cell_type": "code",
      "source": [
        "b2._BankAccount__balance =123455667788990076543322553"
      ],
      "metadata": {
        "id": "jW3FAVLLXx_8"
      },
      "execution_count": 69,
      "outputs": []
    },
    {
      "cell_type": "code",
      "source": [
        "b2.show_balance()"
      ],
      "metadata": {
        "colab": {
          "base_uri": "https://localhost:8080/"
        },
        "id": "unqjRw0qX26T",
        "outputId": "c81c8e1e-0a88-45c7-9cb9-51928644b58c"
      },
      "execution_count": 70,
      "outputs": [
        {
          "output_type": "execute_result",
          "data": {
            "text/plain": [
              "123455667788990076543322553"
            ]
          },
          "metadata": {},
          "execution_count": 70
        }
      ]
    },
    {
      "cell_type": "code",
      "source": [
        "dir(b2) #dir displays all the variables, dunders and custom functions defined or available for this object"
      ],
      "metadata": {
        "colab": {
          "base_uri": "https://localhost:8080/"
        },
        "id": "znzXo3Z8X5F2",
        "outputId": "f5846d14-de84-4ac2-e289-4cb67fc5a9b5"
      },
      "execution_count": 71,
      "outputs": [
        {
          "output_type": "execute_result",
          "data": {
            "text/plain": [
              "['_BankAccount__balance',\n",
              " '__class__',\n",
              " '__delattr__',\n",
              " '__dict__',\n",
              " '__dir__',\n",
              " '__doc__',\n",
              " '__eq__',\n",
              " '__format__',\n",
              " '__ge__',\n",
              " '__getattribute__',\n",
              " '__gt__',\n",
              " '__hash__',\n",
              " '__init__',\n",
              " '__init_subclass__',\n",
              " '__le__',\n",
              " '__lt__',\n",
              " '__module__',\n",
              " '__ne__',\n",
              " '__new__',\n",
              " '__reduce__',\n",
              " '__reduce_ex__',\n",
              " '__repr__',\n",
              " '__setattr__',\n",
              " '__sizeof__',\n",
              " '__str__',\n",
              " '__subclasshook__',\n",
              " '__weakref__',\n",
              " 'deposit',\n",
              " 'show_balance',\n",
              " 'withdraw']"
            ]
          },
          "metadata": {},
          "execution_count": 71
        }
      ]
    },
    {
      "cell_type": "markdown",
      "source": [
        "INHERITANCE"
      ],
      "metadata": {
        "id": "kRvsyh9jeWtr"
      }
    },
    {
      "cell_type": "code",
      "source": [
        "class SchoolMember:  #parent \n",
        "  def __init__(self, name):\n",
        "    self.name= name\n",
        "\n",
        "class Student(SchoolMember): #child of SchoolMember, name inherited from parent but roll no its own property\n",
        "  def __init__(self,name,roll_no):\n",
        "    self.roll_no =roll_no\n",
        "\n",
        "class Staff(SchoolMember): #child of SchoolMember , name has been inherited from parent but salary is its own property\n",
        "  def __init__(self,name, salary):\n",
        "    self.salary = salary\n",
        "\n",
        "class Teacher(Staff): #child of Staff, name,salary have been inherited from parent but deptt is its own property\n",
        "  def __init__(self, name, salary, deptt):\n",
        "    self.deptt = deptt\n",
        "  "
      ],
      "metadata": {
        "id": "1eyOEpf5eblt"
      },
      "execution_count": 75,
      "outputs": []
    },
    {
      "cell_type": "code",
      "source": [
        "t1 = Teacher(\"Shikha\", 10000, \"Data Science\")"
      ],
      "metadata": {
        "id": "I8yra8ttewm8"
      },
      "execution_count": 76,
      "outputs": []
    },
    {
      "cell_type": "code",
      "source": [
        "t1.deptt"
      ],
      "metadata": {
        "colab": {
          "base_uri": "https://localhost:8080/",
          "height": 35
        },
        "id": "C6K8_nObi0T8",
        "outputId": "e1ce23aa-01a9-46a7-8af4-64e4e779e01f"
      },
      "execution_count": 77,
      "outputs": [
        {
          "output_type": "execute_result",
          "data": {
            "text/plain": [
              "'Data Science'"
            ],
            "application/vnd.google.colaboratory.intrinsic+json": {
              "type": "string"
            }
          },
          "metadata": {},
          "execution_count": 77
        }
      ]
    },
    {
      "cell_type": "code",
      "source": [
        "#but if i ask for name & salary it will throw error since the parent class variables haven't been initialised"
      ],
      "metadata": {
        "id": "pNdfm0b_i5IU"
      },
      "execution_count": 80,
      "outputs": []
    },
    {
      "cell_type": "code",
      "source": [
        "t1.name"
      ],
      "metadata": {
        "colab": {
          "base_uri": "https://localhost:8080/",
          "height": 166
        },
        "id": "GBLPDSdGjTvl",
        "outputId": "f9b23e3c-755a-4045-dd8c-2ab3599e1ad4"
      },
      "execution_count": 79,
      "outputs": [
        {
          "output_type": "error",
          "ename": "AttributeError",
          "evalue": "ignored",
          "traceback": [
            "\u001b[0;31m---------------------------------------------------------------------------\u001b[0m",
            "\u001b[0;31mAttributeError\u001b[0m                            Traceback (most recent call last)",
            "\u001b[0;32m<ipython-input-79-cf7fcdab4726>\u001b[0m in \u001b[0;36m<module>\u001b[0;34m\u001b[0m\n\u001b[0;32m----> 1\u001b[0;31m \u001b[0mt1\u001b[0m\u001b[0;34m.\u001b[0m\u001b[0mname\u001b[0m\u001b[0;34m\u001b[0m\u001b[0;34m\u001b[0m\u001b[0m\n\u001b[0m",
            "\u001b[0;31mAttributeError\u001b[0m: 'Teacher' object has no attribute 'name'"
          ]
        }
      ]
    },
    {
      "cell_type": "code",
      "source": [
        "#so to initialise the parent class we call the init function of the parent class as shown below"
      ],
      "metadata": {
        "id": "EA5DeF2YjVJV"
      },
      "execution_count": 81,
      "outputs": []
    },
    {
      "cell_type": "code",
      "source": [
        "class SchoolMember:  #parent \n",
        "  def __init__(self, name):\n",
        "    self.name= name\n",
        "\n",
        "\n",
        "class Student(SchoolMember): #child of SchoolMember\n",
        "  def __init__(self,name,roll_no):\n",
        "    self.roll_no =roll_no\n",
        "\n",
        "    SchoolMember.__init__(self, name) #calling init function of parent class to initialise for parent variables.\n",
        "    #super().__init__(name) \n",
        "\n",
        "class Staff(SchoolMember): #child of SchoolMember \n",
        "  def __init__(self,name, salary):\n",
        "    self.salary = salary\n",
        "\n",
        "    SchoolMember.__init__(self,name)\n",
        "    #super().__init__(name)\n",
        "\n",
        "class Teacher(Staff): #child of Staff, name,salary have been inherited from parent but deptt is its own property\n",
        "  def __init__(self, name, salary, deptt):\n",
        "    self.deptt = deptt\n",
        "\n",
        "    # Staff.__init__(self,name,salary)\n",
        "    super().__init__(name, salary) #super allows to refer to the immediate parent class (staff in this case) & self is not necessary to mention\n"
      ],
      "metadata": {
        "id": "hhNVZq-UkIei"
      },
      "execution_count": 98,
      "outputs": []
    },
    {
      "cell_type": "code",
      "source": [
        "t2= Teacher(\"Ayesha\",90000, \"journogiri\")"
      ],
      "metadata": {
        "id": "ysthfModlDhv"
      },
      "execution_count": 99,
      "outputs": []
    },
    {
      "cell_type": "code",
      "source": [
        "t2.name"
      ],
      "metadata": {
        "colab": {
          "base_uri": "https://localhost:8080/",
          "height": 35
        },
        "id": "a9ZrlWDAlMnq",
        "outputId": "a368c4a3-5a28-4c31-83bd-b5336851bb6f"
      },
      "execution_count": 101,
      "outputs": [
        {
          "output_type": "execute_result",
          "data": {
            "text/plain": [
              "'Ayesha'"
            ],
            "application/vnd.google.colaboratory.intrinsic+json": {
              "type": "string"
            }
          },
          "metadata": {},
          "execution_count": 101
        }
      ]
    },
    {
      "cell_type": "markdown",
      "source": [
        "MULTIPLE INHERITANCES"
      ],
      "metadata": {
        "id": "nvIl9Nke_-nn"
      }
    },
    {
      "cell_type": "code",
      "source": [
        "class Father:\n",
        "  def __init__(self,x):\n",
        "    self.x = x\n",
        "class Mother:\n",
        "  def __init__(self,y):\n",
        "    self.y = y\n",
        "\n",
        "class Child(Mother,Father):\n",
        "  def __init__(self,x,y,z):\n",
        "    self.z = z\n",
        "\n",
        "    #super will not work; super() method is to initialize the x and y attributes inherited from the Father and Mother class.\n",
        "    #throw TypeError: __init__() takes 2 positional arguments but 3 were given when Child funtion is invoked as Child(5,6,7)\n",
        "    #so we use the parent name to call the object\n",
        "    \n",
        "    # Father.__init__(self,x)\n",
        "    # Mother.__init__(self,y)\n",
        "    \n",
        "    #but super does work when the attributes initialised separately\n",
        "    super().__init__(x)\n",
        "    super().__init__(y)\n"
      ],
      "metadata": {
        "id": "ceYbRfYrABy6"
      },
      "execution_count": 21,
      "outputs": []
    },
    {
      "cell_type": "code",
      "source": [
        "C2= Child(5,6,7)"
      ],
      "metadata": {
        "id": "7lvmPhEcABrZ"
      },
      "execution_count": 23,
      "outputs": []
    },
    {
      "cell_type": "code",
      "source": [
        "C2.z"
      ],
      "metadata": {
        "colab": {
          "base_uri": "https://localhost:8080/"
        },
        "id": "KWdLHrvpFCH9",
        "outputId": "12dc3f66-e80a-43a2-8832-e2cadf620eab"
      },
      "execution_count": 24,
      "outputs": [
        {
          "output_type": "execute_result",
          "data": {
            "text/plain": [
              "7"
            ]
          },
          "metadata": {},
          "execution_count": 24
        }
      ]
    },
    {
      "cell_type": "code",
      "source": [
        "class Father:\n",
        "  def __init__(self,x):\n",
        "    self.x = x\n",
        "class Mother:\n",
        "  def __init__(self,y):\n",
        "    self.y = y\n",
        "\n",
        "class Child(Mother,Father):\n",
        "  def __init__(self,x,y,z):\n",
        "    self.z = z\n",
        "\n",
        "    # super().__init__(x,y)  \n",
        "    #super will not work with x & y together; super() method is to initialize the x and y attributes inherited from the Father and Mother class.\n",
        "    #throw TypeError: __init__() takes 2 positional arguments but 3 were given when Child funtion is invoked as Child(5,6,7)\n",
        "    #so we use the parent name to call the object\n",
        "    \n",
        "    Father.__init__(self,x)\n",
        "    Mother.__init__(self,y)"
      ],
      "metadata": {
        "id": "0FrZ-xQQABoK"
      },
      "execution_count": 15,
      "outputs": []
    },
    {
      "cell_type": "code",
      "source": [
        "c1= Child(5,6,7)"
      ],
      "metadata": {
        "id": "iwZPSPB8ABk_"
      },
      "execution_count": 17,
      "outputs": []
    },
    {
      "cell_type": "code",
      "source": [
        "c1.x"
      ],
      "metadata": {
        "colab": {
          "base_uri": "https://localhost:8080/"
        },
        "id": "liWJypiFABYC",
        "outputId": "61043407-4532-4ab8-bdaf-5712f43368d0"
      },
      "execution_count": 18,
      "outputs": [
        {
          "output_type": "execute_result",
          "data": {
            "text/plain": [
              "5"
            ]
          },
          "metadata": {},
          "execution_count": 18
        }
      ]
    },
    {
      "cell_type": "code",
      "source": [
        "c1.y"
      ],
      "metadata": {
        "colab": {
          "base_uri": "https://localhost:8080/"
        },
        "id": "xLYT4NPJDkig",
        "outputId": "a6cc4b41-6562-4091-eee8-f81a266ec641"
      },
      "execution_count": 19,
      "outputs": [
        {
          "output_type": "execute_result",
          "data": {
            "text/plain": [
              "6"
            ]
          },
          "metadata": {},
          "execution_count": 19
        }
      ]
    },
    {
      "cell_type": "code",
      "source": [
        "c1.z"
      ],
      "metadata": {
        "colab": {
          "base_uri": "https://localhost:8080/"
        },
        "id": "XiNnmMV2Dldn",
        "outputId": "bd0d7efb-09ea-47b6-a645-e6e80d0ac083"
      },
      "execution_count": 20,
      "outputs": [
        {
          "output_type": "execute_result",
          "data": {
            "text/plain": [
              "7"
            ]
          },
          "metadata": {},
          "execution_count": 20
        }
      ]
    },
    {
      "cell_type": "markdown",
      "source": [
        "DIAMOND INHERITANCE"
      ],
      "metadata": {
        "id": "7XP9ZScWF0Kj"
      }
    },
    {
      "cell_type": "code",
      "source": [
        "class A:\n",
        "  pass\n",
        "\n",
        "class B(A):\n",
        "  pass\n",
        "\n",
        "class C(B):\n",
        "  x=10\n",
        "\n",
        "class D(A):\n",
        "  x=5\n",
        "\n",
        "class E(C,D):\n",
        "  pass"
      ],
      "metadata": {
        "id": "5eZaxFXRDlPD"
      },
      "execution_count": 26,
      "outputs": []
    },
    {
      "cell_type": "code",
      "source": [
        "e= E()"
      ],
      "metadata": {
        "id": "nT55O0AWDkUD"
      },
      "execution_count": 30,
      "outputs": []
    },
    {
      "cell_type": "code",
      "source": [
        "e.x"
      ],
      "metadata": {
        "colab": {
          "base_uri": "https://localhost:8080/"
        },
        "id": "UutFYL2tDkQ4",
        "outputId": "a0f08b47-2af0-4294-9466-03df81593f09"
      },
      "execution_count": 31,
      "outputs": [
        {
          "output_type": "execute_result",
          "data": {
            "text/plain": [
              "10"
            ]
          },
          "metadata": {},
          "execution_count": 31
        }
      ]
    },
    {
      "cell_type": "code",
      "source": [
        "'''The value of x for an object e of class E would be 10, as it inherits from class C which has a value of x equal to 10. \n",
        "The value of x from class D is not inherited by class E as class C is listed before class D in the inheritance list for class E.'''"
      ],
      "metadata": {
        "colab": {
          "base_uri": "https://localhost:8080/",
          "height": 53
        },
        "id": "w_vPJHEzDjuy",
        "outputId": "b955c2f3-cf8c-446d-e628-83f2fce05edd"
      },
      "execution_count": 32,
      "outputs": [
        {
          "output_type": "execute_result",
          "data": {
            "text/plain": [
              "'The value of x for an object e of class E would be 10, as it inherits from class C which has a value of x equal to 10. \\nThe value of x from class D is not inherited by class E as class C is listed before class D in the inheritance list for class E.'"
            ],
            "application/vnd.google.colaboratory.intrinsic+json": {
              "type": "string"
            }
          },
          "metadata": {},
          "execution_count": 32
        }
      ]
    },
    {
      "cell_type": "code",
      "source": [
        "'''Method Resolution Order'''"
      ],
      "metadata": {
        "colab": {
          "base_uri": "https://localhost:8080/",
          "height": 35
        },
        "id": "-f9-DssqQMgd",
        "outputId": "20b92df5-b3b0-45dc-aacf-815d119b0f77"
      },
      "execution_count": 45,
      "outputs": [
        {
          "output_type": "execute_result",
          "data": {
            "text/plain": [
              "'Method Resolution Order'"
            ],
            "application/vnd.google.colaboratory.intrinsic+json": {
              "type": "string"
            }
          },
          "metadata": {},
          "execution_count": 45
        }
      ]
    },
    {
      "cell_type": "code",
      "source": [
        "E.__mro__"
      ],
      "metadata": {
        "colab": {
          "base_uri": "https://localhost:8080/"
        },
        "id": "zGNvAlenQWjk",
        "outputId": "29262ff7-6b6b-4230-e7a1-9d3668eaddd1"
      },
      "execution_count": 46,
      "outputs": [
        {
          "output_type": "execute_result",
          "data": {
            "text/plain": [
              "(__main__.E, __main__.C, __main__.B, __main__.D, __main__.A, object)"
            ]
          },
          "metadata": {},
          "execution_count": 46
        }
      ]
    },
    {
      "cell_type": "code",
      "source": [
        "#here the order of inheritane for class E involves class C >> class D and even class B >> class D \n",
        "#therefore the value of x is 10"
      ],
      "metadata": {
        "id": "jB9TVRTKQWg3"
      },
      "execution_count": 51,
      "outputs": []
    },
    {
      "cell_type": "code",
      "source": [
        "class A:\n",
        "  pass\n",
        "\n",
        "class B(A):\n",
        "  x=10\n",
        "\n",
        "class C(B):\n",
        "  pass\n",
        "\n",
        "class D(A):\n",
        "  x=5\n",
        "\n",
        "class E(C,D):\n",
        "  pass"
      ],
      "metadata": {
        "id": "XOgKlAc-IRc4"
      },
      "execution_count": 36,
      "outputs": []
    },
    {
      "cell_type": "code",
      "source": [
        "e1= E()"
      ],
      "metadata": {
        "id": "O38K1xJxIRZP"
      },
      "execution_count": 37,
      "outputs": []
    },
    {
      "cell_type": "code",
      "source": [
        "e1.x"
      ],
      "metadata": {
        "colab": {
          "base_uri": "https://localhost:8080/"
        },
        "id": "fsCzXGCoIRSd",
        "outputId": "a7b1f598-120e-4aaa-8137-cfa9b51fba22"
      },
      "execution_count": 38,
      "outputs": [
        {
          "output_type": "execute_result",
          "data": {
            "text/plain": [
              "10"
            ]
          },
          "metadata": {},
          "execution_count": 38
        }
      ]
    },
    {
      "cell_type": "code",
      "source": [
        "E.__mro__ #class B comes first than class D so it inherits first from C then B and then D"
      ],
      "metadata": {
        "colab": {
          "base_uri": "https://localhost:8080/"
        },
        "id": "ssS1AUjMQ_Lp",
        "outputId": "0706db5f-dc80-4581-e57d-e7f85594ee97"
      },
      "execution_count": 50,
      "outputs": [
        {
          "output_type": "execute_result",
          "data": {
            "text/plain": [
              "(__main__.E, __main__.C, __main__.B, __main__.D, __main__.A, object)"
            ]
          },
          "metadata": {},
          "execution_count": 50
        }
      ]
    },
    {
      "cell_type": "code",
      "source": [
        "'''The value of x for an object of class E would be 10, as it first inherits from class C which in turn inherits from class B which has a value of x equal to 10. \n",
        "The value of x from class D is not inherited by class E as class C is listed before class D in the inheritance list for class E'''"
      ],
      "metadata": {
        "colab": {
          "base_uri": "https://localhost:8080/",
          "height": 53
        },
        "id": "pZGTpqHcIRNx",
        "outputId": "c3bc3d9d-0af8-47d3-a6a2-29a2520a27b7"
      },
      "execution_count": 39,
      "outputs": [
        {
          "output_type": "execute_result",
          "data": {
            "text/plain": [
              "'The value of x for an object of class E would be 10, as it first inherits from class C which in turn inherits from class B which has a value of x equal to 10. \\nThe value of x from class D is not inherited by class E as class C is listed before class D in the inheritance list for class E'"
            ],
            "application/vnd.google.colaboratory.intrinsic+json": {
              "type": "string"
            }
          },
          "metadata": {},
          "execution_count": 39
        }
      ]
    },
    {
      "cell_type": "code",
      "source": [
        "class A:\n",
        "  x=10\n",
        "\n",
        "class B(A):\n",
        "  pass\n",
        "\n",
        "class C(B):\n",
        "  pass\n",
        "\n",
        "class D(A):\n",
        "  x=5\n",
        "\n",
        "class E(C,D):\n",
        "  pass"
      ],
      "metadata": {
        "id": "1dkG12NKI00c"
      },
      "execution_count": 40,
      "outputs": []
    },
    {
      "cell_type": "code",
      "source": [
        "e2= E()"
      ],
      "metadata": {
        "id": "5268iZqoI0gV"
      },
      "execution_count": 41,
      "outputs": []
    },
    {
      "cell_type": "code",
      "source": [
        "e2.x"
      ],
      "metadata": {
        "colab": {
          "base_uri": "https://localhost:8080/"
        },
        "id": "UG_g2pDfI0ct",
        "outputId": "07c79ced-b21a-412e-8063-484e8278d7a0"
      },
      "execution_count": 42,
      "outputs": [
        {
          "output_type": "execute_result",
          "data": {
            "text/plain": [
              "5"
            ]
          },
          "metadata": {},
          "execution_count": 42
        }
      ]
    },
    {
      "cell_type": "code",
      "source": [
        "'''The value of x for an object of class E will be 5, as the order of inheritance for class E is C and then D, so it will first look for the value of x in class C and since it is not defined there, it will then look in class D which has a value of x equal to 5. \n",
        "And the value of x from class A is not inherited by class E as the order of inheritance of class E is C,D.'''"
      ],
      "metadata": {
        "colab": {
          "base_uri": "https://localhost:8080/",
          "height": 70
        },
        "id": "nxYVVJ48I0aP",
        "outputId": "f9ad8ee6-e90a-40c5-92ba-7863cf3569d8"
      },
      "execution_count": 43,
      "outputs": [
        {
          "output_type": "execute_result",
          "data": {
            "text/plain": [
              "'The value of x for an object of class E will be 5, as the order of inheritance for class E is C and then D, so it will first look for the value of x in class C and since it is not defined there, it will then look in class D which has a value of x equal to 5. \\nAnd the value of x from class A is not inherited by class E as the order of inheritance of class E is C,D.'"
            ],
            "application/vnd.google.colaboratory.intrinsic+json": {
              "type": "string"
            }
          },
          "metadata": {},
          "execution_count": 43
        }
      ]
    },
    {
      "cell_type": "code",
      "source": [
        "#questions"
      ],
      "metadata": {
        "id": "be1kwrC7I0QF"
      },
      "execution_count": 52,
      "outputs": []
    },
    {
      "cell_type": "code",
      "source": [
        "class Smaller:\n",
        "    def __init__(self,a):\n",
        "        self.string=a\n",
        "    \n",
        "    def display(self):\n",
        "        print(\"The type of Name is smaller\")\n",
        "    \n",
        "    def evaluate(self):\n",
        "        vowels= \"aeiouAEIOU\"\n",
        "        ans=0\n",
        "        if (len(self.string))< 6:\n",
        "            for char in self.string:\n",
        "                if char in vowels:\n",
        "                    ans+=1\n",
        "        \n",
        "        # YOUR CODE GOES HERE\n",
        "        print(ans)\n",
        "        \n",
        "class Larger:\n",
        "    def __init__(self,a):\n",
        "        self.string=a\n",
        "    \n",
        "    def display(self):\n",
        "        print(\"The type of Name is larger\")\n",
        "    \n",
        "    def evaluate(self):\n",
        "        vowels= \"aeiouAEIOU\"\n",
        "        ans=0\n",
        "        if (len(self.string))>= 6:\n",
        "            for char in self.string:\n",
        "                if char not in vowels:\n",
        "                    ans+=1\n",
        "        \n",
        "        # YOUR CODE GOES HERE\n",
        "        print(ans)\n",
        "\n",
        "def main(a):\n",
        "    '''\n",
        "    input a is string\n",
        "    '''\n",
        "    if len(a)<6:\n",
        "        obj=Smaller(a)\n",
        "        obj.display()\n",
        "        obj.evaluate()\n",
        "    else:\n",
        "        obj=Larger(a)\n",
        "        obj.display()\n",
        "        obj.evaluate()\n"
      ],
      "metadata": {
        "id": "FPbgBsNzllqA"
      },
      "execution_count": 3,
      "outputs": []
    },
    {
      "cell_type": "code",
      "source": [
        "\n",
        "    \n",
        "class Smaller:\n",
        "    def __init__(self,a):\n",
        "        self.string=a\n",
        "    \n",
        "    def display(self):\n",
        "        print(\"The type of Name is smaller\")\n",
        "    \n",
        "    def evaluate(self):\n",
        "        vowels= \"aeiouAEIOU\"\n",
        "        ans=0\n",
        "        if (len(self.string))< 6:\n",
        "            for char in self.string:\n",
        "                if char in vowels:\n",
        "                    ans+=1\n",
        "        \n",
        "        # YOUR CODE GOES HERE\n",
        "        print(ans)\n",
        "        \n",
        "class Larger:\n",
        "    def __init__(self,a):\n",
        "        self.string=a\n",
        "    \n",
        "    def display(self):\n",
        "        print(\"The type of Name is larger\")\n",
        "    \n",
        "    def evaluate(self):\n",
        "        vowels= \"aeiouAEIOU\"\n",
        "        ans=0\n",
        "        if (len(self.string)) >= 6:\n",
        "            for char in self.string:\n",
        "                if char not in vowels:\n",
        "                    ans+=1\n",
        "        \n",
        "        # YOUR CODE GOES HERE\n",
        "        print(ans)\n",
        "\n",
        "def main(a):\n",
        "    '''\n",
        "    input a is string\n",
        "    '''\n",
        "    if len(a)<6:\n",
        "        obj=Smaller(a)\n",
        "        obj.display()\n",
        "        obj.evaluate()\n",
        "    else:\n",
        "        obj=Larger(a)\n",
        "        obj.display()\n",
        "        obj.evaluate()\n",
        "    "
      ],
      "metadata": {
        "id": "YYdWHkitsB0u"
      },
      "execution_count": 7,
      "outputs": []
    },
    {
      "cell_type": "code",
      "source": [
        "main(\"aman\")"
      ],
      "metadata": {
        "colab": {
          "base_uri": "https://localhost:8080/"
        },
        "id": "V8PTwoTqtOaT",
        "outputId": "0027f047-455c-48fd-c931-c430f12275be"
      },
      "execution_count": 8,
      "outputs": [
        {
          "output_type": "stream",
          "name": "stdout",
          "text": [
            "The type of Name is smaller\n",
            "2\n"
          ]
        }
      ]
    },
    {
      "cell_type": "code",
      "source": [
        "class solution:\n",
        "  def initial(self,sets):\n",
        "    return self.final(sets)\n",
        " \n",
        "  def final(self, sets):\n",
        "    return list(map(lambda x: ((x**3)%2==0,x**3),sets))\n",
        "\n",
        "print(solution().initial([4,5,6]))"
      ],
      "metadata": {
        "colab": {
          "base_uri": "https://localhost:8080/"
        },
        "id": "xUSMGc0quhGE",
        "outputId": "ed2cff39-4879-477a-bc05-f6e3b833d910"
      },
      "execution_count": 9,
      "outputs": [
        {
          "output_type": "stream",
          "name": "stdout",
          "text": [
            "[(True, 64), (False, 125), (True, 216)]\n"
          ]
        }
      ]
    },
    {
      "cell_type": "code",
      "source": [
        "class Student:\n",
        "    def __init__(self,roll,marks):\n",
        "        self.roll = roll\n",
        "        self.marks = marks\n",
        "    def display(self):\n",
        "        print('Roll:', self.roll,'Marks:',self.marks, end=\" \")\n",
        "\n",
        "student1 = Student(34,'A')\n",
        "student1.age = 17\n",
        "print(student1.display(), 'Age:',student1.age)"
      ],
      "metadata": {
        "colab": {
          "base_uri": "https://localhost:8080/"
        },
        "id": "zmj0_9PCzh61",
        "outputId": "e416dca2-d770-4689-e0cb-04c97d5f581d"
      },
      "execution_count": 10,
      "outputs": [
        {
          "output_type": "stream",
          "name": "stdout",
          "text": [
            "Roll: 34 Marks: A None Age: 17\n"
          ]
        }
      ]
    },
    {
      "cell_type": "code",
      "source": [
        "class MachineLearning:\n",
        "    def __init__(self,name,category):\n",
        "        self.name=name\n",
        "        self.category=category\n",
        "        \n",
        "    def getname(self):\n",
        "        return self.name\n",
        "        \n",
        "    def getcategory(self):\n",
        "        return self.category\n",
        "        \n",
        "    def print(self):\n",
        "        print(\"Name:\",self.name)\n",
        "        print(\"Category:\",self.category)\n",
        "\n",
        "class Supervised(MachineLearning):\n",
        "    def __init__(self,name,category):\n",
        "        #YOUR CODE GOES HERE\n",
        "        MachineLearning.__init__(self, name, category)\n",
        "        # super().__init__(name,category)\n",
        "\n",
        "    \n",
        "    def type(self):\n",
        "        self.print()\n",
        "        #YOUR CODE GOES HERE\n",
        "        print(\"Supervised Learning Algorithm\")\n",
        "        # print(type(self).__name__)\n",
        "\n",
        "class Unsupervised(MachineLearning):\n",
        "    def __init__(self,name,category):\n",
        "        #YOUR CODE GOES HERE\n",
        "        MachineLearning.__init__(self, name, category)\n",
        "        # super().__init__(name,category)\n",
        "    \n",
        "    def type(self):\n",
        "        #YOUR CODE GOES HERE\n",
        "        self.print()\n",
        "        print(\"Unsupervised Learning Algorithm\")\n",
        "        # print(type(self).__name__)\n",
        "\n",
        "def mlAnalogy(a,b,c,d):\n",
        "    '''\n",
        "    input=> a,b = name and category for Supervised class\n",
        "            c,d = name and category for Unsupervised class\n",
        "    output=> type() is called for both classes in the end, it should first print the Name and Category then the type of class in new lines\n",
        "    '''\n",
        "\n",
        "    obj1=Supervised(a,b)\n",
        "    obj1.type()\n",
        "    # obj1.print()\n",
        "    obj2=Unsupervised(c,d)\n",
        "    obj2.type()\n",
        "    # obj2.print()\n",
        "    \n",
        "\n",
        "    return None\n",
        "\n",
        "a = input(\"Enter the name of the Supervised class: \")\n",
        "b = input(\"Enter the category of the Supervised class: \")\n",
        "c = input(\"Enter the name of the Unsupervised class: \")\n",
        "d = input(\"Enter the category of the Unsupervised class: \")\n",
        "\n",
        "mlAnalogy(a,b,c,d)\n"
      ],
      "metadata": {
        "colab": {
          "base_uri": "https://localhost:8080/"
        },
        "id": "09YWq0CfzypF",
        "outputId": "846b776d-d75d-469f-b825-a3c1f407f277"
      },
      "execution_count": 6,
      "outputs": [
        {
          "output_type": "stream",
          "name": "stdout",
          "text": [
            "Enter the name of the Supervised class: LR\n",
            "Enter the category of the Supervised class: classifier\n",
            "Enter the name of the Unsupervised class: k means\n",
            "Enter the category of the Unsupervised class: clustering\n",
            "Supervised Learning Algorithm\n",
            "Name: LR\n",
            "Category: classifier\n",
            "Unsupervised Learning Algorithm\n",
            "Name: k means\n",
            "Category: clustering\n"
          ]
        }
      ]
    },
    {
      "cell_type": "code",
      "source": [
        "class Circle:\n",
        "    pi = 3.14\n",
        "    def __init__(self, diameter):\n",
        "        self.radius = diameter / 2\n",
        "\n",
        "    def circumference(self):\n",
        "        return 2 * self.pi * self.radius\n",
        "        "
      ],
      "metadata": {
        "id": "IpPUVLF6uFEz"
      },
      "execution_count": 7,
      "outputs": []
    },
    {
      "cell_type": "code",
      "source": [
        "p1= Circle(12)"
      ],
      "metadata": {
        "id": "uWYVt6Gf016Y"
      },
      "execution_count": 11,
      "outputs": []
    },
    {
      "cell_type": "code",
      "source": [
        "p1.circumference()"
      ],
      "metadata": {
        "colab": {
          "base_uri": "https://localhost:8080/"
        },
        "id": "8QnDmiUL03dU",
        "outputId": "84f0e0a6-672d-4491-cec3-7d62d743ebe0"
      },
      "execution_count": 14,
      "outputs": [
        {
          "output_type": "execute_result",
          "data": {
            "text/plain": [
              "37.68"
            ]
          },
          "metadata": {},
          "execution_count": 14
        }
      ]
    },
    {
      "cell_type": "code",
      "source": [
        "class football:\n",
        "    final_res= 'lose'\n",
        "    def __init__(self,name,score):\n",
        "        self.name = name\n",
        "        self.score = score\n",
        "        self.final_res = 'lose'\n",
        "    \n",
        "    def calc(self, winning_score):\n",
        "        if self.score>winning_score:\n",
        "            self.final_res='win'\n"
      ],
      "metadata": {
        "id": "rPU6dHrV1K48"
      },
      "execution_count": 15,
      "outputs": []
    },
    {
      "cell_type": "code",
      "source": [
        "match = football('Juventus',3)\n",
        "match.calc(2)\n",
        "print(football.final_res, match.final_res)"
      ],
      "metadata": {
        "colab": {
          "base_uri": "https://localhost:8080/"
        },
        "id": "n2fj1h4R2Sma",
        "outputId": "11547d33-6956-4764-b747-f373c1e4d60a"
      },
      "execution_count": 16,
      "outputs": [
        {
          "output_type": "stream",
          "name": "stdout",
          "text": [
            "lose win\n"
          ]
        }
      ]
    },
    {
      "cell_type": "code",
      "source": [
        "class Student:\n",
        "  # Class variable\n",
        "  subject_name = 'Math for Machine Learning'\n",
        "\n",
        "  # constructor\n",
        "  def __init__(self, name, roll_no):\n",
        "    self.name = name\n",
        "    self.roll_no = roll_no"
      ],
      "metadata": {
        "id": "jExWqu-S2W5e"
      },
      "execution_count": 25,
      "outputs": []
    },
    {
      "cell_type": "code",
      "source": [
        "s1= Student(\"emma\",12)\n",
        "s1.subject_name= \"Machine Learning\""
      ],
      "metadata": {
        "id": "SWzBH6cK3YSC"
      },
      "execution_count": 26,
      "outputs": []
    },
    {
      "cell_type": "code",
      "source": [
        "print(s1.name, s1.roll_no, s1.subject_name)"
      ],
      "metadata": {
        "colab": {
          "base_uri": "https://localhost:8080/"
        },
        "id": "xSvP0msZ3iRr",
        "outputId": "dd596abc-dfd0-42ea-c26c-b1378e31ca9f"
      },
      "execution_count": 27,
      "outputs": [
        {
          "output_type": "stream",
          "name": "stdout",
          "text": [
            "emma 12 Machine Learning\n"
          ]
        }
      ]
    },
    {
      "cell_type": "code",
      "source": [],
      "metadata": {
        "id": "UbkIfv3-3pWq"
      },
      "execution_count": null,
      "outputs": []
    }
  ]
}