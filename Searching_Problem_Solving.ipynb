{
  "nbformat": 4,
  "nbformat_minor": 0,
  "metadata": {
    "colab": {
      "provenance": [],
      "authorship_tag": "ABX9TyMLIkthFEsM1oZ6I4qs2ozN",
      "include_colab_link": true
    },
    "kernelspec": {
      "name": "python3",
      "display_name": "Python 3"
    },
    "language_info": {
      "name": "python"
    }
  },
  "cells": [
    {
      "cell_type": "markdown",
      "metadata": {
        "id": "view-in-github",
        "colab_type": "text"
      },
      "source": [
        "<a href=\"https://colab.research.google.com/github/dmish10/Scaler_Intermediate/blob/main/Searching_Problem_Solving.ipynb\" target=\"_parent\"><img src=\"https://colab.research.google.com/assets/colab-badge.svg\" alt=\"Open In Colab\"/></a>"
      ]
    },
    {
      "cell_type": "code",
      "execution_count": null,
      "metadata": {
        "colab": {
          "base_uri": "https://localhost:8080/",
          "height": 35
        },
        "id": "RGlbmGvGdzlj",
        "outputId": "b8e23fd2-a2c1-499d-e6e6-a9aa5e885b5c"
      },
      "outputs": [
        {
          "output_type": "execute_result",
          "data": {
            "text/plain": [
              "'Question 1 - given a sorted array with distinct elements , search for index of element k. If k is absent, return -1'"
            ],
            "application/vnd.google.colaboratory.intrinsic+json": {
              "type": "string"
            }
          },
          "metadata": {},
          "execution_count": 1
        }
      ],
      "source": [
        "'''Question 1 - given a sorted array with distinct elements , search for index of element k. If k is absent, return -1'''"
      ]
    },
    {
      "cell_type": "code",
      "source": [
        "A= list(range(3,33,3))\n",
        "A"
      ],
      "metadata": {
        "colab": {
          "base_uri": "https://localhost:8080/"
        },
        "id": "O8xA6cIHhQ6W",
        "outputId": "6dde1288-b37e-43d8-be8f-97d17536d0dc"
      },
      "execution_count": null,
      "outputs": [
        {
          "output_type": "execute_result",
          "data": {
            "text/plain": [
              "[3, 6, 9, 12, 15, 18, 21, 24, 27, 30]"
            ]
          },
          "metadata": {},
          "execution_count": 3
        }
      ]
    },
    {
      "cell_type": "code",
      "source": [
        "# do check if all elements are distinct and what if the element not present in the list"
      ],
      "metadata": {
        "id": "Gc5LwqZWhpap"
      },
      "execution_count": null,
      "outputs": []
    },
    {
      "cell_type": "code",
      "source": [
        "A= [-5, 2, 3,6,9,10,11,14,18]"
      ],
      "metadata": {
        "id": "lNY8OGEbrQ0v"
      },
      "execution_count": null,
      "outputs": []
    },
    {
      "cell_type": "code",
      "source": [
        "def bin_ser(A,K):\n",
        "  start=0\n",
        "  end= len(A)-1\n",
        "  iteration=0\n",
        "  while start<=end:\n",
        "    mid=(start+end)//2\n",
        "    if A[mid]==K:\n",
        "      print(f\"iterations={iteration}\")\n",
        "      return mid\n",
        "    elif A[mid]<K:\n",
        "      start=mid+1\n",
        "    else:\n",
        "      end=mid-1\n",
        "    iteration+=1\n",
        "  return -1\n",
        "\n",
        "bin_ser(A,-5)"
      ],
      "metadata": {
        "colab": {
          "base_uri": "https://localhost:8080/"
        },
        "id": "xssQ2SJSfwQQ",
        "outputId": "1db85c0b-97bc-4a64-e226-105986fc60f8"
      },
      "execution_count": null,
      "outputs": [
        {
          "output_type": "stream",
          "name": "stdout",
          "text": [
            "iterations=2\n"
          ]
        },
        {
          "output_type": "execute_result",
          "data": {
            "text/plain": [
              "0"
            ]
          },
          "metadata": {},
          "execution_count": 13
        }
      ]
    },
    {
      "cell_type": "code",
      "source": [
        "''' question 2 - given a sorted array A, find the floor of the element k.\n",
        "k= 4, k = 5, k=10, k=20, k=-7'''"
      ],
      "metadata": {
        "colab": {
          "base_uri": "https://localhost:8080/",
          "height": 35
        },
        "id": "wRehcGjvn_q1",
        "outputId": "66fb68c0-4ec2-43d7-e665-8016db344293"
      },
      "execution_count": null,
      "outputs": [
        {
          "output_type": "execute_result",
          "data": {
            "text/plain": [
              "'given a sorted array A, find the floor of the element k.\\nk= 4, k = 5, k=10, k=20, k=-7'"
            ],
            "application/vnd.google.colaboratory.intrinsic+json": {
              "type": "string"
            }
          },
          "metadata": {},
          "execution_count": 17
        }
      ]
    },
    {
      "cell_type": "code",
      "source": [
        "'''if k = 4, greatest element smaller than or equal to 4 in array A is '3' and is it for k = 5''' "
      ],
      "metadata": {
        "colab": {
          "base_uri": "https://localhost:8080/",
          "height": 35
        },
        "id": "cqR3ca2lsi8P",
        "outputId": "ab9f9143-f69b-4e9c-8a64-71af899ae054"
      },
      "execution_count": null,
      "outputs": [
        {
          "output_type": "execute_result",
          "data": {
            "text/plain": [
              "\"if k = 4, greatest element smaller than or equal to 4 in array A is '3' and is it for k = 5\""
            ],
            "application/vnd.google.colaboratory.intrinsic+json": {
              "type": "string"
            }
          },
          "metadata": {},
          "execution_count": 18
        }
      ]
    },
    {
      "cell_type": "code",
      "source": [
        "'''if k=10 , greatest element less than or equal to 10 in array A is '10' as its already present'''"
      ],
      "metadata": {
        "colab": {
          "base_uri": "https://localhost:8080/",
          "height": 35
        },
        "id": "dX8v8GMgts_C",
        "outputId": "5922acf5-1d90-4a7c-aa33-cfbd043ea9fa"
      },
      "execution_count": null,
      "outputs": [
        {
          "output_type": "execute_result",
          "data": {
            "text/plain": [
              "\"if k=10 , greatest element less than or equal to 10 in array A is '10' as its already present\""
            ],
            "application/vnd.google.colaboratory.intrinsic+json": {
              "type": "string"
            }
          },
          "metadata": {},
          "execution_count": 19
        }
      ]
    },
    {
      "cell_type": "code",
      "source": [
        "'''if k=-7 element less than or equal to -7 doesn't exist since -5 is greater than -7'''"
      ],
      "metadata": {
        "colab": {
          "base_uri": "https://localhost:8080/",
          "height": 35
        },
        "id": "M5H06xbkuCnl",
        "outputId": "46d209e0-c2dc-47f6-8ba8-e7f16f6ac16b"
      },
      "execution_count": null,
      "outputs": [
        {
          "output_type": "execute_result",
          "data": {
            "text/plain": [
              "\"if k=-7 element less than or equal to -7 doesn't exist since -5 is greater than -7\""
            ],
            "application/vnd.google.colaboratory.intrinsic+json": {
              "type": "string"
            }
          },
          "metadata": {},
          "execution_count": 20
        }
      ]
    },
    {
      "cell_type": "code",
      "source": [
        "#lets say we have to return -infinity if the element doesn't exist. in python , -infinity is represented as x=float(-'inf')"
      ],
      "metadata": {
        "id": "gFg1MrSEuKUP"
      },
      "execution_count": null,
      "outputs": []
    },
    {
      "cell_type": "code",
      "source": [
        "def floor(A,K):\n",
        "  start, end= 0, len(A)-1\n",
        "  ans= float('-inf')\n",
        "  while start<=end:\n",
        "    mid= (start+end)//2\n",
        "    #floor is always the greatest element lesser or equal to the key or target element in the array\n",
        "  \n",
        "    if A[mid]<=K:\n",
        "      ans= max(ans,A[mid]) #or ans = A[mid] as done in the dry run refer the copy, at every point arr[mid] is same as ans \n",
        "      start= mid+1\n",
        "    else:\n",
        "      end= mid-1\n",
        "    \n",
        "  return ans \n",
        "\n",
        "floor(A,-7)\n"
      ],
      "metadata": {
        "colab": {
          "base_uri": "https://localhost:8080/"
        },
        "id": "MxxVsy9PvYOU",
        "outputId": "3b0db4da-a515-42e7-d340-16d0cc0642e1"
      },
      "execution_count": null,
      "outputs": [
        {
          "output_type": "execute_result",
          "data": {
            "text/plain": [
              "-inf"
            ]
          },
          "metadata": {},
          "execution_count": 24
        }
      ]
    },
    {
      "cell_type": "code",
      "source": [
        "'''Question 3- Given a sorted array, give the frequency of the element K''' "
      ],
      "metadata": {
        "colab": {
          "base_uri": "https://localhost:8080/",
          "height": 35
        },
        "id": "Z4fSLNhE5WKR",
        "outputId": "b064d150-d99c-42ba-a835-8eb11ecc91d8"
      },
      "execution_count": null,
      "outputs": [
        {
          "output_type": "execute_result",
          "data": {
            "text/plain": [
              "'Question 3- Given a sorted array, give the frequency of the element K'"
            ],
            "application/vnd.google.colaboratory.intrinsic+json": {
              "type": "string"
            }
          },
          "metadata": {},
          "execution_count": 25
        }
      ]
    },
    {
      "cell_type": "code",
      "source": [
        "A= [-5,-5,-3,0,0,1 ,2,3,5,5,5,5,5,5,5,8,10,10,15]"
      ],
      "metadata": {
        "id": "eUs2lzLu7yPX"
      },
      "execution_count": null,
      "outputs": []
    },
    {
      "cell_type": "code",
      "source": [
        "#things to observe is that it is a sorted array so the key element k would appear consecutively"
      ],
      "metadata": {
        "id": "vLTHkzvd8BLu"
      },
      "execution_count": null,
      "outputs": []
    },
    {
      "cell_type": "code",
      "source": [
        "\n",
        "#via linear search brute force for a sorted array\n",
        "def freq(A,K):\n",
        "  ans=1\n",
        "  for i in range(len(A)):\n",
        "    if A[i]==K:\n",
        "      if A[i] == A[i+1]:\n",
        "        ans+=1\n",
        "        \n",
        "  return ans\n",
        "\n",
        "freq(A,10)     "
      ],
      "metadata": {
        "colab": {
          "base_uri": "https://localhost:8080/"
        },
        "id": "It-12Kt28I8k",
        "outputId": "5e18f4f6-4dae-40da-90cd-e6b62ab54e9f"
      },
      "execution_count": null,
      "outputs": [
        {
          "output_type": "execute_result",
          "data": {
            "text/plain": [
              "2"
            ]
          },
          "metadata": {},
          "execution_count": 58
        }
      ]
    },
    {
      "cell_type": "code",
      "source": [
        "def freq1(A,K):\n",
        "  start, end= 0, len(A)-1\n",
        "  ans = -1\n",
        "  while start<=end:\n",
        "    mid= (start+end)//2\n",
        "    if A[mid]<K :\n",
        "        start=mid+1\n",
        "    elif A[mid]>K:\n",
        "        end=mid-1\n",
        "    else:\n",
        "      #first we'll find the first index or floor of the element K so we'd neglect the right side\n",
        "      if ans== mid:\n",
        "        end = mid-1\n",
        "      # else:\n",
        "      #   start=mid+1\n",
        "    \n",
        "      \n",
        "  return ans\n",
        "\n",
        "freq1(A,5)\n"
      ],
      "metadata": {
        "colab": {
          "base_uri": "https://localhost:8080/"
        },
        "id": "LaOn4BjC9fqf",
        "outputId": "5a10a862-c4bb-444b-ea35-dd496d4e7657"
      },
      "execution_count": null,
      "outputs": [
        {
          "output_type": "execute_result",
          "data": {
            "text/plain": [
              "-1"
            ]
          },
          "metadata": {},
          "execution_count": 71
        }
      ]
    },
    {
      "cell_type": "code",
      "source": [
        "# frequency = ceil(A,K)- floor(A,K)+1\n",
        "#but if element is not present, both ceil and floor functions would return -1 as we initialised ans= -1 and the frequency equation would result in -1-(-1)+1 =1\n",
        "#this is the edge case as frequency of element not present can't be 1"
      ],
      "metadata": {
        "id": "Ov_RSfngEKy8"
      },
      "execution_count": null,
      "outputs": []
    },
    {
      "cell_type": "code",
      "source": [
        "#to deal with edge case, for floor value function return 0 instead of -1"
      ],
      "metadata": {
        "id": "R9Xk7g2lUR0b"
      },
      "execution_count": null,
      "outputs": []
    },
    {
      "cell_type": "code",
      "source": [
        " A = [5, 7, 7, 8, 8, 10]\n",
        " B = 8"
      ],
      "metadata": {
        "id": "cMsbGt6DE86d"
      },
      "execution_count": null,
      "outputs": []
    },
    {
      "cell_type": "code",
      "source": [
        "def left_index_floor(A, B):\n",
        "  start, end = 0, len(A)-1\n",
        "  ans= -1\n",
        "  while start<=end:\n",
        "    mid= (start+end)//2\n",
        "    if A[mid]<B :\n",
        "      start=mid+1\n",
        "    elif A[mid]>B:\n",
        "      end=mid-1\n",
        "    else:\n",
        "      if ans== mid:\n",
        "        end = mid-1\n",
        "  return ans\n",
        "\n",
        "def right_index_ceil(A, B):\n",
        "  start, end = 0, len(A)-1\n",
        "  ans= -1\n",
        "  while start<=end:\n",
        "    mid= (start+end)//2\n",
        "    if A[mid]<B :\n",
        "      start=mid+1\n",
        "    elif A[mid]>B:\n",
        "      end=mid-1\n",
        "    else:\n",
        "      if ans== mid:\n",
        "        start = mid+1\n",
        "  return ans\n",
        "\n",
        "def searchRange(A, B):\n",
        "  start_index= left_index_floor(A, B)\n",
        "  end_index = right_index_ceil(A, B)\n",
        "  return [start_index,end_index]\n",
        "\n",
        "      "
      ],
      "metadata": {
        "id": "sO29LieVUkSE"
      },
      "execution_count": null,
      "outputs": []
    },
    {
      "cell_type": "code",
      "source": [
        "# left_index_floor(A, B)\n",
        "# right_index_ceil(A, B)\n",
        "searchRange(A, B)"
      ],
      "metadata": {
        "colab": {
          "base_uri": "https://localhost:8080/",
          "height": 346
        },
        "id": "zQ8wvVRLFBk_",
        "outputId": "b93abd6d-7aed-4ca3-c209-879e8103cef5"
      },
      "execution_count": null,
      "outputs": [
        {
          "output_type": "error",
          "ename": "KeyboardInterrupt",
          "evalue": "ignored",
          "traceback": [
            "\u001b[0;31m---------------------------------------------------------------------------\u001b[0m",
            "\u001b[0;31mKeyboardInterrupt\u001b[0m                         Traceback (most recent call last)",
            "\u001b[0;32m<ipython-input-9-091db35034b2>\u001b[0m in \u001b[0;36m<module>\u001b[0;34m\u001b[0m\n\u001b[1;32m      1\u001b[0m \u001b[0;31m# left_index_floor(A, B)\u001b[0m\u001b[0;34m\u001b[0m\u001b[0;34m\u001b[0m\u001b[0;34m\u001b[0m\u001b[0m\n\u001b[1;32m      2\u001b[0m \u001b[0;31m# right_index_ceil(A, B)\u001b[0m\u001b[0;34m\u001b[0m\u001b[0;34m\u001b[0m\u001b[0;34m\u001b[0m\u001b[0m\n\u001b[0;32m----> 3\u001b[0;31m \u001b[0msearchRange\u001b[0m\u001b[0;34m(\u001b[0m\u001b[0mA\u001b[0m\u001b[0;34m,\u001b[0m \u001b[0mB\u001b[0m\u001b[0;34m)\u001b[0m\u001b[0;34m\u001b[0m\u001b[0;34m\u001b[0m\u001b[0m\n\u001b[0m",
            "\u001b[0;32m<ipython-input-8-70ac08b0e804>\u001b[0m in \u001b[0;36msearchRange\u001b[0;34m(A, B)\u001b[0m\n\u001b[1;32m     28\u001b[0m \u001b[0;34m\u001b[0m\u001b[0m\n\u001b[1;32m     29\u001b[0m \u001b[0;32mdef\u001b[0m \u001b[0msearchRange\u001b[0m\u001b[0;34m(\u001b[0m\u001b[0mA\u001b[0m\u001b[0;34m,\u001b[0m \u001b[0mB\u001b[0m\u001b[0;34m)\u001b[0m\u001b[0;34m:\u001b[0m\u001b[0;34m\u001b[0m\u001b[0;34m\u001b[0m\u001b[0m\n\u001b[0;32m---> 30\u001b[0;31m   \u001b[0mstart_index\u001b[0m\u001b[0;34m=\u001b[0m \u001b[0mleft_index_floor\u001b[0m\u001b[0;34m(\u001b[0m\u001b[0mA\u001b[0m\u001b[0;34m,\u001b[0m \u001b[0mB\u001b[0m\u001b[0;34m)\u001b[0m\u001b[0;34m\u001b[0m\u001b[0;34m\u001b[0m\u001b[0m\n\u001b[0m\u001b[1;32m     31\u001b[0m   \u001b[0mend_index\u001b[0m \u001b[0;34m=\u001b[0m \u001b[0mright_index_ceil\u001b[0m\u001b[0;34m(\u001b[0m\u001b[0mA\u001b[0m\u001b[0;34m,\u001b[0m \u001b[0mB\u001b[0m\u001b[0;34m)\u001b[0m\u001b[0;34m\u001b[0m\u001b[0;34m\u001b[0m\u001b[0m\n\u001b[1;32m     32\u001b[0m   \u001b[0;32mreturn\u001b[0m \u001b[0;34m[\u001b[0m\u001b[0mstart_index\u001b[0m\u001b[0;34m,\u001b[0m\u001b[0mend_index\u001b[0m\u001b[0;34m]\u001b[0m\u001b[0;34m\u001b[0m\u001b[0;34m\u001b[0m\u001b[0m\n",
            "\u001b[0;32m<ipython-input-8-70ac08b0e804>\u001b[0m in \u001b[0;36mleft_index_floor\u001b[0;34m(A, B)\u001b[0m\n\u001b[1;32m      2\u001b[0m   \u001b[0mstart\u001b[0m\u001b[0;34m,\u001b[0m \u001b[0mend\u001b[0m \u001b[0;34m=\u001b[0m \u001b[0;36m0\u001b[0m\u001b[0;34m,\u001b[0m \u001b[0mlen\u001b[0m\u001b[0;34m(\u001b[0m\u001b[0mA\u001b[0m\u001b[0;34m)\u001b[0m\u001b[0;34m-\u001b[0m\u001b[0;36m1\u001b[0m\u001b[0;34m\u001b[0m\u001b[0;34m\u001b[0m\u001b[0m\n\u001b[1;32m      3\u001b[0m   \u001b[0mans\u001b[0m\u001b[0;34m=\u001b[0m \u001b[0;34m-\u001b[0m\u001b[0;36m1\u001b[0m\u001b[0;34m\u001b[0m\u001b[0;34m\u001b[0m\u001b[0m\n\u001b[0;32m----> 4\u001b[0;31m   \u001b[0;32mwhile\u001b[0m \u001b[0mstart\u001b[0m\u001b[0;34m<=\u001b[0m\u001b[0mend\u001b[0m\u001b[0;34m:\u001b[0m\u001b[0;34m\u001b[0m\u001b[0;34m\u001b[0m\u001b[0m\n\u001b[0m\u001b[1;32m      5\u001b[0m     \u001b[0mmid\u001b[0m\u001b[0;34m=\u001b[0m \u001b[0;34m(\u001b[0m\u001b[0mstart\u001b[0m\u001b[0;34m+\u001b[0m\u001b[0mend\u001b[0m\u001b[0;34m)\u001b[0m\u001b[0;34m//\u001b[0m\u001b[0;36m2\u001b[0m\u001b[0;34m\u001b[0m\u001b[0;34m\u001b[0m\u001b[0m\n\u001b[1;32m      6\u001b[0m     \u001b[0;32mif\u001b[0m \u001b[0mA\u001b[0m\u001b[0;34m[\u001b[0m\u001b[0mmid\u001b[0m\u001b[0;34m]\u001b[0m\u001b[0;34m<\u001b[0m\u001b[0mB\u001b[0m \u001b[0;34m:\u001b[0m\u001b[0;34m\u001b[0m\u001b[0;34m\u001b[0m\u001b[0m\n",
            "\u001b[0;31mKeyboardInterrupt\u001b[0m: "
          ]
        }
      ]
    },
    {
      "cell_type": "code",
      "source": [],
      "metadata": {
        "id": "XViWK0wRFFBZ"
      },
      "execution_count": null,
      "outputs": []
    }
  ]
}