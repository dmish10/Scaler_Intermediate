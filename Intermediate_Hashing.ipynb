{
  "nbformat": 4,
  "nbformat_minor": 0,
  "metadata": {
    "colab": {
      "provenance": [],
      "authorship_tag": "ABX9TyPgijfIn3CrA9BfkdPaNcaO",
      "include_colab_link": true
    },
    "kernelspec": {
      "name": "python3",
      "display_name": "Python 3"
    },
    "language_info": {
      "name": "python"
    }
  },
  "cells": [
    {
      "cell_type": "markdown",
      "metadata": {
        "id": "view-in-github",
        "colab_type": "text"
      },
      "source": [
        "<a href=\"https://colab.research.google.com/github/dmish10/Scaler_Intermediate/blob/main/Intermediate_Hashing.ipynb\" target=\"_parent\"><img src=\"https://colab.research.google.com/assets/colab-badge.svg\" alt=\"Open In Colab\"/></a>"
      ]
    },
    {
      "cell_type": "code",
      "execution_count": 1,
      "metadata": {
        "id": "Y6ZWfk4nL7qu"
      },
      "outputs": [],
      "source": [
        "# Combinatorics questions \n",
        "#1. solution in Python that uses a brute-force approach to solve the equation nC0 + nC1 + ... + nCn by computing each term nCk separately:\n"
      ]
    },
    {
      "cell_type": "code",
      "source": [
        "def compute_sum(n):\n",
        "  # Initialize a variable to keep track of the sum\n",
        "  total = 0\n",
        "  # Loop through each value of k from 0 to n\n",
        "  for k in range(n+1):\n",
        "    # Add nCk to the total\n",
        "    total += compute_combination(n, k)\n",
        "  return total\n",
        "\n",
        "# Function to compute nCk\n",
        "def compute_combination(n, k):\n",
        "  # Use the formula n! / (k! * (n-k)!) to compute nCk\n",
        "  return factorial(n) / (factorial(k) * factorial(n-k))\n",
        "\n",
        "# Helper function to compute the factorial of a number\n",
        "def factorial(n):\n",
        "  if n == 0:\n",
        "    return 1\n",
        "  return n * factorial(n-1)\n",
        "\n",
        "compute_sum(5)"
      ],
      "metadata": {
        "colab": {
          "base_uri": "https://localhost:8080/"
        },
        "id": "r2MjKrU6MNNt",
        "outputId": "f952c0bc-2633-494a-d017-76b4d2849181"
      },
      "execution_count": 2,
      "outputs": [
        {
          "output_type": "execute_result",
          "data": {
            "text/plain": [
              "32.0"
            ]
          },
          "metadata": {},
          "execution_count": 2
        }
      ]
    },
    {
      "cell_type": "code",
      "source": [
        "#2^5=32"
      ],
      "metadata": {
        "id": "5wrsOAzYOfjm"
      },
      "execution_count": 4,
      "outputs": []
    },
    {
      "cell_type": "code",
      "source": [
        "import math\n",
        "def compute_sum1(n):\n",
        "  total = 0\n",
        "  for k in range(n+1):\n",
        "    result = math.factorial(n) // (math.factorial(k) * math.factorial(n-k))\n",
        "    total = total + result\n",
        "  return total\n",
        "compute_sum1(5)"
      ],
      "metadata": {
        "colab": {
          "base_uri": "https://localhost:8080/"
        },
        "id": "DqUpzLS4Rdoo",
        "outputId": "d6020f12-d5ca-4309-99e0-e661fe3b6163"
      },
      "execution_count": 4,
      "outputs": [
        {
          "output_type": "execute_result",
          "data": {
            "text/plain": [
              "32"
            ]
          },
          "metadata": {},
          "execution_count": 4
        }
      ]
    },
    {
      "cell_type": "code",
      "source": [
        "#2. Given 5 players , no pf ways to select 2 players\n",
        "# Use the formula n! / (k! * (n-k)!) to compute nCk\n",
        "# 5C2 = 10\n"
      ],
      "metadata": {
        "id": "q19ZpGHPRQ3d"
      },
      "execution_count": 1,
      "outputs": []
    },
    {
      "cell_type": "code",
      "source": [
        "#more problems discussed on combinatorics in the notebook and notes shared on whatsapp for combinatorics second session"
      ],
      "metadata": {
        "id": "_PUaRHd_zzoe"
      },
      "execution_count": 1,
      "outputs": []
    },
    {
      "cell_type": "code",
      "source": [
        "                                                             '''HASHING'''"
      ],
      "metadata": {
        "colab": {
          "base_uri": "https://localhost:8080/",
          "height": 35
        },
        "id": "Jzxf7sINCl-Z",
        "outputId": "3438b26c-eed0-4e73-a81d-12bb34f3dc6c"
      },
      "execution_count": 2,
      "outputs": [
        {
          "output_type": "execute_result",
          "data": {
            "text/plain": [
              "'HASHING'"
            ],
            "application/vnd.google.colaboratory.intrinsic+json": {
              "type": "string"
            }
          },
          "metadata": {},
          "execution_count": 2
        }
      ]
    },
    {
      "cell_type": "code",
      "source": [
        "'''Question 1 -\n",
        "1. You're given a numbers from 1 to 1000 in a list. \n",
        "2. Size of the list will be N.\n",
        "eg. [78,679,1000,999,1,10....]\n",
        "\n",
        "3. You will get a Q queries and each query will contain a value X.\n",
        "4. For each query , you've to return True or False depending on if X is in the list or not.\n",
        "eg. List --> [4, 5, 10,80, 90]\n",
        "    Query--> [10, 500, 1000]\n",
        "    Output--> True or False'''"
      ],
      "metadata": {
        "colab": {
          "base_uri": "https://localhost:8080/",
          "height": 70
        },
        "id": "ISX6l5RaEW1W",
        "outputId": "049f333d-9f03-4dfc-e3e6-f3842596a4ac"
      },
      "execution_count": 3,
      "outputs": [
        {
          "output_type": "execute_result",
          "data": {
            "text/plain": [
              "\"Question 1 -\\n1. You're given a numbers from 1 to 1000 in a list. \\n2. Size of the list will be N.\\neg. [78,679,1000,999,1,10....]\\n\\n3. You will get a Q queries and each query will contain a value X.\\n4. For each query , you've to return True or False depending on if X is in the list or not.\\neg. List --> [4, 5, 10,80, 90]\\n    Query--> [10, 500, 1000]\\n    Output--> True or False\""
            ],
            "application/vnd.google.colaboratory.intrinsic+json": {
              "type": "string"
            }
          },
          "metadata": {},
          "execution_count": 3
        }
      ]
    },
    {
      "cell_type": "code",
      "source": [
        "def is_in_list(lst, query):\n",
        "    return query in lst\n",
        "\n",
        "lst = [4, 5, 10, 80, 90]\n",
        "queries = [10, 500, 1000]\n",
        "\n",
        "for query in queries:\n",
        "    print(is_in_list(lst, query))"
      ],
      "metadata": {
        "colab": {
          "base_uri": "https://localhost:8080/"
        },
        "id": "iSQRHzROFR4I",
        "outputId": "ad72414c-ae1a-432e-b2d2-9aa05a96e57e"
      },
      "execution_count": 4,
      "outputs": [
        {
          "output_type": "stream",
          "name": "stdout",
          "text": [
            "True\n",
            "False\n",
            "False\n"
          ]
        }
      ]
    },
    {
      "cell_type": "code",
      "source": [
        "lst = [4, 5, 10, 80, 90,90]\n",
        "queries = [10, 500, 1000,20]\n",
        "\n",
        "for query in queries:\n",
        "    if query in set(lst):\n",
        "        print(f\"{query} is in the list.\")\n",
        "    else:\n",
        "        print(f\"{query} is not in the list.\")"
      ],
      "metadata": {
        "colab": {
          "base_uri": "https://localhost:8080/"
        },
        "id": "g19qO7edHqrg",
        "outputId": "efd65058-b1ee-406d-f7af-0d2b7bf0cf5a"
      },
      "execution_count": 5,
      "outputs": [
        {
          "output_type": "stream",
          "name": "stdout",
          "text": [
            "10 is in the list.\n",
            "500 is not in the list.\n",
            "1000 is not in the list.\n",
            "20 is not in the list.\n"
          ]
        }
      ]
    },
    {
      "cell_type": "code",
      "source": [
        "'''It's also worth noting that, converting the list to set is O(n) operation, \n",
        "but checking if an element is present in a set is O(1) on average, so using set is faster than checking on list.'''"
      ],
      "metadata": {
        "colab": {
          "base_uri": "https://localhost:8080/",
          "height": 53
        },
        "id": "-8NdEp8ewkUl",
        "outputId": "c7aeba89-9ea8-4169-b0e2-a3fb76b5dd17"
      },
      "execution_count": 25,
      "outputs": [
        {
          "output_type": "execute_result",
          "data": {
            "text/plain": [
              "\"It's also worth noting that, converting the list to set is O(n) operation, \\nbut checking if an element is present in a set is O(1) on average, so using set is faster than checking on list.\""
            ],
            "application/vnd.google.colaboratory.intrinsic+json": {
              "type": "string"
            }
          },
          "metadata": {},
          "execution_count": 25
        }
      ]
    },
    {
      "cell_type": "code",
      "source": [
        "lst = [4, 5, 10, 80, 90,90]\n",
        "queries = [10, 500, 1000,20]\n",
        "def linear_search(lst, queries):\n",
        "  result=[]\n",
        "  for q in queries:\n",
        "    if q in set(lst):\n",
        "      print(f\"{q} is on the list\")\n",
        "      print(True)\n",
        "    else:\n",
        "      print(f\"{q} is not on list \")\n",
        "      print(False)\n",
        "linear_search(lst, queries)"
      ],
      "metadata": {
        "colab": {
          "base_uri": "https://localhost:8080/"
        },
        "id": "YgAF1RDeIAIJ",
        "outputId": "9850a6e2-6a39-40c6-f505-11a176b691f6"
      },
      "execution_count": 4,
      "outputs": [
        {
          "output_type": "stream",
          "name": "stdout",
          "text": [
            "10 is on the list\n",
            "True\n",
            "500 is not on list \n",
            "False\n",
            "1000 is not on list \n",
            "False\n",
            "20 is not on list \n",
            "False\n"
          ]
        }
      ]
    },
    {
      "cell_type": "code",
      "source": [
        "#another quick method to do this above operation without using linear or binary search. \n",
        "#suppose the list only can contain values between 1 to 10\n",
        "#assign every elemnt to its correponding index\n",
        "flags= [False]*11\n",
        "flags"
      ],
      "metadata": {
        "colab": {
          "base_uri": "https://localhost:8080/"
        },
        "id": "krb1t4vLO1sP",
        "outputId": "7039cb15-585a-4d9c-aa93-a3d43e05ac60"
      },
      "execution_count": 17,
      "outputs": [
        {
          "output_type": "execute_result",
          "data": {
            "text/plain": [
              "[False, False, False, False, False, False, False, False, False, False, False]"
            ]
          },
          "metadata": {},
          "execution_count": 17
        }
      ]
    },
    {
      "cell_type": "code",
      "source": [
        "values =[5,1,3,9,10]\n",
        "for i in values:\n",
        "  flags[i]= True\n",
        "print(flags)"
      ],
      "metadata": {
        "colab": {
          "base_uri": "https://localhost:8080/"
        },
        "id": "hkJr9VjMiebN",
        "outputId": "917e4133-e568-40b7-d553-7fad29ae92c3"
      },
      "execution_count": 18,
      "outputs": [
        {
          "output_type": "stream",
          "name": "stdout",
          "text": [
            "[False, True, False, True, False, True, False, False, False, True, True]\n"
          ]
        }
      ]
    },
    {
      "cell_type": "code",
      "source": [
        "#run the queries list and start searching for elements present in values\n",
        "queries= [2,4,8,1]\n",
        "for q in queries:\n",
        "  if flags[q]:\n",
        "    print(True)\n",
        "  else:\n",
        "    print(False)\n"
      ],
      "metadata": {
        "colab": {
          "base_uri": "https://localhost:8080/"
        },
        "id": "LUy1CRFdjTSM",
        "outputId": "931b7ea7-9975-4eb3-f0e7-37e9fc0bb928"
      },
      "execution_count": 20,
      "outputs": [
        {
          "output_type": "stream",
          "name": "stdout",
          "text": [
            "False\n",
            "False\n",
            "False\n",
            "True\n"
          ]
        }
      ]
    },
    {
      "cell_type": "code",
      "source": [
        "''' the above method is quick but still consuming a lot of unnecessary space that's why use sets method which is again explained below'''"
      ],
      "metadata": {
        "colab": {
          "base_uri": "https://localhost:8080/",
          "height": 35
        },
        "id": "Cs_g-3eBj103",
        "outputId": "658e748e-bb68-40c9-882e-925e3a70d901"
      },
      "execution_count": 29,
      "outputs": [
        {
          "output_type": "execute_result",
          "data": {
            "text/plain": [
              "\" the above method is quick but still consuming a lot of unnecessary space that's why use sets method which is again explained below\""
            ],
            "application/vnd.google.colaboratory.intrinsic+json": {
              "type": "string"
            }
          },
          "metadata": {},
          "execution_count": 29
        }
      ]
    },
    {
      "cell_type": "code",
      "source": [
        "lst = [4, 5, 10, 80, 90,90]\n",
        "queries = [10, 500, 1000,20]\n",
        "\n",
        "for q in queries:\n",
        "  if q in set(lst):\n",
        "    print(True)\n",
        "  else:\n",
        "    print(False)"
      ],
      "metadata": {
        "colab": {
          "base_uri": "https://localhost:8080/"
        },
        "id": "y5gPzsWzq-b_",
        "outputId": "2ff27ca7-046a-4843-baa6-5d2add4dcfa8"
      },
      "execution_count": 30,
      "outputs": [
        {
          "output_type": "stream",
          "name": "stdout",
          "text": [
            "True\n",
            "False\n",
            "False\n",
            "False\n"
          ]
        }
      ]
    },
    {
      "cell_type": "code",
      "source": [
        "'''It's also worth noting that, converting the list to set is O(n) operation, \n",
        "but checking if an element is present in a set is O(1) on average, so using set is faster than checking on list without wasting any space'''"
      ],
      "metadata": {
        "colab": {
          "base_uri": "https://localhost:8080/",
          "height": 53
        },
        "id": "rVEzZKzex7KF",
        "outputId": "9dd4002a-3d74-4b2d-920c-e0850b9c4d44"
      },
      "execution_count": 32,
      "outputs": [
        {
          "output_type": "execute_result",
          "data": {
            "text/plain": [
              "\"It's also worth noting that, converting the list to set is O(n) operation, \\nbut checking if an element is present in a set is O(1) on average, so using set is faster than checking on list without wasting any space\""
            ],
            "application/vnd.google.colaboratory.intrinsic+json": {
              "type": "string"
            }
          },
          "metadata": {},
          "execution_count": 32
        }
      ]
    },
    {
      "cell_type": "code",
      "source": [
        "'''since sets do not have indices so it doesn't follow linear search principle and if statemet is used for control flow not for searching'''"
      ],
      "metadata": {
        "colab": {
          "base_uri": "https://localhost:8080/",
          "height": 35
        },
        "id": "4nv0268CymN7",
        "outputId": "58099b25-fae1-4b7b-8e31-36813c23ba5c"
      },
      "execution_count": 33,
      "outputs": [
        {
          "output_type": "execute_result",
          "data": {
            "text/plain": [
              "\"since sets do not have indices so it doesn't follow linear search principle and if statemet is used for control flow not for searching\""
            ],
            "application/vnd.google.colaboratory.intrinsic+json": {
              "type": "string"
            }
          },
          "metadata": {},
          "execution_count": 33
        }
      ]
    },
    {
      "cell_type": "code",
      "source": [],
      "metadata": {
        "id": "-yuPHO5T0Mx9"
      },
      "execution_count": null,
      "outputs": []
    }
  ]
}