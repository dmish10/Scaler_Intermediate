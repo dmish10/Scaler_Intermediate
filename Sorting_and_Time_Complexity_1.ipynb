{
  "nbformat": 4,
  "nbformat_minor": 0,
  "metadata": {
    "colab": {
      "provenance": [],
      "authorship_tag": "ABX9TyNk6tf4EF4aanBtIFbYgvEi",
      "include_colab_link": true
    },
    "kernelspec": {
      "name": "python3",
      "display_name": "Python 3"
    },
    "language_info": {
      "name": "python"
    }
  },
  "cells": [
    {
      "cell_type": "markdown",
      "metadata": {
        "id": "view-in-github",
        "colab_type": "text"
      },
      "source": [
        "<a href=\"https://colab.research.google.com/github/dmish10/Scaler_Intermediate/blob/main/Sorting_and_Time_Complexity_1.ipynb\" target=\"_parent\"><img src=\"https://colab.research.google.com/assets/colab-badge.svg\" alt=\"Open In Colab\"/></a>"
      ]
    },
    {
      "cell_type": "code",
      "execution_count": null,
      "metadata": {
        "id": "a2BGpt3Na6lY"
      },
      "outputs": [],
      "source": [
        "#below algo foo() has three operations and the cost function for this algo is 3\n",
        "def foo():\n",
        "  x=1\n",
        "  y=2\n",
        "  z=3\n",
        "\n",
        "  # We will write a cost function for evry function or algorithm that we write\n",
        "\n",
        "  # C(foo())-> 3 (constant) "
      ]
    },
    {
      "cell_type": "code",
      "source": [
        "def foo(n):\n",
        "  x=1\n",
        "  y=2\n",
        "  z=3\n",
        "\n",
        "  #the no. of operations is completely independent of the arguments\n",
        "\n",
        "  foo(5)\n",
        "  foo(500)\n",
        "  foo(1000)\n",
        "  foo(10000)\n",
        "  #same operations irrespective of the value of n"
      ],
      "metadata": {
        "id": "5ZOC9g2ObH1X"
      },
      "execution_count": null,
      "outputs": []
    },
    {
      "cell_type": "code",
      "source": [
        "def foo(n):\n",
        "  for i in range(n):\n",
        "    print(i, end=\" \") #n operations\n",
        "\n",
        "    #the number of operations are directly dependent on the value n in a linear fubction\n",
        "    # C(foo())-> n (linear)"
      ],
      "metadata": {
        "id": "Vqs8FgrSchsZ"
      },
      "execution_count": null,
      "outputs": []
    },
    {
      "cell_type": "code",
      "source": [
        "foo(5)"
      ],
      "metadata": {
        "colab": {
          "base_uri": "https://localhost:8080/"
        },
        "id": "8VoqJeD0eGvJ",
        "outputId": "06bacffe-6dd0-4397-fa95-1b9d9c46d176"
      },
      "execution_count": null,
      "outputs": [
        {
          "output_type": "stream",
          "name": "stdout",
          "text": [
            "0 1 2 3 4 "
          ]
        }
      ]
    },
    {
      "cell_type": "code",
      "source": [
        "foo(10)"
      ],
      "metadata": {
        "colab": {
          "base_uri": "https://localhost:8080/"
        },
        "id": "gLiuLQozeIle",
        "outputId": "a9171d0a-37ff-46d6-ad62-e84973a369a4"
      },
      "execution_count": null,
      "outputs": [
        {
          "output_type": "stream",
          "name": "stdout",
          "text": [
            "0 1 2 3 4 5 6 7 8 9 "
          ]
        }
      ]
    },
    {
      "cell_type": "code",
      "source": [
        "def foo(n):\n",
        "  x=1\n",
        "  y=2\n",
        "  z=3\n",
        "  for i in range(n):\n",
        "    print(i, end=\" \") #n operations\n",
        "\n",
        "  #C(foo())-> n(linear factor) +3 (constant factor) ->polynomial equation.\n",
        "  #n + 3 can also be represented as n^1 + 3 * n^0\n",
        "  #C(foo()) is the cost function for foo function"
      ],
      "metadata": {
        "id": "Wf8VrUiIeK0f"
      },
      "execution_count": null,
      "outputs": []
    },
    {
      "cell_type": "code",
      "source": [
        "def foo(n):\n",
        "  x=1\n",
        "  y=2\n",
        "  z=3\n",
        "  for i in range(n):\n",
        "    print(i, end=\" \") #n operations\n",
        "  for j in range(n):\n",
        "    for k in range(n):\n",
        "      print(j+k) #n^2 operations\n",
        "\n",
        "  #C(foo())->   n^2+ n + 3 can also be represented as n^2 + n^1 + 3 * n^0 \n"
      ],
      "metadata": {
        "id": "0dJV0FCVhKjJ"
      },
      "execution_count": null,
      "outputs": []
    },
    {
      "cell_type": "code",
      "source": [
        "''' refer to desmos chart as bookmarked in chrome to understand that for equations such as y=n and y=n+5, \n",
        "if big values are involved the slope lines for both equations would eventually coincide or look as one when we zoom out a little(as values go bigger).\n",
        " this suggests that in a cost function the constants don't matter.'''"
      ],
      "metadata": {
        "colab": {
          "base_uri": "https://localhost:8080/",
          "height": 70
        },
        "id": "Bhe7ZRgLhtsL",
        "outputId": "7a83dbf8-d8f2-4f48-e741-5807d85443fa"
      },
      "execution_count": null,
      "outputs": [
        {
          "output_type": "execute_result",
          "data": {
            "text/plain": [
              "\" refer to desmos chart as bookmarked in chrome to understand that for equations such as y=n and y=n+5, \\nif big values are involved the slope lines for both equations would eventually coincide or look as one when we zoom out a little(as values go bigger).\\n this suggests that in a cost function the constants don't matter.\""
            ],
            "application/vnd.google.colaboratory.intrinsic+json": {
              "type": "string"
            }
          },
          "metadata": {},
          "execution_count": 5
        }
      ]
    },
    {
      "cell_type": "code",
      "source": [
        "'''similarly for parabolic equations such as y = n^2 + n+ 5 and y = n^2. As we zoom out, only polynomials with higher power/ degree or exponents matter. \n",
        "lower power varibales do not matter or have influence on the parabola. in the end, highest exponent polynomial term governs the trend of the algorithm deciding\n",
        "how the algo will grow or reduce in terms of no. of operations it requires'''"
      ],
      "metadata": {
        "colab": {
          "base_uri": "https://localhost:8080/",
          "height": 70
        },
        "id": "LdnEv4w7knmK",
        "outputId": "a7c069ad-0e00-4a1f-ee27-14863d10fbcc"
      },
      "execution_count": null,
      "outputs": [
        {
          "output_type": "execute_result",
          "data": {
            "text/plain": [
              "'similarly for parabolic equations such as y = n^2 + n+ 5 and y = n^2. As we zoom out, only polynomials with higher power/ degree or exponents matter. \\nlower power varibales do not matter or have influence on the parabola. in the end, highest exponent polynomial term governs the trend of the algorithm deciding\\nhow the algo will grow or reduce in terms of no. of operations it requires'"
            ],
            "application/vnd.google.colaboratory.intrinsic+json": {
              "type": "string"
            }
          },
          "metadata": {},
          "execution_count": 8
        }
      ]
    },
    {
      "cell_type": "code",
      "source": [
        "''' if y=x and y=2x ..here the factor is with the highest polynomial term and it will matter ..the graphs when zoomed won't converge but intersect.'''"
      ],
      "metadata": {
        "colab": {
          "base_uri": "https://localhost:8080/",
          "height": 35
        },
        "id": "11RPQEvmqgFV",
        "outputId": "1c0a0030-efee-4179-987e-1ecb5e11ab19"
      },
      "execution_count": null,
      "outputs": [
        {
          "output_type": "execute_result",
          "data": {
            "text/plain": [
              "\" if y=x and y=2x ..here the factor is with the highest polynomial term and it will matter ..the graphs when zoomed won't converge but intersect.\""
            ],
            "application/vnd.google.colaboratory.intrinsic+json": {
              "type": "string"
            }
          },
          "metadata": {},
          "execution_count": 16
        }
      ]
    },
    {
      "cell_type": "code",
      "source": [
        "''' Time Complexity  '''"
      ],
      "metadata": {
        "colab": {
          "base_uri": "https://localhost:8080/",
          "height": 35
        },
        "id": "AJBWkZsRlY1X",
        "outputId": "01a487dd-71d4-4dcc-db53-15bb40ea2f1d"
      },
      "execution_count": null,
      "outputs": [
        {
          "output_type": "execute_result",
          "data": {
            "text/plain": [
              "' Time Complexity  '"
            ],
            "application/vnd.google.colaboratory.intrinsic+json": {
              "type": "string"
            }
          },
          "metadata": {},
          "execution_count": 9
        }
      ]
    },
    {
      "cell_type": "code",
      "source": [
        "'''C(f(x)) --> n ^ 2 + n + c  --> n^2 +n^1 + n^0*c ''' "
      ],
      "metadata": {
        "colab": {
          "base_uri": "https://localhost:8080/",
          "height": 35
        },
        "id": "jorm7kLSm-j9",
        "outputId": "e6b44dc8-3cb2-4f11-e9ac-c5dbd6f36bf9"
      },
      "execution_count": null,
      "outputs": [
        {
          "output_type": "execute_result",
          "data": {
            "text/plain": [
              "'C(f(x)) --> n ^ 2 + n + c  --> n^2 +n^1 + n^0*c '"
            ],
            "application/vnd.google.colaboratory.intrinsic+json": {
              "type": "string"
            }
          },
          "metadata": {},
          "execution_count": 10
        }
      ]
    },
    {
      "cell_type": "code",
      "source": [
        "''' in above equation, only the highest power polynomial varoable matters , rest are irrelevant when handling high values'''"
      ],
      "metadata": {
        "colab": {
          "base_uri": "https://localhost:8080/",
          "height": 35
        },
        "id": "BOlPHn6Enscz",
        "outputId": "a0c6e277-5ed4-45a0-c9b6-0476b0b64167"
      },
      "execution_count": null,
      "outputs": [
        {
          "output_type": "execute_result",
          "data": {
            "text/plain": [
              "' in above equation, only the highest power polynomial varoable matters , rest are irrelevant when handling high values'"
            ],
            "application/vnd.google.colaboratory.intrinsic+json": {
              "type": "string"
            }
          },
          "metadata": {},
          "execution_count": 11
        }
      ]
    },
    {
      "cell_type": "code",
      "source": [
        "'''n^2 in the boave equation is the Big O Notation which represents the time complexity in the worst case scenario'''"
      ],
      "metadata": {
        "colab": {
          "base_uri": "https://localhost:8080/",
          "height": 35
        },
        "id": "A9uwuemVn4xg",
        "outputId": "c78e4671-0fe3-44c0-d11b-3f1f753c2bb1"
      },
      "execution_count": null,
      "outputs": [
        {
          "output_type": "execute_result",
          "data": {
            "text/plain": [
              "'n^2 in the boave equation is the Big O Notation which represents the time complexity in the worst case scenario'"
            ],
            "application/vnd.google.colaboratory.intrinsic+json": {
              "type": "string"
            }
          },
          "metadata": {},
          "execution_count": 12
        }
      ]
    },
    {
      "cell_type": "code",
      "source": [
        "'''C(f(x)) is O(n^2) --> C1*n^2 + C2*n^1 + C3. --> also known as 2nd degree polynomial'''"
      ],
      "metadata": {
        "colab": {
          "base_uri": "https://localhost:8080/",
          "height": 35
        },
        "id": "1yFpIAvOofCK",
        "outputId": "7edfe9f5-e9a7-4fda-a49d-83b1916a06f5"
      },
      "execution_count": null,
      "outputs": [
        {
          "output_type": "execute_result",
          "data": {
            "text/plain": [
              "'C(f(x)) is O(n^2) --> C1*n^2 + C2*n^1 + C3. --> also known as 2nd degree polynomial'"
            ],
            "application/vnd.google.colaboratory.intrinsic+json": {
              "type": "string"
            }
          },
          "metadata": {},
          "execution_count": 15
        }
      ]
    },
    {
      "cell_type": "code",
      "source": [
        "def foo(n):\n",
        "  x=1\n",
        "  y=2\n",
        "  z=3\n",
        "  for i in range(n):\n",
        "    print(i, end=\" \") #n operations\n",
        "  if n >10:\n",
        "    for j in range(n):\n",
        "      for k in range(n):\n",
        "        print(j+k) #n^2 operations \n",
        "\n",
        "# worst case  C(foo())->   n^2+ n + 3 can also be represented as n^2 + n^1 + 3 * n^0   --> Big O\n",
        "# best case   C(foo())->  n + 3 can also be represented as n^1 + 3 * n^0. --> Omega or Omega(n) --> n for linear equation here\n",
        "# Worst case O(n^2)\n",
        "# Best case Omega(n^2)\n"
      ],
      "metadata": {
        "id": "URSC_10ro1I2"
      },
      "execution_count": null,
      "outputs": []
    },
    {
      "cell_type": "code",
      "source": [
        "def foo(m,n):\n",
        "  for i in m:\n",
        "    print(i)\n",
        "  for j in n:\n",
        "    for k in n:\n",
        "      print(j+k)\n",
        "\n",
        "#the cost function C(f(x)) for this algo is n^2 + m\n",
        "\n",
        "#in time complexity analysis, only one variable is chosen for the analysis \n",
        "# all other varaibles(arguments) are considered as constants\n",
        "#either variable n or m can be chosen for time complexity analysis. O(m) or O(n^2) but the more appropriate call would be choose the variable closer to the analysis\n",
        "#In general, dependson situation but range of the variable can be one of the features to pick variable for analysis. bigger the range, better pick."
      ],
      "metadata": {
        "id": "LdNN-KZ4xpOU"
      },
      "execution_count": null,
      "outputs": []
    },
    {
      "cell_type": "code",
      "source": [
        "                                 '''' BUBBLE SORTING ALGORITHM'''"
      ],
      "metadata": {
        "colab": {
          "base_uri": "https://localhost:8080/",
          "height": 35
        },
        "id": "wePAMAEmx-BT",
        "outputId": "d58070f0-492a-48bb-e52b-efecbf361f47"
      },
      "execution_count": null,
      "outputs": [
        {
          "output_type": "execute_result",
          "data": {
            "text/plain": [
              "\"' BUBBLE SORTING ALGORITHM\""
            ],
            "application/vnd.google.colaboratory.intrinsic+json": {
              "type": "string"
            }
          },
          "metadata": {},
          "execution_count": 21
        }
      ]
    },
    {
      "cell_type": "code",
      "source": [
        "a= [1, 5, 2, 4 , 7, 3]"
      ],
      "metadata": {
        "id": "3Zlwz5Ls1euJ"
      },
      "execution_count": null,
      "outputs": []
    },
    {
      "cell_type": "code",
      "source": [
        "#sort it using bubble sorting\n",
        "def bubble_sort(a):\n",
        "  n=len(a)\n",
        "  for i in range(n-1):\n",
        "        # After the first iteration, the maximum element will be in the last.\n",
        "        # range(n) also work but outer loop will\n",
        "        # repeat one time more than needed. when i=0, last element has nothing next to compare with and last element is sorted first \n",
        "        # Last i elements are already in place or alternatively j and j+1 are already being compared anyways in the start at once.\n",
        "    for j in range(n-i-1):\n",
        "            # traverse the array from 0 to n-i-1 to avoid elements which have already been sorted &so j is len(a)-(i+1).\n",
        "            # if j = n-i then last element nothing to compare it with and there will be error as out of range\n",
        "            # Swap if the element found is smaller\n",
        "            # than the next element\n",
        "      if a[j+1]<a[j]:\n",
        "        a[j], a[j + 1] = a[j + 1], a[j]\n",
        "\n",
        "bubble_sort(a)\n",
        "# print(a)\n",
        "for i in range(len(a)):\n",
        "    print(a[i], end=\" \")\n"
      ],
      "metadata": {
        "colab": {
          "base_uri": "https://localhost:8080/"
        },
        "id": "5qosnRu85MJt",
        "outputId": "871c289b-0a08-4cfd-9ebb-77a5edd4126e"
      },
      "execution_count": null,
      "outputs": [
        {
          "output_type": "stream",
          "name": "stdout",
          "text": [
            "1 2 3 4 5 7 "
          ]
        }
      ]
    },
    {
      "cell_type": "code",
      "source": [
        "'''time complexity for bubble sort is \n",
        "\n",
        "C(bubble_sort). --> n +(n-1)+(n-2)+(n-3)...+1 which is n(n+1)/2 ==> (n^2)/2 +n/2 + 1/2 \n",
        "and in time complexity the highest degree polynomial term is considered so TC = O(n^2) which is worst case'''"
      ],
      "metadata": {
        "colab": {
          "base_uri": "https://localhost:8080/",
          "height": 53
        },
        "id": "Mn1KCBrv7RyN",
        "outputId": "c9b49819-c9ba-4d51-e2af-14c5ace2acb6"
      },
      "execution_count": null,
      "outputs": [
        {
          "output_type": "execute_result",
          "data": {
            "text/plain": [
              "'time complexity for bubble sort is \\n\\nC(bubble_sort). --> n +(n-1)+(n-2)+(n-3)...+1 which is n(n+1)/2 ==> (n^2)/2 +n/2 + 1/2 \\nand in time complexity the highest degree polynomial term is considered so TC = O(n^2) which is worst case'"
            ],
            "application/vnd.google.colaboratory.intrinsic+json": {
              "type": "string"
            }
          },
          "metadata": {},
          "execution_count": 36
        }
      ]
    },
    {
      "cell_type": "code",
      "source": [
        "a= [1, 5, 2, 4 , 7, 3]"
      ],
      "metadata": {
        "id": "EAQQ9Ya3FhpD"
      },
      "execution_count": null,
      "outputs": []
    },
    {
      "cell_type": "code",
      "source": [
        "def bubble_sort_annotated(a):\n",
        "  for i in range(len(a)-1):\n",
        "    print(a)\n",
        "    print(\"-\"*20)\n",
        "    for j in range(len(a)-i-1):\n",
        "      if a[j]>a[j+1]:\n",
        "        a[j],a[j+1]=a[j+1],a[j]\n",
        "\n",
        "      print(\"\\t\",a)\n",
        "  return a\n",
        "bubble_sort_annotated(a)"
      ],
      "metadata": {
        "colab": {
          "base_uri": "https://localhost:8080/"
        },
        "id": "uK9GAdF7FREN",
        "outputId": "e2cebc4c-086d-4fdb-f66a-c2a111fa39ac"
      },
      "execution_count": null,
      "outputs": [
        {
          "output_type": "stream",
          "name": "stdout",
          "text": [
            "[1, 5, 2, 4, 7, 3]\n",
            "--------------------\n",
            "\t [1, 5, 2, 4, 7, 3]\n",
            "\t [1, 2, 5, 4, 7, 3]\n",
            "\t [1, 2, 4, 5, 7, 3]\n",
            "\t [1, 2, 4, 5, 7, 3]\n",
            "\t [1, 2, 4, 5, 3, 7]\n",
            "[1, 2, 4, 5, 3, 7]\n",
            "--------------------\n",
            "\t [1, 2, 4, 5, 3, 7]\n",
            "\t [1, 2, 4, 5, 3, 7]\n",
            "\t [1, 2, 4, 5, 3, 7]\n",
            "\t [1, 2, 4, 3, 5, 7]\n",
            "[1, 2, 4, 3, 5, 7]\n",
            "--------------------\n",
            "\t [1, 2, 4, 3, 5, 7]\n",
            "\t [1, 2, 4, 3, 5, 7]\n",
            "\t [1, 2, 3, 4, 5, 7]\n",
            "[1, 2, 3, 4, 5, 7]\n",
            "--------------------\n",
            "\t [1, 2, 3, 4, 5, 7]\n",
            "\t [1, 2, 3, 4, 5, 7]\n",
            "[1, 2, 3, 4, 5, 7]\n",
            "--------------------\n",
            "\t [1, 2, 3, 4, 5, 7]\n"
          ]
        },
        {
          "output_type": "execute_result",
          "data": {
            "text/plain": [
              "[1, 2, 3, 4, 5, 7]"
            ]
          },
          "metadata": {},
          "execution_count": 5
        }
      ]
    },
    {
      "cell_type": "code",
      "source": [
        "bubble_sort_annotated([1,2,3,4,5])"
      ],
      "metadata": {
        "colab": {
          "base_uri": "https://localhost:8080/"
        },
        "id": "p17JUuJ0I-L9",
        "outputId": "1ac403af-d8f8-4680-c48f-1d48d90ab317"
      },
      "execution_count": null,
      "outputs": [
        {
          "output_type": "stream",
          "name": "stdout",
          "text": [
            "[1, 2, 3, 4, 5]\n",
            "--------------------\n",
            "\t [1, 2, 3, 4, 5]\n",
            "\t [1, 2, 3, 4, 5]\n",
            "\t [1, 2, 3, 4, 5]\n",
            "\t [1, 2, 3, 4, 5]\n",
            "[1, 2, 3, 4, 5]\n",
            "--------------------\n",
            "\t [1, 2, 3, 4, 5]\n",
            "\t [1, 2, 3, 4, 5]\n",
            "\t [1, 2, 3, 4, 5]\n",
            "[1, 2, 3, 4, 5]\n",
            "--------------------\n",
            "\t [1, 2, 3, 4, 5]\n",
            "\t [1, 2, 3, 4, 5]\n",
            "[1, 2, 3, 4, 5]\n",
            "--------------------\n",
            "\t [1, 2, 3, 4, 5]\n"
          ]
        },
        {
          "output_type": "execute_result",
          "data": {
            "text/plain": [
              "[1, 2, 3, 4, 5]"
            ]
          },
          "metadata": {},
          "execution_count": 6
        }
      ]
    },
    {
      "cell_type": "code",
      "source": [
        "''' but in case we pass a sorted list through the bubble sort algo,it still runs through n^2 steps and doesn't optimise\n",
        "so write the most optimal bubble sort omega(n) code that's the best case scenario for bubble sort'''"
      ],
      "metadata": {
        "colab": {
          "base_uri": "https://localhost:8080/",
          "height": 53
        },
        "id": "PN_IfXIIGEGR",
        "outputId": "a82e9763-031b-4f1f-972c-8e2e7eaa2f61"
      },
      "execution_count": null,
      "outputs": [
        {
          "output_type": "execute_result",
          "data": {
            "text/plain": [
              "\" but in case we pass a sorted list through the bubble sort algo,it still runs through n^2 steps and doesn't optimise\\nso write the most optimal bubble sort omega(n) code that's the best case scenario for bubble sort\""
            ],
            "application/vnd.google.colaboratory.intrinsic+json": {
              "type": "string"
            }
          },
          "metadata": {},
          "execution_count": 1
        }
      ]
    },
    {
      "cell_type": "code",
      "source": [
        "def omega_bubble_sort(arr):\n",
        "  swap_flag = False\n",
        "  for i in range(len(arr)-1):\n",
        "    for j in range(len(arr)-i-1):\n",
        "      if arr[j+1]<arr[j]:\n",
        "        swap_flag = True\n",
        "        arr[j], arr[j+1]=arr[j+1], arr[j]\n",
        "    if not swap_flag:\n",
        "      return \n",
        "  return arr\n",
        "omega_bubble_sort([1, 5, 2, 4, 7, 3])"
      ],
      "metadata": {
        "colab": {
          "base_uri": "https://localhost:8080/"
        },
        "id": "OT1YgOHyG3xY",
        "outputId": "54d726a8-e258-4fdf-8d9b-678873b8e65c"
      },
      "execution_count": null,
      "outputs": [
        {
          "output_type": "execute_result",
          "data": {
            "text/plain": [
              "[1, 2, 3, 4, 5, 7]"
            ]
          },
          "metadata": {},
          "execution_count": 13
        }
      ]
    },
    {
      "cell_type": "code",
      "source": [
        "omega_bubble_sort([2,3,4,5,1,12])"
      ],
      "metadata": {
        "colab": {
          "base_uri": "https://localhost:8080/"
        },
        "id": "TxpMZYqZKjo_",
        "outputId": "82172cd9-05be-4aa4-ba9d-ecd10086ceaf"
      },
      "execution_count": null,
      "outputs": [
        {
          "output_type": "execute_result",
          "data": {
            "text/plain": [
              "[1, 2, 3, 4, 5, 12]"
            ]
          },
          "metadata": {},
          "execution_count": 16
        }
      ]
    },
    {
      "cell_type": "code",
      "source": [
        "omega_bubble_sort([1,2,3,4,5])"
      ],
      "metadata": {
        "id": "pYtVc4H-Kw3S"
      },
      "execution_count": null,
      "outputs": []
    },
    {
      "cell_type": "code",
      "source": [
        "def Omega_bubble_sort_annotated(arr):\n",
        "  swap_flag = False\n",
        "  for i in range(len(arr)-1):\n",
        "    print(arr)\n",
        "    print(\"-\"*20)\n",
        "    for j in range(len(arr)-i-1):\n",
        "      if arr[j]>arr[j+1]:\n",
        "        swap_flag = True\n",
        "        arr[j],arr[j+1]=arr[j+1],arr[j]\n",
        "\n",
        "      print(\"\\t\",arr)\n",
        "    if not swap_flag:\n",
        "      return\n",
        "  return arr\n",
        "Omega_bubble_sort_annotated([1,2,3,4,5])"
      ],
      "metadata": {
        "colab": {
          "base_uri": "https://localhost:8080/"
        },
        "id": "mF5DlD-rJKbt",
        "outputId": "77bfa42f-6286-479e-e470-dba40b3efc77"
      },
      "execution_count": null,
      "outputs": [
        {
          "output_type": "stream",
          "name": "stdout",
          "text": [
            "[1, 2, 3, 4, 5]\n",
            "--------------------\n",
            "\t [1, 2, 3, 4, 5]\n",
            "\t [1, 2, 3, 4, 5]\n",
            "\t [1, 2, 3, 4, 5]\n",
            "\t [1, 2, 3, 4, 5]\n"
          ]
        }
      ]
    },
    {
      "cell_type": "code",
      "source": [
        "'''so even in the best case sorted list scenario, the TC comes out to be O(n^2) as shown above'''"
      ],
      "metadata": {
        "colab": {
          "base_uri": "https://localhost:8080/",
          "height": 35
        },
        "id": "5R95ypRVGmp1",
        "outputId": "815f5fed-b0b4-4b83-f777-faf1ecea62ac"
      },
      "execution_count": null,
      "outputs": [
        {
          "output_type": "execute_result",
          "data": {
            "text/plain": [
              "'so even in the best case sorted list scenario, the TC comes out to be O(n^2) as shown above'"
            ],
            "application/vnd.google.colaboratory.intrinsic+json": {
              "type": "string"
            }
          },
          "metadata": {},
          "execution_count": 44
        }
      ]
    },
    {
      "cell_type": "code",
      "source": [
        "#assignment questions-- "
      ],
      "metadata": {
        "id": "N4k1nanoHN5i"
      },
      "execution_count": null,
      "outputs": []
    },
    {
      "cell_type": "code",
      "source": [
        "arr=[1, 5, 2, 4, 7, 3]"
      ],
      "metadata": {
        "id": "zylLQCkijN91"
      },
      "execution_count": null,
      "outputs": []
    },
    {
      "cell_type": "code",
      "source": [
        "def bub_sort1(arr):\n",
        "  for j in range(len(arr)-1,-1,-1):\n",
        "    for k in range(0,j):\n",
        "      if(arr[k]>arr[k+1]):\n",
        "        temp=arr[k]\n",
        "        arr[k]=arr[k+1]\n",
        "        arr[k+1]=temp\n",
        "\n",
        "  return arr\n",
        "bub_sort1(arr)"
      ],
      "metadata": {
        "colab": {
          "base_uri": "https://localhost:8080/"
        },
        "id": "Ajtf-5qWjHF_",
        "outputId": "83e53971-9791-45d0-d075-b2941a250fc7"
      },
      "execution_count": null,
      "outputs": [
        {
          "output_type": "execute_result",
          "data": {
            "text/plain": [
              "[1, 2, 3, 4, 5, 7]"
            ]
          },
          "metadata": {},
          "execution_count": 51
        }
      ]
    },
    {
      "cell_type": "code",
      "source": [
        "arr=[1, 5, 2, 4, 7, 3]"
      ],
      "metadata": {
        "id": "aJyvaCqajtEb"
      },
      "execution_count": null,
      "outputs": []
    },
    {
      "cell_type": "code",
      "source": [
        "def bub_sort2(arr):\n",
        "  for j in range(len(arr)-1,-1,-1):\n",
        "    for k in range(0,j):\n",
        "      if(arr[k]<arr[k+1]):\n",
        "        temp=arr[k]\n",
        "        arr[k]=arr[k+1]\n",
        "        arr[k+1]=temp\n",
        "\n",
        "  return arr\n",
        "bub_sort2(arr)"
      ],
      "metadata": {
        "colab": {
          "base_uri": "https://localhost:8080/"
        },
        "id": "ODM7ctTKjQU-",
        "outputId": "5ab36e32-4ccd-49de-83c5-76f28d0d4a10"
      },
      "execution_count": null,
      "outputs": [
        {
          "output_type": "execute_result",
          "data": {
            "text/plain": [
              "[7, 5, 4, 3, 2, 1]"
            ]
          },
          "metadata": {},
          "execution_count": 58
        }
      ]
    },
    {
      "cell_type": "code",
      "source": [
        "def bubbleSort(arr,k):\n",
        "    \"\"\"\n",
        "    argument arr is list, k is int\n",
        "    store result in res\n",
        "    \"\"\"\n",
        "    n = len(arr)\n",
        "    res=0\n",
        "    #YOUR CODE GOES HERE\n",
        "    temp = []\n",
        "    for i in range(k):\n",
        "        temp.append(arr[i]);\n",
        "    vals = bsort(temp)\n",
        "    res = vals[0] + arr[n-1]"
      ],
      "metadata": {
        "id": "4E2Z9HCrkost"
      },
      "execution_count": null,
      "outputs": []
    },
    {
      "cell_type": "code",
      "source": [
        "num= input()"
      ],
      "metadata": {
        "colab": {
          "base_uri": "https://localhost:8080/"
        },
        "id": "r5ALEexupH2r",
        "outputId": "bbacf85d-95e7-41e2-fadb-ee1f5463b886"
      },
      "execution_count": null,
      "outputs": [
        {
          "name": "stdout",
          "output_type": "stream",
          "text": [
            "64 34 25 12 22 11 90\n"
          ]
        }
      ]
    },
    {
      "cell_type": "code",
      "source": [
        "arr=[]\n",
        "L1= num.split()\n",
        "for i in L1:\n",
        "  arr.append(int(i))\n",
        "print(arr)"
      ],
      "metadata": {
        "colab": {
          "base_uri": "https://localhost:8080/"
        },
        "id": "iFqM-zQ6qEBV",
        "outputId": "bb6b0a06-8ed5-4ff4-de92-b888e9ce1f66"
      },
      "execution_count": null,
      "outputs": [
        {
          "output_type": "stream",
          "name": "stdout",
          "text": [
            "[64, 34, 25, 12, 22, 11, 90]\n"
          ]
        }
      ]
    },
    {
      "cell_type": "code",
      "source": [
        "def bubbleSort(arr,k):\n",
        "\n",
        "    temp=[]\n",
        "    res=0\n",
        "    for i in range(len(arr)-1):\n",
        "        for j in range(len(arr)-i-1):\n",
        "            if arr[j]>arr[j+1]:\n",
        "                arr[j],arr[j+1]= arr[j+1],arr[j]\n",
        "    \n",
        "    for i in range(k):\n",
        "        temp.append(arr[i])\n",
        "    \n",
        "    res= temp[0] + arr[len(arr)-1]\n",
        "    \n",
        "    return res"
      ],
      "metadata": {
        "id": "9XC7yy5HpBzO"
      },
      "execution_count": null,
      "outputs": []
    },
    {
      "cell_type": "code",
      "source": [
        "bubbleSort(arr,4)"
      ],
      "metadata": {
        "colab": {
          "base_uri": "https://localhost:8080/"
        },
        "id": "tjNbCVklqPeD",
        "outputId": "9a9aeb69-2c24-427b-e4b5-c2009ffa1910"
      },
      "execution_count": null,
      "outputs": [
        {
          "output_type": "execute_result",
          "data": {
            "text/plain": [
              "101"
            ]
          },
          "metadata": {},
          "execution_count": 80
        }
      ]
    },
    {
      "cell_type": "code",
      "source": [],
      "metadata": {
        "id": "uMhDLGIoqSW0"
      },
      "execution_count": null,
      "outputs": []
    }
  ]
}