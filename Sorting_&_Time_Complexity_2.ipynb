{
  "nbformat": 4,
  "nbformat_minor": 0,
  "metadata": {
    "colab": {
      "provenance": [],
      "authorship_tag": "ABX9TyOcOdM9xenuFjZTe/gGe+08",
      "include_colab_link": true
    },
    "kernelspec": {
      "name": "python3",
      "display_name": "Python 3"
    },
    "language_info": {
      "name": "python"
    }
  },
  "cells": [
    {
      "cell_type": "markdown",
      "metadata": {
        "id": "view-in-github",
        "colab_type": "text"
      },
      "source": [
        "<a href=\"https://colab.research.google.com/github/dmish10/Scaler_Intermediate/blob/main/Sorting_%26_Time_Complexity_2.ipynb\" target=\"_parent\"><img src=\"https://colab.research.google.com/assets/colab-badge.svg\" alt=\"Open In Colab\"/></a>"
      ]
    },
    {
      "cell_type": "code",
      "source": [
        "                                        '''SELECTION SORTING'''"
      ],
      "metadata": {
        "colab": {
          "base_uri": "https://localhost:8080/",
          "height": 35
        },
        "id": "vwK05F2siKaf",
        "outputId": "d54a8e35-3aa1-40e6-ffdd-e388516b499e"
      },
      "execution_count": null,
      "outputs": [
        {
          "output_type": "execute_result",
          "data": {
            "text/plain": [
              "'SELECTION SORTING'"
            ],
            "application/vnd.google.colaboratory.intrinsic+json": {
              "type": "string"
            }
          },
          "metadata": {},
          "execution_count": 22
        }
      ]
    },
    {
      "cell_type": "code",
      "execution_count": null,
      "metadata": {
        "colab": {
          "base_uri": "https://localhost:8080/"
        },
        "id": "5D_JFBTkLmJD",
        "outputId": "593fe3a9-43a7-46a0-b53c-b7d242a4e1f4"
      },
      "outputs": [
        {
          "output_type": "execute_result",
          "data": {
            "text/plain": [
              "[11, 12, 22, 25, 34, 64, 90]"
            ]
          },
          "metadata": {},
          "execution_count": 19
        }
      ],
      "source": [
        "def selection_sort(a):\n",
        "  \n",
        "  n=len(a)\n",
        "  for i in range(n-1):        #n-1 because once we arrange till the second last element, the last will automatically be sorted\n",
        "                              #so we can avoid running an extra  outer loop \n",
        "    min_index= i               #index of minimum element\n",
        "    for j in range(i+1, n): \n",
        "                              #i+1 since i is current_minimum and we're comparing with the adjacent element to i\n",
        "      if a[min_index] > a[j]:\n",
        "        min_index = j         #update the index carrying smaller value but don't yet swap ..keep comparing until it finds the final minimum\n",
        "                              #if min_index has always been i then no need to swap so \n",
        "    if min_index!= i:\n",
        "      a[i], a[min_index] = a[min_index], a[i]\n",
        "  \n",
        "  return a\n",
        "\n",
        "selection_sort([64, 34, 25, 12, 22, 11, 90])   \n"
      ]
    },
    {
      "cell_type": "code",
      "source": [
        "''' time complexity of selection sort is same as bubble sort algo\n",
        "O(n^2)\n",
        "Omega(n^2)\n",
        "'''"
      ],
      "metadata": {
        "colab": {
          "base_uri": "https://localhost:8080/",
          "height": 35
        },
        "id": "pCpv8-UohUG-",
        "outputId": "1c43a5be-e9d1-46bd-ce62-2c70b284fe3a"
      },
      "execution_count": null,
      "outputs": [
        {
          "output_type": "execute_result",
          "data": {
            "text/plain": [
              "' time complexity of selection sort is same as bubble sort algo\\nO(n^2)\\nOmega(n^2)\\n'"
            ],
            "application/vnd.google.colaboratory.intrinsic+json": {
              "type": "string"
            }
          },
          "metadata": {},
          "execution_count": 21
        }
      ]
    },
    {
      "cell_type": "code",
      "source": [
        "def selection_sort_annotated(a):\n",
        "  \n",
        "  n=len(a)\n",
        "  for i in range(n-1):        #n-1 because once we arrange till the second last element, the last will automatically be sorted\n",
        "                              #so we can avoid running an extra  outer loop \n",
        "    min_index= i              #index of minimum element\n",
        "    print(a)\n",
        "    print(\"*\"*30)\n",
        "    for j in range(i+1, n): \n",
        "                              #i+1 since i is current_minimum and we're comparing with the adjacent element to i\n",
        "      if a[min_index] > a[j]:\n",
        "        min_index = j         #update the index carrying smaller value but don't yet swap ..keep comparing until it finds the final minimum\n",
        "                              #if min_index has always been i then no need to swap so \n",
        "    if min_index!= i:\n",
        "      a[i], a[min_index] = a[min_index], a[i]\n",
        "  \n",
        "  return a\n",
        "\n",
        "selection_sort_annotated([64, 34, 25, 12, 22, 11, 90])  "
      ],
      "metadata": {
        "colab": {
          "base_uri": "https://localhost:8080/"
        },
        "id": "KvoLhK3ybPp3",
        "outputId": "5421d461-96eb-4fca-8686-2ae0f2532daf"
      },
      "execution_count": null,
      "outputs": [
        {
          "output_type": "stream",
          "name": "stdout",
          "text": [
            "[64, 34, 25, 12, 22, 11, 90]\n",
            "******************************\n",
            "[11, 34, 25, 12, 22, 64, 90]\n",
            "******************************\n",
            "[11, 12, 25, 34, 22, 64, 90]\n",
            "******************************\n",
            "[11, 12, 22, 34, 25, 64, 90]\n",
            "******************************\n",
            "[11, 12, 22, 25, 34, 64, 90]\n",
            "******************************\n",
            "[11, 12, 22, 25, 34, 64, 90]\n",
            "******************************\n"
          ]
        },
        {
          "output_type": "execute_result",
          "data": {
            "text/plain": [
              "[11, 12, 22, 25, 34, 64, 90]"
            ]
          },
          "metadata": {},
          "execution_count": 5
        }
      ]
    },
    {
      "cell_type": "code",
      "source": [
        "selection_sort_annotated([11, 12, 22, 25, 34, 64, 90]) "
      ],
      "metadata": {
        "colab": {
          "base_uri": "https://localhost:8080/"
        },
        "id": "FcsHtZikcQu1",
        "outputId": "3ee9daa0-a453-4337-8a3c-bce77942e5ec"
      },
      "execution_count": null,
      "outputs": [
        {
          "output_type": "stream",
          "name": "stdout",
          "text": [
            "[11, 12, 22, 25, 34, 64, 90]\n",
            "******************************\n",
            "[11, 12, 22, 25, 34, 64, 90]\n",
            "******************************\n",
            "[11, 12, 22, 25, 34, 64, 90]\n",
            "******************************\n",
            "[11, 12, 22, 25, 34, 64, 90]\n",
            "******************************\n",
            "[11, 12, 22, 25, 34, 64, 90]\n",
            "******************************\n",
            "[11, 12, 22, 25, 34, 64, 90]\n",
            "******************************\n"
          ]
        },
        {
          "output_type": "execute_result",
          "data": {
            "text/plain": [
              "[11, 12, 22, 25, 34, 64, 90]"
            ]
          },
          "metadata": {},
          "execution_count": 6
        }
      ]
    },
    {
      "cell_type": "code",
      "source": [
        "                                                        '''INSERTION SORTING'''"
      ],
      "metadata": {
        "colab": {
          "base_uri": "https://localhost:8080/",
          "height": 35
        },
        "id": "Isy7HEOrf9Yl",
        "outputId": "d3ca5020-557a-439e-ab8c-734f6c4ae67b"
      },
      "execution_count": null,
      "outputs": [
        {
          "output_type": "execute_result",
          "data": {
            "text/plain": [
              "'INSERTION SORTING'"
            ],
            "application/vnd.google.colaboratory.intrinsic+json": {
              "type": "string"
            }
          },
          "metadata": {},
          "execution_count": 23
        }
      ]
    },
    {
      "cell_type": "code",
      "source": [
        "def insertion_sort(a):\n",
        "  for i in range(1,len(a)):\n",
        "    index_to_insert= i\n",
        "    j=i-1 #consider the element i to be moved to i-1 position and name it j \n",
        "    while j>=0:\n",
        "      if a[j]< a[index_to_insert]:  # means all the elements to the left are already smaller and in the sorted part so no need to move or swap \n",
        "         break                      # broke out of the while loop\n",
        "    \n",
        "      a[j], a[index_to_insert] = a[index_to_insert] , a[j]  #if while loop isn't fulfilled then swap\n",
        "      index_to_insert= j\n",
        "      j-=1\n",
        "\n",
        "  return a\n",
        "\n",
        "insertion_sort([64, 34, 25, 12, 22, 11, 90])"
      ],
      "metadata": {
        "colab": {
          "base_uri": "https://localhost:8080/"
        },
        "id": "Wy0kJR7DiUEK",
        "outputId": "8374592a-b76c-4a0a-c88d-d9411e09eeae"
      },
      "execution_count": null,
      "outputs": [
        {
          "output_type": "execute_result",
          "data": {
            "text/plain": [
              "[11, 12, 22, 25, 34, 64, 90]"
            ]
          },
          "metadata": {},
          "execution_count": 26
        }
      ]
    },
    {
      "cell_type": "code",
      "source": [
        "def insertion_sort_annotated(a):\n",
        "  for i in range(1,len(a)):\n",
        "    index_to_insert= i\n",
        "    j=i-1 #consider the element i to be moved to i-1 position and name it j \n",
        "    print(a[:i],\"|\",a[i:])\n",
        "    print(\"*\"*30)\n",
        "    while j>=0:\n",
        "      if a[j]< a[index_to_insert]:  # means all the elements to the left are already smaller and in the sorted part so no need to move or swap \n",
        "         break                      # broke out of the while loop\n",
        "    \n",
        "      a[j], a[index_to_insert] = a[index_to_insert] , a[j]  #if while loop isn't fulfilled then swap here \n",
        "      index_to_insert= j            # update the new value to j \n",
        "      j-=1\n",
        "\n",
        "  return a\n",
        "\n",
        "insertion_sort_annotated([64, 34, 25, 12, 22, 11, 90])\n",
        "\n"
      ],
      "metadata": {
        "colab": {
          "base_uri": "https://localhost:8080/"
        },
        "id": "CuXRcA65p3R0",
        "outputId": "1c795eb6-b193-44c9-c33f-f73c65e96466"
      },
      "execution_count": null,
      "outputs": [
        {
          "output_type": "stream",
          "name": "stdout",
          "text": [
            "[64] | [34, 25, 12, 22, 11, 90]\n",
            "******************************\n",
            "[34, 64] | [25, 12, 22, 11, 90]\n",
            "******************************\n",
            "[25, 34, 64] | [12, 22, 11, 90]\n",
            "******************************\n",
            "[12, 25, 34, 64] | [22, 11, 90]\n",
            "******************************\n",
            "[12, 22, 25, 34, 64] | [11, 90]\n",
            "******************************\n",
            "[11, 12, 22, 25, 34, 64] | [90]\n",
            "******************************\n"
          ]
        },
        {
          "output_type": "execute_result",
          "data": {
            "text/plain": [
              "[11, 12, 22, 25, 34, 64, 90]"
            ]
          },
          "metadata": {},
          "execution_count": 29
        }
      ]
    },
    {
      "cell_type": "code",
      "source": [
        "'''Insertion algo has the best time complexity of Omega(N) without any optimization \n",
        "Worst case O(n^2) and best case or the optimized form of n^2 is Omega(N)\n",
        "'''"
      ],
      "metadata": {
        "colab": {
          "base_uri": "https://localhost:8080/",
          "height": 35
        },
        "id": "9cHaCVaJCjbd",
        "outputId": "f1b344a6-7402-41f4-fba1-46e51749a83b"
      },
      "execution_count": null,
      "outputs": [
        {
          "output_type": "execute_result",
          "data": {
            "text/plain": [
              "'Insertion algo has the best time complexity of Omega(N) without any optimization \\nWorst case O(n^2) and best case Omega(N)\\n'"
            ],
            "application/vnd.google.colaboratory.intrinsic+json": {
              "type": "string"
            }
          },
          "metadata": {},
          "execution_count": 1
        }
      ]
    },
    {
      "cell_type": "code",
      "source": [
        "insertion_sort_annotated([11, 12, 22, 25, 34, 64, 90])"
      ],
      "metadata": {
        "colab": {
          "base_uri": "https://localhost:8080/"
        },
        "id": "Sce_0zkyqdWl",
        "outputId": "1ee9de33-e21c-4a83-845d-4cc2a2434c78"
      },
      "execution_count": null,
      "outputs": [
        {
          "output_type": "stream",
          "name": "stdout",
          "text": [
            "[11] | [12, 22, 25, 34, 64, 90]\n",
            "******************************\n",
            "[11, 12] | [22, 25, 34, 64, 90]\n",
            "******************************\n",
            "[11, 12, 22] | [25, 34, 64, 90]\n",
            "******************************\n",
            "[11, 12, 22, 25] | [34, 64, 90]\n",
            "******************************\n",
            "[11, 12, 22, 25, 34] | [64, 90]\n",
            "******************************\n",
            "[11, 12, 22, 25, 34, 64] | [90]\n",
            "******************************\n"
          ]
        },
        {
          "output_type": "execute_result",
          "data": {
            "text/plain": [
              "[11, 12, 22, 25, 34, 64, 90]"
            ]
          },
          "metadata": {},
          "execution_count": 30
        }
      ]
    },
    {
      "cell_type": "code",
      "source": [
        "# Define the list of integers to be sorted\n",
        "numbers = [64, 34, 25, 12, 22, 11, 90]\n",
        "\n",
        "# Begin a loop that will iterate through each element in the list\n",
        "for i in range(1, len(numbers)):\n",
        "  \n",
        "  # Store the current value of the element in a temporary variable\n",
        "  current_value = numbers[i]\n",
        "  \n",
        "  # Initialize a variable to store the index of the previous element\n",
        "  j = i - 1\n",
        "\n",
        "  # Begin a loop that will iterate through each preceding element in the list\n",
        "  while j >= 0:\n",
        "    \n",
        "    # If the value of the current element is less than the value of the preceding element,\n",
        "    # move the preceding element one position ahead in the list\n",
        "    if current_value < numbers[j]:\n",
        "      numbers[j+1] = numbers[j]\n",
        "      j -= 1\n",
        "      \n",
        "    # If the value of the current element is greater than or equal to the value of the preceding element,\n",
        "    # break out of the loop\n",
        "    else:\n",
        "      break\n",
        "      \n",
        "  # Insert the current element in its correct position in the list\n",
        "  numbers[j+1] = current_value\n",
        "\n",
        "# Print the sorted list\n",
        "print(numbers)"
      ],
      "metadata": {
        "id": "eqbEfaveqquF"
      },
      "execution_count": null,
      "outputs": []
    },
    {
      "cell_type": "code",
      "source": [
        "#insertion sorting in reverse order\n",
        "\n",
        "def insertion_sort_reverse(a):\n",
        "  n=len(a)\n",
        "  for i in range(1,n):\n",
        "    index_to_insert = i\n",
        "    j= i-1\n",
        "    while j>=0:\n",
        "      if a[j] < a[index_to_insert]:\n",
        "        break\n",
        "      \n",
        "      a[j],a[index_to_insert] = a[index_to_insert], a[j]\n",
        "      index_to_insert = j\n",
        "      j-=1\n",
        "  return a[::-1]\n",
        "\n",
        "insertion_sort_reverse([12, 22, 25, 34, 64, 90])"
      ],
      "metadata": {
        "colab": {
          "base_uri": "https://localhost:8080/"
        },
        "id": "RR8i_J_4xx4k",
        "outputId": "7c9bfa65-185e-4aed-ac0e-b2edae370237"
      },
      "execution_count": null,
      "outputs": [
        {
          "output_type": "execute_result",
          "data": {
            "text/plain": [
              "[90, 64, 34, 25, 22, 12]"
            ]
          },
          "metadata": {},
          "execution_count": 4
        }
      ]
    },
    {
      "cell_type": "code",
      "source": [
        "                                        ''' MERGE SORTING'''"
      ],
      "metadata": {
        "colab": {
          "base_uri": "https://localhost:8080/",
          "height": 35
        },
        "id": "XChBWtLcEVan",
        "outputId": "5a2e6251-545a-4b93-bc72-984aa7ab2ca8"
      },
      "execution_count": null,
      "outputs": [
        {
          "output_type": "execute_result",
          "data": {
            "text/plain": [
              "' MERGE SORTING'"
            ],
            "application/vnd.google.colaboratory.intrinsic+json": {
              "type": "string"
            }
          },
          "metadata": {},
          "execution_count": 2
        }
      ]
    },
    {
      "cell_type": "code",
      "source": [
        "''' Python uses a mix of insertion and merge sort called Timsort. '''"
      ],
      "metadata": {
        "colab": {
          "base_uri": "https://localhost:8080/",
          "height": 35
        },
        "id": "gi6dykU5EY8w",
        "outputId": "4c47583c-648c-4e73-d97f-09e86afeda7b"
      },
      "execution_count": null,
      "outputs": [
        {
          "output_type": "execute_result",
          "data": {
            "text/plain": [
              "' Python uses a mix of insertion and merge sort called Timsort. '"
            ],
            "application/vnd.google.colaboratory.intrinsic+json": {
              "type": "string"
            }
          },
          "metadata": {},
          "execution_count": 3
        }
      ]
    },
    {
      "cell_type": "code",
      "source": [
        "#assignment questions from insertion sort."
      ],
      "metadata": {
        "id": "Frjk4VjgEmdI"
      },
      "execution_count": null,
      "outputs": []
    },
    {
      "cell_type": "code",
      "source": [
        "def insertionSort(arr):\n",
        "  value=0\n",
        "  for i in range(1,len(arr)+1):\n",
        "    value=arr[i-1]\n",
        "    j=i-1\n",
        "    while((j > 0) and (arr[j-1] > value)): #Fill the blank\n",
        "      arr[j]=arr[j-1]\n",
        "      j=j-1\n",
        "    arr[j]=value\n",
        "  return arr"
      ],
      "metadata": {
        "id": "CWfQWld3xGAY"
      },
      "execution_count": null,
      "outputs": []
    },
    {
      "cell_type": "code",
      "source": [
        "insertionSort([90, 64, 34, 25, 22, 12])"
      ],
      "metadata": {
        "colab": {
          "base_uri": "https://localhost:8080/"
        },
        "id": "6_tdhE1YyXey",
        "outputId": "c019bf9b-d81c-4827-f10b-342e7ca17292"
      },
      "execution_count": null,
      "outputs": [
        {
          "output_type": "execute_result",
          "data": {
            "text/plain": [
              "[12, 22, 25, 34, 64, 90]"
            ]
          },
          "metadata": {},
          "execution_count": 3
        }
      ]
    },
    {
      "cell_type": "code",
      "source": [
        "#Given a list of strings, use selection sort to sort these strings in lexicographical order. ['alpha', 'gamma', 'beta', 'delta'] \n",
        "\n",
        "\n",
        "def selectionSort(lis):\n",
        "    n =len(lis)\n",
        "    for i in range(n): \n",
        "      #iterate over the list startimg from last element\n",
        "      # set the minimum value to the current element\n",
        "      min_val =lis[i]\n",
        "      min_index = i\n",
        "\n",
        "       #iterate over the remaining elements in the list\n",
        "      for j in range(i+1,n):\n",
        "        #if the current element is lexicographically smaller than the minimum element, update the minimum value and its index\n",
        "        if lis[j] < min_val:\n",
        "          min_val = lis[j]\n",
        "          min_index = j\n",
        "      #swap the minimum value with the current element\n",
        "      lis[i], lis[min_index] = lis[min_index], lis[i]\n",
        "    return lis\n",
        "\n"
      ],
      "metadata": {
        "id": "0z8u8T_xygCX"
      },
      "execution_count": null,
      "outputs": []
    },
    {
      "cell_type": "code",
      "source": [
        "selectionSort(['alpha', 'gamma', 'beta', 'delta'])"
      ],
      "metadata": {
        "colab": {
          "base_uri": "https://localhost:8080/"
        },
        "id": "rZRNSKCO9dvP",
        "outputId": "f233f4de-4776-448f-f939-faca99d7b12f"
      },
      "execution_count": null,
      "outputs": [
        {
          "output_type": "execute_result",
          "data": {
            "text/plain": [
              "['alpha', 'beta', 'delta', 'gamma']"
            ]
          },
          "metadata": {},
          "execution_count": 5
        }
      ]
    },
    {
      "cell_type": "code",
      "source": [
        "#Given a list of numbers, perform k iterations of insertion sort on it and return the element present at the center. \n",
        "#For a list of length n, return the n//2th indexed element after applying k iterations of insertion sort.\n",
        "#The element at center after k iterations of insertion sort."
      ],
      "metadata": {
        "id": "h7pJolKp9jPP"
      },
      "execution_count": null,
      "outputs": []
    },
    {
      "cell_type": "code",
      "source": [
        "\n",
        "\n"
      ],
      "metadata": {
        "colab": {
          "base_uri": "https://localhost:8080/",
          "height": 374
        },
        "id": "uGD2eegXpfC6",
        "outputId": "4334b656-a1b1-42d3-be32-a6988af84165"
      },
      "execution_count": null,
      "outputs": [
        {
          "output_type": "stream",
          "name": "stdout",
          "text": [
            "12 11 13 5 6\n",
            "[12, 11, 13, 5, 6]\n"
          ]
        },
        {
          "output_type": "error",
          "ename": "TypeError",
          "evalue": "ignored",
          "traceback": [
            "\u001b[0;31m---------------------------------------------------------------------------\u001b[0m",
            "\u001b[0;31mTypeError\u001b[0m                                 Traceback (most recent call last)",
            "\u001b[0;32m<ipython-input-39-c3c30bf1eefb>\u001b[0m in \u001b[0;36m<module>\u001b[0;34m\u001b[0m\n\u001b[1;32m     22\u001b[0m \u001b[0;34m\u001b[0m\u001b[0m\n\u001b[1;32m     23\u001b[0m \u001b[0marr\u001b[0m\u001b[0;34m(\u001b[0m\u001b[0ms\u001b[0m\u001b[0;34m)\u001b[0m\u001b[0;34m\u001b[0m\u001b[0;34m\u001b[0m\u001b[0m\n\u001b[0;32m---> 24\u001b[0;31m \u001b[0minsertion_sort\u001b[0m\u001b[0;34m(\u001b[0m\u001b[0marr\u001b[0m\u001b[0;34m,\u001b[0m \u001b[0;36m2\u001b[0m\u001b[0;34m)\u001b[0m\u001b[0;34m\u001b[0m\u001b[0;34m\u001b[0m\u001b[0m\n\u001b[0m\u001b[1;32m     25\u001b[0m \u001b[0;34m\u001b[0m\u001b[0m\n",
            "\u001b[0;32m<ipython-input-39-c3c30bf1eefb>\u001b[0m in \u001b[0;36minsertion_sort\u001b[0;34m(arr, k)\u001b[0m\n\u001b[1;32m      9\u001b[0m \u001b[0;32mdef\u001b[0m \u001b[0minsertion_sort\u001b[0m\u001b[0;34m(\u001b[0m\u001b[0marr\u001b[0m\u001b[0;34m,\u001b[0m \u001b[0mk\u001b[0m\u001b[0;34m)\u001b[0m\u001b[0;34m:\u001b[0m\u001b[0;34m\u001b[0m\u001b[0;34m\u001b[0m\u001b[0m\n\u001b[1;32m     10\u001b[0m   \u001b[0;32mfor\u001b[0m \u001b[0miteration\u001b[0m \u001b[0;32min\u001b[0m \u001b[0mrange\u001b[0m\u001b[0;34m(\u001b[0m\u001b[0mk\u001b[0m\u001b[0;34m)\u001b[0m\u001b[0;34m:\u001b[0m\u001b[0;34m\u001b[0m\u001b[0;34m\u001b[0m\u001b[0m\n\u001b[0;32m---> 11\u001b[0;31m     \u001b[0;32mfor\u001b[0m \u001b[0mi\u001b[0m \u001b[0;32min\u001b[0m \u001b[0mrange\u001b[0m\u001b[0;34m(\u001b[0m\u001b[0;36m1\u001b[0m\u001b[0;34m,\u001b[0m \u001b[0mlen\u001b[0m\u001b[0;34m(\u001b[0m\u001b[0marr\u001b[0m\u001b[0;34m)\u001b[0m\u001b[0;34m)\u001b[0m\u001b[0;34m:\u001b[0m\u001b[0;34m\u001b[0m\u001b[0;34m\u001b[0m\u001b[0m\n\u001b[0m\u001b[1;32m     12\u001b[0m       \u001b[0mcurrent_value\u001b[0m \u001b[0;34m=\u001b[0m \u001b[0marr\u001b[0m\u001b[0;34m[\u001b[0m\u001b[0mi\u001b[0m\u001b[0;34m]\u001b[0m\u001b[0;34m\u001b[0m\u001b[0;34m\u001b[0m\u001b[0m\n\u001b[1;32m     13\u001b[0m       \u001b[0mj\u001b[0m \u001b[0;34m=\u001b[0m \u001b[0mi\u001b[0m \u001b[0;34m-\u001b[0m \u001b[0;36m1\u001b[0m\u001b[0;34m\u001b[0m\u001b[0;34m\u001b[0m\u001b[0m\n",
            "\u001b[0;31mTypeError\u001b[0m: object of type 'function' has no len()"
          ]
        }
      ]
    },
    {
      "cell_type": "code",
      "source": [
        "12 11 13 5 6"
      ],
      "metadata": {
        "id": "PsjAgnLetVoj"
      },
      "execution_count": null,
      "outputs": []
    }
  ]
}