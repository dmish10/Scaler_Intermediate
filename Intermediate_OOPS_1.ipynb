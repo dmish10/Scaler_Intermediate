{
  "nbformat": 4,
  "nbformat_minor": 0,
  "metadata": {
    "colab": {
      "provenance": [],
      "authorship_tag": "ABX9TyNlw5APUj+oQob7hrppXWuz",
      "include_colab_link": true
    },
    "kernelspec": {
      "name": "python3",
      "display_name": "Python 3"
    },
    "language_info": {
      "name": "python"
    }
  },
  "cells": [
    {
      "cell_type": "markdown",
      "metadata": {
        "id": "view-in-github",
        "colab_type": "text"
      },
      "source": [
        "<a href=\"https://colab.research.google.com/github/dmish10/Scaler_Intermediate/blob/main/Intermediate_OOPS_1.ipynb\" target=\"_parent\"><img src=\"https://colab.research.google.com/assets/colab-badge.svg\" alt=\"Open In Colab\"/></a>"
      ]
    },
    {
      "cell_type": "markdown",
      "source": [
        "OBJECT. ORIENTED PROGRAMMING"
      ],
      "metadata": {
        "id": "V4vzHh4H6rLw"
      }
    },
    {
      "cell_type": "code",
      "source": [
        "a= 5 #object"
      ],
      "metadata": {
        "id": "LMzCcCXJ6yld"
      },
      "execution_count": 1,
      "outputs": []
    },
    {
      "cell_type": "code",
      "source": [
        "type(a)"
      ],
      "metadata": {
        "colab": {
          "base_uri": "https://localhost:8080/"
        },
        "id": "L8CKiwJE9Y61",
        "outputId": "94598196-6b7a-4f61-d283-3fb13117b1fa"
      },
      "execution_count": 2,
      "outputs": [
        {
          "output_type": "execute_result",
          "data": {
            "text/plain": [
              "int"
            ]
          },
          "metadata": {},
          "execution_count": 2
        }
      ]
    },
    {
      "cell_type": "code",
      "source": [
        "#here, 5 is an object of the type integer\n",
        "# 5 is an instance of class integer"
      ],
      "metadata": {
        "id": "NhAWjlIH9axV"
      },
      "execution_count": 3,
      "outputs": []
    },
    {
      "cell_type": "code",
      "source": [
        "string ='abcd'"
      ],
      "metadata": {
        "id": "9ESq98dU9jWz"
      },
      "execution_count": 4,
      "outputs": []
    },
    {
      "cell_type": "code",
      "source": [
        "string +'fdcer'\n"
      ],
      "metadata": {
        "colab": {
          "base_uri": "https://localhost:8080/",
          "height": 35
        },
        "id": "qdg1fKIX_wna",
        "outputId": "fdbe6fee-f565-4561-c2d8-0b54ccf4f4e3"
      },
      "execution_count": 8,
      "outputs": [
        {
          "output_type": "execute_result",
          "data": {
            "text/plain": [
              "'abcdfdcer'"
            ],
            "application/vnd.google.colaboratory.intrinsic+json": {
              "type": "string"
            }
          },
          "metadata": {},
          "execution_count": 8
        }
      ]
    },
    {
      "cell_type": "code",
      "source": [
        "string.split(' ')"
      ],
      "metadata": {
        "colab": {
          "base_uri": "https://localhost:8080/"
        },
        "id": "8dBNV1yv_0EP",
        "outputId": "22ae64d4-e6cd-4a2c-cfd9-c278bfe0572e"
      },
      "execution_count": 9,
      "outputs": [
        {
          "output_type": "execute_result",
          "data": {
            "text/plain": [
              "['abcd']"
            ]
          },
          "metadata": {},
          "execution_count": 9
        }
      ]
    },
    {
      "cell_type": "code",
      "source": [
        "#creation of a class\n",
        "class Student:\n",
        "  pass"
      ],
      "metadata": {
        "id": "yxGv90LO_4Q9"
      },
      "execution_count": 11,
      "outputs": []
    },
    {
      "cell_type": "code",
      "source": [
        "# Instantiating a class --> creating an object of the class\n",
        "s = Student()"
      ],
      "metadata": {
        "id": "BMF_pt60ALgZ"
      },
      "execution_count": 15,
      "outputs": []
    },
    {
      "cell_type": "code",
      "source": [
        "s"
      ],
      "metadata": {
        "colab": {
          "base_uri": "https://localhost:8080/"
        },
        "id": "yhfMPrRTAiTm",
        "outputId": "a7114c72-4e60-4d39-edd3-fe91ae3b2f23"
      },
      "execution_count": 16,
      "outputs": [
        {
          "output_type": "execute_result",
          "data": {
            "text/plain": [
              "<__main__.Student at 0x7f27374d8790>"
            ]
          },
          "metadata": {},
          "execution_count": 16
        }
      ]
    },
    {
      "cell_type": "code",
      "source": [
        "type(s)"
      ],
      "metadata": {
        "colab": {
          "base_uri": "https://localhost:8080/"
        },
        "id": "RSwpkGbqAky9",
        "outputId": "f778077e-5f8d-4fcc-c5dd-2ed3eb9f989f"
      },
      "execution_count": 17,
      "outputs": [
        {
          "output_type": "execute_result",
          "data": {
            "text/plain": [
              "__main__.Student"
            ]
          },
          "metadata": {},
          "execution_count": 17
        }
      ]
    },
    {
      "cell_type": "code",
      "source": [
        "#below is an example of polymorphism"
      ],
      "metadata": {
        "id": "tc4SSt8hAydV"
      },
      "execution_count": 18,
      "outputs": []
    },
    {
      "cell_type": "code",
      "source": [
        "def random():\n",
        "  return True"
      ],
      "metadata": {
        "id": "Mk9jnLIsId7j"
      },
      "execution_count": 19,
      "outputs": []
    },
    {
      "cell_type": "code",
      "source": [
        "class Random():\n",
        "  pass"
      ],
      "metadata": {
        "id": "eCA1H9huIf7y"
      },
      "execution_count": 20,
      "outputs": []
    },
    {
      "cell_type": "code",
      "source": [
        "random() #random function calls and executes the return statement"
      ],
      "metadata": {
        "colab": {
          "base_uri": "https://localhost:8080/"
        },
        "id": "dIMcitOVIjC4",
        "outputId": "da83a50c-4137-45fe-e48d-ead07e128771"
      },
      "execution_count": 28,
      "outputs": [
        {
          "output_type": "execute_result",
          "data": {
            "text/plain": [
              "True"
            ]
          },
          "metadata": {},
          "execution_count": 28
        }
      ]
    },
    {
      "cell_type": "code",
      "source": [
        "Random() #instantiates the class"
      ],
      "metadata": {
        "colab": {
          "base_uri": "https://localhost:8080/"
        },
        "id": "X1vINX3AIlSi",
        "outputId": "87385821-799f-4759-916c-d2ce17f96832"
      },
      "execution_count": 23,
      "outputs": [
        {
          "output_type": "execute_result",
          "data": {
            "text/plain": [
              "<__main__.Random at 0x7f2737449a30>"
            ]
          },
          "metadata": {},
          "execution_count": 23
        }
      ]
    },
    {
      "cell_type": "code",
      "source": [
        "#creation of a class\n",
        "class Student:\n",
        "  pass"
      ],
      "metadata": {
        "id": "iDe1cGMBIrD9"
      },
      "execution_count": 5,
      "outputs": []
    },
    {
      "cell_type": "code",
      "source": [
        "s1 = Student()"
      ],
      "metadata": {
        "id": "5HTtKsM5PPNV"
      },
      "execution_count": 6,
      "outputs": []
    },
    {
      "cell_type": "code",
      "source": [
        "s2 = Student()"
      ],
      "metadata": {
        "id": "h0kUilhTPSsV"
      },
      "execution_count": 26,
      "outputs": []
    },
    {
      "cell_type": "code",
      "source": [
        "s1.name= 'Manush'"
      ],
      "metadata": {
        "id": "xbqpIuKZPUpe"
      },
      "execution_count": 27,
      "outputs": []
    },
    {
      "cell_type": "code",
      "source": [
        "class Student:\n",
        "  def __init__(self):\n",
        "    print(id(self))"
      ],
      "metadata": {
        "id": "GmB5Rfg2PYZ6"
      },
      "execution_count": 10,
      "outputs": []
    },
    {
      "cell_type": "code",
      "source": [
        "s1 = Student()\n",
        "#current object is passed as the default argument of __init__ function and taken up to print id by Self."
      ],
      "metadata": {
        "colab": {
          "base_uri": "https://localhost:8080/"
        },
        "id": "8Gr0l5rlF3qp",
        "outputId": "4934c23d-5658-4ba9-cbf7-04cb4d249ffa"
      },
      "execution_count": 11,
      "outputs": [
        {
          "output_type": "stream",
          "name": "stdout",
          "text": [
            "139649583158272\n"
          ]
        }
      ]
    },
    {
      "cell_type": "code",
      "source": [
        "id(s1)"
      ],
      "metadata": {
        "colab": {
          "base_uri": "https://localhost:8080/"
        },
        "id": "Io1O2jMpF9qA",
        "outputId": "e0e92a44-a845-4fe6-bef7-ddf5c12fa0f9"
      },
      "execution_count": 12,
      "outputs": [
        {
          "output_type": "execute_result",
          "data": {
            "text/plain": [
              "139649583158272"
            ]
          },
          "metadata": {},
          "execution_count": 12
        }
      ]
    },
    {
      "cell_type": "code",
      "source": [
        "#so self in OOP is a reference to the current object. there can be numerous objects for single class and \n",
        "#even if those objects can have common properties, the values for those properties could be different \n",
        "#like class student can have property name but the names for various student objects can be different. \n",
        "#so whenver a particular object interacts with the class, the class should know which object invoked the function. \n",
        "#self is that object or first customary argument for every function that is created inside a class & it gives the id of the object trying to interact. "
      ],
      "metadata": {
        "id": "gfXERlqSG3OR"
      },
      "execution_count": 13,
      "outputs": []
    },
    {
      "cell_type": "code",
      "source": [
        "class Student:\n",
        "  def __init__(self, input_name): #self is an object and input name is a positional argument that feeds into the property value for the name via self\n",
        "    self.name= input_name"
      ],
      "metadata": {
        "id": "JJQkWJAlMV8t"
      },
      "execution_count": 15,
      "outputs": []
    },
    {
      "cell_type": "code",
      "source": [
        "s1 = Student(\"shirish\")"
      ],
      "metadata": {
        "id": "CsBiOTRVQsmF"
      },
      "execution_count": 16,
      "outputs": []
    },
    {
      "cell_type": "code",
      "source": [
        "s2= Student(\"shikha\")"
      ],
      "metadata": {
        "id": "uMqlskohRDJ9"
      },
      "execution_count": 18,
      "outputs": []
    },
    {
      "cell_type": "code",
      "source": [
        "s1.name"
      ],
      "metadata": {
        "colab": {
          "base_uri": "https://localhost:8080/",
          "height": 35
        },
        "id": "fzdlROmwRFqI",
        "outputId": "eb68595a-a59f-4047-ab8a-37e9e9c1041a"
      },
      "execution_count": 20,
      "outputs": [
        {
          "output_type": "execute_result",
          "data": {
            "text/plain": [
              "'shirish'"
            ],
            "application/vnd.google.colaboratory.intrinsic+json": {
              "type": "string"
            }
          },
          "metadata": {},
          "execution_count": 20
        }
      ]
    },
    {
      "cell_type": "code",
      "source": [
        "s2.name"
      ],
      "metadata": {
        "colab": {
          "base_uri": "https://localhost:8080/",
          "height": 35
        },
        "id": "Hab0gRlbRWCm",
        "outputId": "c2fec77e-00be-4605-8104-fb7239bb9403"
      },
      "execution_count": 21,
      "outputs": [
        {
          "output_type": "execute_result",
          "data": {
            "text/plain": [
              "'shikha'"
            ],
            "application/vnd.google.colaboratory.intrinsic+json": {
              "type": "string"
            }
          },
          "metadata": {},
          "execution_count": 21
        }
      ]
    },
    {
      "cell_type": "code",
      "source": [
        "#constructor is a method that is called when an object is created and then it allocates memory to it\n",
        "#but __init__ isn't a constructor. It is spacial method used to initialise the attributes of an object alongwith its ability to allocate memory in python"
      ],
      "metadata": {
        "id": "7lJTGnJPRZ1r"
      },
      "execution_count": 2,
      "outputs": []
    },
    {
      "cell_type": "code",
      "source": [
        "''' Methods are functions inside a class'''"
      ],
      "metadata": {
        "colab": {
          "base_uri": "https://localhost:8080/",
          "height": 35
        },
        "id": "qJoQn-13iyMK",
        "outputId": "d3755bb8-f1e2-429b-c056-e814321092fe"
      },
      "execution_count": 3,
      "outputs": [
        {
          "output_type": "execute_result",
          "data": {
            "text/plain": [
              "' Methods are functions inside a class'"
            ],
            "application/vnd.google.colaboratory.intrinsic+json": {
              "type": "string"
            }
          },
          "metadata": {},
          "execution_count": 3
        }
      ]
    },
    {
      "cell_type": "code",
      "source": [
        "class Student:\n",
        "  def hello(): #class method which doesn't contain a self argument\n",
        "    print(\"Hello!\")\n",
        "\n",
        "  def hello2(self):\n",
        "    print(\"Hello!\") #instance method -->methods that can be invoked by objects\n",
        "\n",
        " #no property assignment here but every student is going to have the shared method   "
      ],
      "metadata": {
        "id": "symChWQ2j3ys"
      },
      "execution_count": 23,
      "outputs": []
    },
    {
      "cell_type": "code",
      "source": [
        "s1= Student()"
      ],
      "metadata": {
        "id": "OpOCtAN3lQOO"
      },
      "execution_count": 24,
      "outputs": []
    },
    {
      "cell_type": "code",
      "source": [
        "type(s1)"
      ],
      "metadata": {
        "colab": {
          "base_uri": "https://localhost:8080/"
        },
        "id": "XI7bkQhLlSI9",
        "outputId": "3b5e76d7-0cf3-4a85-b23e-2f8765cbe9d7"
      },
      "execution_count": 7,
      "outputs": [
        {
          "output_type": "execute_result",
          "data": {
            "text/plain": [
              "__main__.Student"
            ]
          },
          "metadata": {},
          "execution_count": 7
        }
      ]
    },
    {
      "cell_type": "code",
      "source": [
        "s1.hello()\n",
        "#hello() takes 0 positional arguments but 1 was given since self is by default an argument here\n",
        "#whenever a class method is called using a class object\n",
        "#Student.hello(s1) --> Object gets called to the method by default"
      ],
      "metadata": {
        "colab": {
          "base_uri": "https://localhost:8080/",
          "height": 218
        },
        "id": "BETnbmadlUco",
        "outputId": "3a052898-df8a-41ec-9145-0184ead37d2a"
      },
      "execution_count": 9,
      "outputs": [
        {
          "output_type": "error",
          "ename": "TypeError",
          "evalue": "ignored",
          "traceback": [
            "\u001b[0;31m---------------------------------------------------------------------------\u001b[0m",
            "\u001b[0;31mTypeError\u001b[0m                                 Traceback (most recent call last)",
            "\u001b[0;32m<ipython-input-9-a4996f1389c4>\u001b[0m in \u001b[0;36m<module>\u001b[0;34m\u001b[0m\n\u001b[0;32m----> 1\u001b[0;31m \u001b[0ms1\u001b[0m\u001b[0;34m.\u001b[0m\u001b[0mhello\u001b[0m\u001b[0;34m(\u001b[0m\u001b[0;34m)\u001b[0m\u001b[0;34m\u001b[0m\u001b[0;34m\u001b[0m\u001b[0m\n\u001b[0m\u001b[1;32m      2\u001b[0m \u001b[0;31m#hello() takes 0 positional arguments but 1 was given since self is by default an argument here\u001b[0m\u001b[0;34m\u001b[0m\u001b[0;34m\u001b[0m\u001b[0;34m\u001b[0m\u001b[0m\n\u001b[1;32m      3\u001b[0m \u001b[0;31m#whenever a class method is called using a class object\u001b[0m\u001b[0;34m\u001b[0m\u001b[0;34m\u001b[0m\u001b[0;34m\u001b[0m\u001b[0m\n\u001b[1;32m      4\u001b[0m \u001b[0;31m#Student.hello(s1) --> Object gets called to the method by default\u001b[0m\u001b[0;34m\u001b[0m\u001b[0;34m\u001b[0m\u001b[0;34m\u001b[0m\u001b[0m\n",
            "\u001b[0;31mTypeError\u001b[0m: hello() takes 0 positional arguments but 1 was given"
          ]
        }
      ]
    },
    {
      "cell_type": "code",
      "source": [
        "Student.hello() "
      ],
      "metadata": {
        "colab": {
          "base_uri": "https://localhost:8080/"
        },
        "id": "eCcHKKIkmn8q",
        "outputId": "c4ff94d7-decb-4717-d12d-3f1c235470af"
      },
      "execution_count": 12,
      "outputs": [
        {
          "output_type": "stream",
          "name": "stdout",
          "text": [
            "Hello!\n"
          ]
        }
      ]
    },
    {
      "cell_type": "code",
      "source": [
        "s1.hello2()"
      ],
      "metadata": {
        "colab": {
          "base_uri": "https://localhost:8080/"
        },
        "id": "X-YRWrIJmzDL",
        "outputId": "1ff1a569-4e07-4cd7-b87a-9e88846fe0bb"
      },
      "execution_count": 25,
      "outputs": [
        {
          "output_type": "stream",
          "name": "stdout",
          "text": [
            "Hello!\n"
          ]
        }
      ]
    },
    {
      "cell_type": "code",
      "source": [
        "Student.hello2(s1)"
      ],
      "metadata": {
        "colab": {
          "base_uri": "https://localhost:8080/"
        },
        "id": "Yawk5Q_tm5yz",
        "outputId": "4e67435b-f2d2-47b9-eb34-b6a225322506"
      },
      "execution_count": 26,
      "outputs": [
        {
          "output_type": "stream",
          "name": "stdout",
          "text": [
            "Hello!\n"
          ]
        }
      ]
    },
    {
      "cell_type": "code",
      "source": [
        "class Dog:      #class variable\n",
        "  kind = \"canine\"\n",
        "  def __init__(self,input_name):   \n",
        "    self.name = input_name #instance variable"
      ],
      "metadata": {
        "id": "FY8sGvjHn04g"
      },
      "execution_count": 27,
      "outputs": []
    },
    {
      "cell_type": "code",
      "source": [
        "d1= Dog(\"Daphne\")\n",
        "d2= Dog(\"Tuffy\")"
      ],
      "metadata": {
        "id": "GLHaArVXq2AQ"
      },
      "execution_count": 28,
      "outputs": []
    },
    {
      "cell_type": "code",
      "source": [
        "d1.name"
      ],
      "metadata": {
        "colab": {
          "base_uri": "https://localhost:8080/",
          "height": 35
        },
        "id": "Mp9SLiGfrBPl",
        "outputId": "67495398-889b-479f-8268-84ed2158c1d7"
      },
      "execution_count": 29,
      "outputs": [
        {
          "output_type": "execute_result",
          "data": {
            "text/plain": [
              "'Daphne'"
            ],
            "application/vnd.google.colaboratory.intrinsic+json": {
              "type": "string"
            }
          },
          "metadata": {},
          "execution_count": 29
        }
      ]
    },
    {
      "cell_type": "code",
      "source": [
        "d2.name"
      ],
      "metadata": {
        "colab": {
          "base_uri": "https://localhost:8080/",
          "height": 35
        },
        "id": "wCLa0gU9rHt1",
        "outputId": "f0fcc3cc-765e-41be-9a89-b2a4c579f356"
      },
      "execution_count": 30,
      "outputs": [
        {
          "output_type": "execute_result",
          "data": {
            "text/plain": [
              "'Tuffy'"
            ],
            "application/vnd.google.colaboratory.intrinsic+json": {
              "type": "string"
            }
          },
          "metadata": {},
          "execution_count": 30
        }
      ]
    },
    {
      "cell_type": "code",
      "source": [
        "d2.kind"
      ],
      "metadata": {
        "colab": {
          "base_uri": "https://localhost:8080/",
          "height": 35
        },
        "id": "kRkPzLUbrJZl",
        "outputId": "c22180f1-8fd9-4651-a8da-c0033346c766"
      },
      "execution_count": 31,
      "outputs": [
        {
          "output_type": "execute_result",
          "data": {
            "text/plain": [
              "'canine'"
            ],
            "application/vnd.google.colaboratory.intrinsic+json": {
              "type": "string"
            }
          },
          "metadata": {},
          "execution_count": 31
        }
      ]
    },
    {
      "cell_type": "code",
      "source": [
        "Dog.kind"
      ],
      "metadata": {
        "colab": {
          "base_uri": "https://localhost:8080/",
          "height": 35
        },
        "id": "56LfGURerK-W",
        "outputId": "9a1c5de7-9035-47aa-fedf-29a7fd0f8b81"
      },
      "execution_count": 32,
      "outputs": [
        {
          "output_type": "execute_result",
          "data": {
            "text/plain": [
              "'canine'"
            ],
            "application/vnd.google.colaboratory.intrinsic+json": {
              "type": "string"
            }
          },
          "metadata": {},
          "execution_count": 32
        }
      ]
    },
    {
      "cell_type": "code",
      "source": [
        "#class variable is accessible by instance and class  but instance variable can't be accessed by the class "
      ],
      "metadata": {
        "id": "W2QFNhR9rX2Z"
      },
      "execution_count": 33,
      "outputs": []
    },
    {
      "cell_type": "code",
      "source": [
        "#we can change the property at instance level or locally\n",
        "d1.kind= \"golden retriever\""
      ],
      "metadata": {
        "id": "yL7BOO8zrdf5"
      },
      "execution_count": 34,
      "outputs": []
    },
    {
      "cell_type": "code",
      "source": [
        "d1.kind"
      ],
      "metadata": {
        "colab": {
          "base_uri": "https://localhost:8080/",
          "height": 35
        },
        "id": "T5Mk8lfetFV2",
        "outputId": "ad02941b-50bc-4836-a896-82c2beb66897"
      },
      "execution_count": 35,
      "outputs": [
        {
          "output_type": "execute_result",
          "data": {
            "text/plain": [
              "'golden retriever'"
            ],
            "application/vnd.google.colaboratory.intrinsic+json": {
              "type": "string"
            }
          },
          "metadata": {},
          "execution_count": 35
        }
      ]
    },
    {
      "cell_type": "code",
      "source": [
        "d2.kind #others remain unchanged since they have been defined at class level"
      ],
      "metadata": {
        "colab": {
          "base_uri": "https://localhost:8080/",
          "height": 35
        },
        "id": "Tx9AiqiCtGoy",
        "outputId": "cfbfaf57-8c34-4dea-aa2a-3a885d2213f1"
      },
      "execution_count": 37,
      "outputs": [
        {
          "output_type": "execute_result",
          "data": {
            "text/plain": [
              "'canine'"
            ],
            "application/vnd.google.colaboratory.intrinsic+json": {
              "type": "string"
            }
          },
          "metadata": {},
          "execution_count": 37
        }
      ]
    },
    {
      "cell_type": "code",
      "source": [
        "class Dog:\n",
        "  tricks = []\n",
        "  def __init__(self,input_name):\n",
        "    self.name= input_name\n",
        "\n",
        "  def teach_trick(self,trick):\n",
        "    self.tricks.append(trick)"
      ],
      "metadata": {
        "id": "fSYGtvX9tH8R"
      },
      "execution_count": 48,
      "outputs": []
    },
    {
      "cell_type": "code",
      "source": [
        "\n",
        "d1= Dog(\"Daphne\")\n",
        "d2= Dog(\"Dundy\")"
      ],
      "metadata": {
        "id": "D0ezzE6Sup2l"
      },
      "execution_count": 47,
      "outputs": []
    },
    {
      "cell_type": "code",
      "source": [
        "d1.teach_trick(\"Jump\")"
      ],
      "metadata": {
        "id": "X9dce3emuwdW"
      },
      "execution_count": 49,
      "outputs": []
    },
    {
      "cell_type": "code",
      "source": [
        "d1.tricks"
      ],
      "metadata": {
        "colab": {
          "base_uri": "https://localhost:8080/"
        },
        "id": "CMMtA1Aju57m",
        "outputId": "0d1df43f-2da9-4de1-b1ca-5b4024116665"
      },
      "execution_count": 50,
      "outputs": [
        {
          "output_type": "execute_result",
          "data": {
            "text/plain": [
              "['Jump']"
            ]
          },
          "metadata": {},
          "execution_count": 50
        }
      ]
    },
    {
      "cell_type": "code",
      "source": [
        "d1.teach_trick(\"Play\")"
      ],
      "metadata": {
        "id": "IevH7y6QvU44"
      },
      "execution_count": 51,
      "outputs": []
    },
    {
      "cell_type": "code",
      "source": [
        "d1.tricks"
      ],
      "metadata": {
        "colab": {
          "base_uri": "https://localhost:8080/"
        },
        "id": "4W_JDU4gwEx2",
        "outputId": "f09008cf-3e26-4583-c980-1fbd950651c2"
      },
      "execution_count": 52,
      "outputs": [
        {
          "output_type": "execute_result",
          "data": {
            "text/plain": [
              "['Jump', 'Play']"
            ]
          },
          "metadata": {},
          "execution_count": 52
        }
      ]
    },
    {
      "cell_type": "code",
      "source": [
        "d2.tricks"
      ],
      "metadata": {
        "colab": {
          "base_uri": "https://localhost:8080/"
        },
        "id": "hsBAAgVJwGiT",
        "outputId": "2a988d35-d4ef-4459-a889-9d0e73cc71c6"
      },
      "execution_count": 53,
      "outputs": [
        {
          "output_type": "execute_result",
          "data": {
            "text/plain": [
              "['Jump', 'Play']"
            ]
          },
          "metadata": {},
          "execution_count": 53
        }
      ]
    },
    {
      "cell_type": "code",
      "source": [
        "# as above suggests only d1 was updated for tricks but properties got updated for d2 despite the function being assigned locally\n",
        "# the reason is the list is assigned globally and since list is a mutable item, the property values get assigned at a glbal level but \n",
        "#if a tuple which is immutable in nature was assigned the property values would not have been assigned globally but remained at local level with d1"
      ],
      "metadata": {
        "id": "6LR1Ec25wkhX"
      },
      "execution_count": 54,
      "outputs": []
    },
    {
      "cell_type": "code",
      "source": [
        "class Person:\n",
        "  def __init__(self, Name):\n",
        "    self.name = Name             #line x\n",
        "  def get_person_name(self):\n",
        "    return self.name\n",
        "p1=Person(\"Vishal\")"
      ],
      "metadata": {
        "id": "lRGruMnfxWKe"
      },
      "execution_count": 55,
      "outputs": []
    },
    {
      "cell_type": "code",
      "source": [
        "p1.name"
      ],
      "metadata": {
        "colab": {
          "base_uri": "https://localhost:8080/",
          "height": 35
        },
        "id": "JcCYkiTL0cST",
        "outputId": "1e351e72-4f48-4a0b-9cd0-34261514088e"
      },
      "execution_count": 57,
      "outputs": [
        {
          "output_type": "execute_result",
          "data": {
            "text/plain": [
              "'Vishal'"
            ],
            "application/vnd.google.colaboratory.intrinsic+json": {
              "type": "string"
            }
          },
          "metadata": {},
          "execution_count": 57
        }
      ]
    },
    {
      "cell_type": "code",
      "source": [
        "class People():\n",
        "    def __init__(self, name):\n",
        "        self.name = name\n",
        "\n",
        "    def get_name(self):\n",
        "        print(self.name)\n",
        "\n",
        "person1 = People(\"John\")\n",
        "person2 = People(\"Mary\")\n",
        "person1.get_name()"
      ],
      "metadata": {
        "colab": {
          "base_uri": "https://localhost:8080/"
        },
        "id": "Wiop1NV72g9r",
        "outputId": "b9e202f2-3a50-4972-c71c-c35a7e762731"
      },
      "execution_count": 58,
      "outputs": [
        {
          "output_type": "stream",
          "name": "stdout",
          "text": [
            "John\n"
          ]
        }
      ]
    },
    {
      "cell_type": "code",
      "source": [
        "class fruits:\n",
        "    def __init__(self, price):\n",
        "        self.price = price\n",
        "\n",
        "obj=fruits(50)\n",
        "obj.quantity=10\n",
        "obj.bags=2\n",
        "\n",
        "print(obj.quantity+len(obj.__dict__))"
      ],
      "metadata": {
        "colab": {
          "base_uri": "https://localhost:8080/"
        },
        "id": "cTQWoXa_22KN",
        "outputId": "c1ff4e78-7706-4af6-889f-7fc34dee1be9"
      },
      "execution_count": 59,
      "outputs": [
        {
          "output_type": "stream",
          "name": "stdout",
          "text": [
            "13\n"
          ]
        }
      ]
    },
    {
      "cell_type": "code",
      "source": [
        "class Player:\n",
        "  # class variables\n",
        "  club = 'United'\n",
        "  sport = 'Football'\n",
        "\n",
        "  def __init__(self, name):\n",
        "    # Instance variable\n",
        "    self.name = name\n",
        "\n",
        "  def show(self):\n",
        "    print('Name:', self.name, 'Club:', self.club, 'Sports:', self.sport, end=\" \")\n",
        "\n",
        "p1 = Player('Sanjay')\n",
        "p1.club = 'Real Madrid'\n",
        "p1.show()\n",
        "\n",
        "p2 = Player('Ravi')\n",
        "p2.sport = 'Tennis'\n",
        "p2.show()"
      ],
      "metadata": {
        "colab": {
          "base_uri": "https://localhost:8080/"
        },
        "id": "02-ViCo92_wu",
        "outputId": "a931415f-91f2-409c-fc3a-9e68962e4514"
      },
      "execution_count": 1,
      "outputs": [
        {
          "output_type": "stream",
          "name": "stdout",
          "text": [
            "Name: Sanjay Club: Real Madrid Sports: Football Name: Ravi Club: United Sports: Tennis "
          ]
        }
      ]
    },
    {
      "cell_type": "code",
      "source": [],
      "metadata": {
        "id": "HQgES8GxHZMc"
      },
      "execution_count": null,
      "outputs": []
    }
  ]
}