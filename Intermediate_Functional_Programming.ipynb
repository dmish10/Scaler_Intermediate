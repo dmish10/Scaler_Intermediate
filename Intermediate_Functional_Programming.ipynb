{
  "nbformat": 4,
  "nbformat_minor": 0,
  "metadata": {
    "colab": {
      "provenance": [],
      "authorship_tag": "ABX9TyMIIYVKpxALPW18EhqZqwmz",
      "include_colab_link": true
    },
    "kernelspec": {
      "name": "python3",
      "display_name": "Python 3"
    },
    "language_info": {
      "name": "python"
    }
  },
  "cells": [
    {
      "cell_type": "markdown",
      "metadata": {
        "id": "view-in-github",
        "colab_type": "text"
      },
      "source": [
        "<a href=\"https://colab.research.google.com/github/dmish10/Scaler_Intermediate/blob/main/Intermediate_Functional_Programming.ipynb\" target=\"_parent\"><img src=\"https://colab.research.google.com/assets/colab-badge.svg\" alt=\"Open In Colab\"/></a>"
      ]
    },
    {
      "cell_type": "markdown",
      "source": [
        "functions can also be objects in python --the name of function is variable and the body of function is value "
      ],
      "metadata": {
        "id": "f8I3pnf4IhfA"
      }
    },
    {
      "cell_type": "markdown",
      "source": [
        "Lambda functions --"
      ],
      "metadata": {
        "id": "goFXRhoVI-pe"
      }
    },
    {
      "cell_type": "code",
      "source": [
        "#suppose a simple function to give square of a number\n",
        "def square(num):\n",
        "  return num**2\n",
        "\n",
        "square(4)"
      ],
      "metadata": {
        "colab": {
          "base_uri": "https://localhost:8080/"
        },
        "id": "4-fsbjsKJBLy",
        "outputId": "6e5f571f-fbee-41a2-d939-58c356eade26"
      },
      "execution_count": 2,
      "outputs": [
        {
          "output_type": "execute_result",
          "data": {
            "text/plain": [
              "16"
            ]
          },
          "metadata": {},
          "execution_count": 2
        }
      ]
    },
    {
      "cell_type": "code",
      "source": [
        "#the above function can be simply written using lambda where lambda is a keyword just like def\n",
        "square2= lambda num:num**2"
      ],
      "metadata": {
        "id": "CjLbbhXIJMzh"
      },
      "execution_count": 4,
      "outputs": []
    },
    {
      "cell_type": "code",
      "source": [
        "square2(4)"
      ],
      "metadata": {
        "colab": {
          "base_uri": "https://localhost:8080/"
        },
        "id": "YQm4wf1eKcE6",
        "outputId": "af58beca-b52b-4801-a0de-ee4a5b22c0ac"
      },
      "execution_count": 6,
      "outputs": [
        {
          "output_type": "execute_result",
          "data": {
            "text/plain": [
              "16"
            ]
          },
          "metadata": {},
          "execution_count": 6
        }
      ]
    },
    {
      "cell_type": "code",
      "source": [
        "sum = lambda x,y,z : ((x+y)*(z-x))"
      ],
      "metadata": {
        "id": "Q1q7P8PJKg91"
      },
      "execution_count": 10,
      "outputs": []
    },
    {
      "cell_type": "code",
      "source": [
        "sum(4,2,5)"
      ],
      "metadata": {
        "colab": {
          "base_uri": "https://localhost:8080/"
        },
        "id": "9Zb-7mSBMYGq",
        "outputId": "08469353-5fea-4dc6-baa0-c0c5484e9e61"
      },
      "execution_count": 11,
      "outputs": [
        {
          "output_type": "execute_result",
          "data": {
            "text/plain": [
              "6"
            ]
          },
          "metadata": {},
          "execution_count": 11
        }
      ]
    },
    {
      "cell_type": "markdown",
      "source": [
        "Lambda functions are anonymous"
      ],
      "metadata": {
        "id": "2W6CUEVwM7iz"
      }
    },
    {
      "cell_type": "code",
      "source": [
        "(lambda x:x*2)(5)"
      ],
      "metadata": {
        "colab": {
          "base_uri": "https://localhost:8080/"
        },
        "id": "s3oXGH2wMaRw",
        "outputId": "42c98f81-9a89-48b7-f1ad-cc7f39ef484f"
      },
      "execution_count": 12,
      "outputs": [
        {
          "output_type": "execute_result",
          "data": {
            "text/plain": [
              "10"
            ]
          },
          "metadata": {},
          "execution_count": 12
        }
      ]
    },
    {
      "cell_type": "code",
      "source": [
        "(lambda x:x//2)(8)"
      ],
      "metadata": {
        "colab": {
          "base_uri": "https://localhost:8080/"
        },
        "id": "PF77IJqSNS7c",
        "outputId": "37c28638-9d89-4bee-80b8-5953992e6b85"
      },
      "execution_count": 13,
      "outputs": [
        {
          "output_type": "execute_result",
          "data": {
            "text/plain": [
              "4"
            ]
          },
          "metadata": {},
          "execution_count": 13
        }
      ]
    },
    {
      "cell_type": "code",
      "source": [
        "(lambda x:x if x>5 else x+5)(5)"
      ],
      "metadata": {
        "colab": {
          "base_uri": "https://localhost:8080/"
        },
        "id": "wBygbCPBNayT",
        "outputId": "b6e766bd-b571-41c9-f05b-af040e58a432"
      },
      "execution_count": 15,
      "outputs": [
        {
          "output_type": "execute_result",
          "data": {
            "text/plain": [
              "10"
            ]
          },
          "metadata": {},
          "execution_count": 15
        }
      ]
    },
    {
      "cell_type": "code",
      "source": [
        "a= [2,5,4,3,6,1,8,16]\n",
        "sorted(a)"
      ],
      "metadata": {
        "colab": {
          "base_uri": "https://localhost:8080/"
        },
        "id": "zpNEFUbzPXnl",
        "outputId": "3b44cfab-b51d-4a2c-ba00-2f8e388ba1f6"
      },
      "execution_count": 17,
      "outputs": [
        {
          "output_type": "execute_result",
          "data": {
            "text/plain": [
              "[1, 2, 3, 4, 5, 6, 8, 16]"
            ]
          },
          "metadata": {},
          "execution_count": 17
        }
      ]
    },
    {
      "cell_type": "code",
      "source": [
        "students = [{\"name\":\"A\", \"marks\":90},\n",
        "            {\"name\":\"B\", \"marks\":80},\n",
        "            {\"name\":\"C\", \"marks\":70},\n",
        "            {\"name\":\"D\", \"marks\":60},\n",
        "            {\"name\":\"E\", \"marks\":50}]"
      ],
      "metadata": {
        "id": "yqMgdjqqQNsY"
      },
      "execution_count": 18,
      "outputs": []
    },
    {
      "cell_type": "code",
      "source": [
        "sorted(students,key=lambda x: x[\"marks\"], reverse =False)\n",
        "# To sort the list of dictionary based on marks, \n",
        "#you can use the key argument and pass a lambda function that takes a dictionary and returns the value of its marks key."
      ],
      "metadata": {
        "colab": {
          "base_uri": "https://localhost:8080/"
        },
        "id": "6ceVUPTjQ8tc",
        "outputId": "284c819d-c6ec-4aae-919e-ac5b5a3fe991"
      },
      "execution_count": 23,
      "outputs": [
        {
          "output_type": "execute_result",
          "data": {
            "text/plain": [
              "[{'name': 'E', 'marks': 50},\n",
              " {'name': 'D', 'marks': 60},\n",
              " {'name': 'C', 'marks': 70},\n",
              " {'name': 'B', 'marks': 80},\n",
              " {'name': 'A', 'marks': 90}]"
            ]
          },
          "metadata": {},
          "execution_count": 23
        }
      ]
    },
    {
      "cell_type": "code",
      "source": [
        "sorted?\n",
        "'''\n",
        "Signature: sorted(iterable, /, *, key=None, reverse=False)\n",
        "Docstring:\n",
        "Return a new list containing all items from the iterable in ascending order.\n",
        "\n",
        "A custom key function can be supplied to customize the sort order, and the\n",
        "reverse flag can be set to request the result in descending order.\n",
        "Type:      builtin_function_or_method\n",
        "'''"
      ],
      "metadata": {
        "colab": {
          "base_uri": "https://localhost:8080/",
          "height": 70
        },
        "id": "K7RH1Ks1RA84",
        "outputId": "f784e719-b29c-4245-ae11-1b9d2a8ba541"
      },
      "execution_count": 29,
      "outputs": [
        {
          "output_type": "execute_result",
          "data": {
            "text/plain": [
              "'Signature: sorted(iterable, /, *, key=None, reverse=False)\\nDocstring:\\nReturn a new list containing all items from the iterable in ascending order.\\n\\nA custom key function can be supplied to customize the sort order, and the\\nreverse flag can be set to request the result in descending order.\\nType:      builtin_function_or_method'"
            ],
            "application/vnd.google.colaboratory.intrinsic+json": {
              "type": "string"
            }
          },
          "metadata": {},
          "execution_count": 29
        }
      ]
    },
    {
      "cell_type": "code",
      "source": [
        "sorted(students, key= lambda x:x[\"name\"], reverse =False)"
      ],
      "metadata": {
        "colab": {
          "base_uri": "https://localhost:8080/"
        },
        "id": "kSwqqi_JSb0K",
        "outputId": "c92e6b7c-33f0-4cfb-add2-bd06466b3d6f"
      },
      "execution_count": 31,
      "outputs": [
        {
          "output_type": "execute_result",
          "data": {
            "text/plain": [
              "[{'name': 'A', 'marks': 90},\n",
              " {'name': 'B', 'marks': 80},\n",
              " {'name': 'C', 'marks': 70},\n",
              " {'name': 'D', 'marks': 60},\n",
              " {'name': 'E', 'marks': 50}]"
            ]
          },
          "metadata": {},
          "execution_count": 31
        }
      ]
    },
    {
      "cell_type": "code",
      "source": [
        "'''\n",
        "Tweak the cuatom sorting function in a way that if provided with complex data structure \n",
        "and a key to confirm the sorting order, it can sort that data structure'''"
      ],
      "metadata": {
        "colab": {
          "base_uri": "https://localhost:8080/",
          "height": 53
        },
        "id": "yLRFcPCNUl75",
        "outputId": "122c4d58-f37c-436d-a898-94ebeade2491"
      },
      "execution_count": 32,
      "outputs": [
        {
          "output_type": "execute_result",
          "data": {
            "text/plain": [
              "'\\nTweak the cuatom sorting function in a way that if provided with complex data structure \\nand a key to confirm the sorting order, it can sort that data structure'"
            ],
            "application/vnd.google.colaboratory.intrinsic+json": {
              "type": "string"
            }
          },
          "metadata": {},
          "execution_count": 32
        }
      ]
    },
    {
      "cell_type": "code",
      "source": [
        "data = [{\"name\": \"Alice\", \"age\": 30}, {\"name\": \"Bob\", \"age\": 25}, {\"name\": \"Charlie\", \"age\": 35}]"
      ],
      "metadata": {
        "id": "ilhaOQ_Vi2Vw"
      },
      "execution_count": 34,
      "outputs": []
    },
    {
      "cell_type": "code",
      "source": [
        "def custom_sort(data, key, key_funct, reverse=True):\n",
        "  return sorted(data, key= lambda data: key_funct(data[key]), reverse=True)"
      ],
      "metadata": {
        "id": "wgyQkzCjky1F"
      },
      "execution_count": 50,
      "outputs": []
    },
    {
      "cell_type": "code",
      "source": [
        "sorted_data= custom_sort(data, \"age\", lambda data:data%10)"
      ],
      "metadata": {
        "id": "ogpgLHEyoqav"
      },
      "execution_count": 55,
      "outputs": []
    },
    {
      "cell_type": "code",
      "source": [
        "sorted_data"
      ],
      "metadata": {
        "colab": {
          "base_uri": "https://localhost:8080/"
        },
        "id": "Q8bq6Sx2pgRP",
        "outputId": "baadf129-cea8-42fc-cae8-cb805d8e3ddb"
      },
      "execution_count": 56,
      "outputs": [
        {
          "output_type": "execute_result",
          "data": {
            "text/plain": [
              "[{'name': 'Bob', 'age': 25},\n",
              " {'name': 'Charlie', 'age': 35},\n",
              " {'name': 'Alice', 'age': 30}]"
            ]
          },
          "metadata": {},
          "execution_count": 56
        }
      ]
    },
    {
      "cell_type": "markdown",
      "source": [
        "HIGHER ORDER FUNCTIONS"
      ],
      "metadata": {
        "id": "LLHofU_fV1lU"
      }
    },
    {
      "cell_type": "code",
      "source": [
        "def gen_exp(n):\n",
        "  def exp(x):\n",
        "    return x**n\n",
        "  return exp\n"
      ],
      "metadata": {
        "id": "uS53JWJnqlPs"
      },
      "execution_count": 18,
      "outputs": []
    },
    {
      "cell_type": "code",
      "source": [
        "exp_2 = gen_exp(2)"
      ],
      "metadata": {
        "id": "tMc1osmUYhic"
      },
      "execution_count": 19,
      "outputs": []
    },
    {
      "cell_type": "code",
      "source": [
        "#since we learnt above that function definiton is the value and the name of the function is the variable \n",
        "#exp2 is the variable that stores value for 'gen_exp' which by above logic is also 'exp'- the name of the function \n",
        "# ==>> hence, exp2 = exp"
      ],
      "metadata": {
        "id": "BJrPf62aWeCX"
      },
      "execution_count": 2,
      "outputs": []
    },
    {
      "cell_type": "code",
      "source": [
        "# def exp_2(x):\n",
        "#   return x**n"
      ],
      "metadata": {
        "id": "0yelCDNYXt44"
      },
      "execution_count": 10,
      "outputs": []
    },
    {
      "cell_type": "code",
      "source": [
        "exp_2(5)"
      ],
      "metadata": {
        "colab": {
          "base_uri": "https://localhost:8080/"
        },
        "id": "h1ICSdXoXxPQ",
        "outputId": "1374f8b4-fa78-49ee-832f-9ac5b35dc7f8"
      },
      "execution_count": 20,
      "outputs": [
        {
          "output_type": "execute_result",
          "data": {
            "text/plain": [
              "25"
            ]
          },
          "metadata": {},
          "execution_count": 20
        }
      ]
    },
    {
      "cell_type": "code",
      "source": [
        "exp_5= gen_exp(5)"
      ],
      "metadata": {
        "id": "0gqlVhYxYpxn"
      },
      "execution_count": 21,
      "outputs": []
    },
    {
      "cell_type": "code",
      "source": [
        "exp_5(5)"
      ],
      "metadata": {
        "colab": {
          "base_uri": "https://localhost:8080/"
        },
        "id": "Gt8NBcnZY9jS",
        "outputId": "e37dde6e-4a25-4b90-f728-1112c56a3270"
      },
      "execution_count": 22,
      "outputs": [
        {
          "output_type": "execute_result",
          "data": {
            "text/plain": [
              "3125"
            ]
          },
          "metadata": {},
          "execution_count": 22
        }
      ]
    },
    {
      "cell_type": "markdown",
      "source": [
        "DECORATOR. -- a special higher order function that accepts function as an argument and also returns a function "
      ],
      "metadata": {
        "id": "i01mod7x0ExR"
      }
    },
    {
      "cell_type": "code",
      "source": [
        "def pretty(func): \n",
        "  #if input func was a function (since decorator function accept function as argument)\n",
        "  def wrapper():\n",
        "    print(\"_\"*20)\n",
        "    func()\n",
        "    print(\"_\"*20)\n",
        "  return wrapper #decorator function can return function within a function\n",
        "   "
      ],
      "metadata": {
        "id": "zGOvdtpzY-4n"
      },
      "execution_count": 23,
      "outputs": []
    },
    {
      "cell_type": "code",
      "source": [
        "def say_hello():\n",
        "  print(\"HEllo\")\n",
        "  \n",
        "def say_bye():\n",
        "  print(\"Bye\")"
      ],
      "metadata": {
        "id": "_InU1nrt070X"
      },
      "execution_count": 27,
      "outputs": []
    },
    {
      "cell_type": "code",
      "source": [
        "say_hello_decorated = pretty(say_hello)"
      ],
      "metadata": {
        "id": "2uWNwZy51LB2"
      },
      "execution_count": 25,
      "outputs": []
    },
    {
      "cell_type": "code",
      "source": [
        "say_hello_decorated()"
      ],
      "metadata": {
        "colab": {
          "base_uri": "https://localhost:8080/"
        },
        "id": "dUxR-tKx1ZaH",
        "outputId": "0b143402-3d61-47fd-a496-160f5cb087a7"
      },
      "execution_count": 26,
      "outputs": [
        {
          "output_type": "stream",
          "name": "stdout",
          "text": [
            "____________________\n",
            "HEllo\n",
            "____________________\n"
          ]
        }
      ]
    },
    {
      "cell_type": "code",
      "source": [
        "say_bye_deco= pretty(say_bye)"
      ],
      "metadata": {
        "id": "tU2WrNSU1fdL"
      },
      "execution_count": 28,
      "outputs": []
    },
    {
      "cell_type": "code",
      "source": [
        "say_bye_deco()"
      ],
      "metadata": {
        "colab": {
          "base_uri": "https://localhost:8080/"
        },
        "id": "r0-iIHVP1tgE",
        "outputId": "c9a4cb99-60c1-48cd-a683-3383512bb669"
      },
      "execution_count": 29,
      "outputs": [
        {
          "output_type": "stream",
          "name": "stdout",
          "text": [
            "____________________\n",
            "Bye\n",
            "____________________\n"
          ]
        }
      ]
    },
    {
      "cell_type": "code",
      "source": [
        "#a decorator can easily be used to create a new function and decorate it as shown below wihtout separately calling it using different variable\n",
        "@pretty\n",
        "def say_wow():\n",
        "  print(\"Wowowoww!\")"
      ],
      "metadata": {
        "id": "u-jlOt0L1u4a"
      },
      "execution_count": 32,
      "outputs": []
    },
    {
      "cell_type": "code",
      "source": [
        "say_wow()"
      ],
      "metadata": {
        "colab": {
          "base_uri": "https://localhost:8080/"
        },
        "id": "uRFNd9mA3aii",
        "outputId": "52a27add-2109-4fae-c12d-9703addd4125"
      },
      "execution_count": 33,
      "outputs": [
        {
          "output_type": "stream",
          "name": "stdout",
          "text": [
            "____________________\n",
            "Wowowoww!\n",
            "____________________\n"
          ]
        }
      ]
    },
    {
      "cell_type": "code",
      "source": [
        "def func2(c, d):\n",
        "    return c, d\n",
        "\n",
        "def func1(a, b):\n",
        "    c = a**1\n",
        "    d = b**2\n",
        "    return lambda: func2(c,d)\n",
        "\n",
        "result = func1(1, 2)\n",
        "\n",
        "print(result())"
      ],
      "metadata": {
        "colab": {
          "base_uri": "https://localhost:8080/"
        },
        "id": "sh7FrTpZ3c_B",
        "outputId": "ff0fa6f3-c1df-49be-8dbe-433b51843071"
      },
      "execution_count": 34,
      "outputs": [
        {
          "output_type": "stream",
          "name": "stdout",
          "text": [
            "(1, 4)\n"
          ]
        }
      ]
    },
    {
      "cell_type": "code",
      "source": [
        "odd=lambda x: bool(x%2)\n",
        "result=[n for n in range(10)]\n",
        "\n",
        "for i in result:\n",
        "    if odd(i):\n",
        "        continue       \n",
        "    else:\n",
        "        print(i, end=\" \")"
      ],
      "metadata": {
        "colab": {
          "base_uri": "https://localhost:8080/"
        },
        "id": "goP07MHfHiWb",
        "outputId": "271efa78-b124-49db-d3ff-9808c3dca92a"
      },
      "execution_count": 35,
      "outputs": [
        {
          "output_type": "stream",
          "name": "stdout",
          "text": [
            "0 2 4 6 8 "
          ]
        }
      ]
    },
    {
      "cell_type": "code",
      "source": [],
      "metadata": {
        "id": "gCtDtiDkOVhl"
      },
      "execution_count": null,
      "outputs": []
    }
  ]
}