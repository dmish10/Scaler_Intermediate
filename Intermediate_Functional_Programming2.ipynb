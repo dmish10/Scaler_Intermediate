{
  "nbformat": 4,
  "nbformat_minor": 0,
  "metadata": {
    "colab": {
      "provenance": [],
      "authorship_tag": "ABX9TyPwUBgp55cVENJ0krzkaNlA",
      "include_colab_link": true
    },
    "kernelspec": {
      "name": "python3",
      "display_name": "Python 3"
    },
    "language_info": {
      "name": "python"
    }
  },
  "cells": [
    {
      "cell_type": "markdown",
      "metadata": {
        "id": "view-in-github",
        "colab_type": "text"
      },
      "source": [
        "<a href=\"https://colab.research.google.com/github/dmish10/Scaler_Intermediate/blob/main/Intermediate_Functional_Programming2.ipynb\" target=\"_parent\"><img src=\"https://colab.research.google.com/assets/colab-badge.svg\" alt=\"Open In Colab\"/></a>"
      ]
    },
    {
      "cell_type": "markdown",
      "source": [
        "MAPS "
      ],
      "metadata": {
        "id": "rrJoKxDRGYlU"
      }
    },
    {
      "cell_type": "code",
      "execution_count": 13,
      "metadata": {
        "id": "Uix86HjxFd5d"
      },
      "outputs": [],
      "source": [
        "a = [1,2,3,4,5]"
      ]
    },
    {
      "cell_type": "code",
      "source": [
        "#mapping\n",
        "m=map(lambda x:x**2,a)"
      ],
      "metadata": {
        "id": "xwVRFT4ZGeRO"
      },
      "execution_count": 14,
      "outputs": []
    },
    {
      "cell_type": "code",
      "source": [
        "print(list(m))"
      ],
      "metadata": {
        "colab": {
          "base_uri": "https://localhost:8080/"
        },
        "id": "-mmKsyfKGjcy",
        "outputId": "1d28febb-0be8-4302-bbac-c2116e82b9de"
      },
      "execution_count": 16,
      "outputs": [
        {
          "output_type": "stream",
          "name": "stdout",
          "text": [
            "[1, 4, 9, 16, 25]\n"
          ]
        }
      ]
    },
    {
      "cell_type": "code",
      "source": [
        "numbers = [1, 2, 3, 4, 5]\n",
        "squared_numbers = list(map(lambda x:x**2, numbers))\n",
        "print(squared_numbers)"
      ],
      "metadata": {
        "colab": {
          "base_uri": "https://localhost:8080/"
        },
        "id": "ekbDyHU8GoA6",
        "outputId": "a78a0ef8-4897-4ec7-f8e4-9f4babb944ec"
      },
      "execution_count": 12,
      "outputs": [
        {
          "output_type": "stream",
          "name": "stdout",
          "text": [
            "[1, 4, 9, 16, 25]\n"
          ]
        }
      ]
    },
    {
      "cell_type": "code",
      "source": [
        "numbers = [140,134,156,178,190,130,200,160]\n",
        "size = list(map(lambda n:'S' if n<150 else 'M' if n>=150 and n<180 else 'L',numbers))\n",
        "print(size)    "
      ],
      "metadata": {
        "colab": {
          "base_uri": "https://localhost:8080/"
        },
        "id": "wx6s9mruItz5",
        "outputId": "21df2a15-479d-4f4f-e637-4cd3d73ffd5f"
      },
      "execution_count": 18,
      "outputs": [
        {
          "output_type": "stream",
          "name": "stdout",
          "text": [
            "['S', 'S', 'M', 'M', 'L', 'S', 'L', 'M']\n"
          ]
        }
      ]
    },
    {
      "cell_type": "code",
      "source": [
        "r1= [1,2,3,4,5,6]\n",
        "r2= [9,8,7,6,5,4]"
      ],
      "metadata": {
        "id": "0d5Wd7hiQugw"
      },
      "execution_count": 19,
      "outputs": []
    },
    {
      "cell_type": "code",
      "source": [
        "#mapping \n",
        "m1 = list(map(lambda x,y: x+y,r1,r2))\n",
        "print(m1)"
      ],
      "metadata": {
        "colab": {
          "base_uri": "https://localhost:8080/"
        },
        "id": "7xD0DtlgUD0f",
        "outputId": "2d23d65e-cbb0-49ce-c808-17cd00415ab3"
      },
      "execution_count": 20,
      "outputs": [
        {
          "output_type": "stream",
          "name": "stdout",
          "text": [
            "[10, 10, 10, 10, 10, 10]\n"
          ]
        }
      ]
    },
    {
      "cell_type": "code",
      "source": [
        "r1= [1,0,1,0,1,1,1,0,0]\n",
        "r2= [0,0,0,1,0,1,0,1,1,1,2,3,1]\n",
        "r3 = list(map(lambda x,y:x==y, r1,r2))\n",
        "print(r3)\n",
        "#python only runs till the length of the smallest iterable"
      ],
      "metadata": {
        "colab": {
          "base_uri": "https://localhost:8080/"
        },
        "id": "zs-AgRyEUOwg",
        "outputId": "40224158-935a-47f0-9ee9-1c9752e0e583"
      },
      "execution_count": 24,
      "outputs": [
        {
          "output_type": "stream",
          "name": "stdout",
          "text": [
            "[False, True, False, False, False, True, False, False, False]\n"
          ]
        }
      ]
    },
    {
      "cell_type": "markdown",
      "source": [
        "FILTERS - function returns the iterator which generates the item that meets the condition"
      ],
      "metadata": {
        "id": "EdO8fwXXcfF1"
      }
    },
    {
      "cell_type": "code",
      "source": [
        "#to check for even values and create the output list with just even numbers"
      ],
      "metadata": {
        "id": "DJ-SKMCOdzXj"
      },
      "execution_count": 33,
      "outputs": []
    },
    {
      "cell_type": "code",
      "source": [
        "a= [1,2,3,4,5,6,7,8,9]\n",
        "print(list(filter(lambda x:x%2==0,a)))"
      ],
      "metadata": {
        "colab": {
          "base_uri": "https://localhost:8080/"
        },
        "id": "vewofSW_WFNd",
        "outputId": "7b96c95b-fa79-4b10-aa0d-5c113e2c8caf"
      },
      "execution_count": 35,
      "outputs": [
        {
          "output_type": "stream",
          "name": "stdout",
          "text": [
            "[2, 4, 6, 8]\n"
          ]
        }
      ]
    },
    {
      "cell_type": "markdown",
      "source": [
        "REDUCE - function applied cummulatively to the elements of the iterable from left to right so as to reduce the iterable to a single value"
      ],
      "metadata": {
        "id": "5fkOjqMSpEHO"
      }
    },
    {
      "cell_type": "code",
      "source": [
        "from functools import reduce\n"
      ],
      "metadata": {
        "id": "pa9KHw0gcqWk"
      },
      "execution_count": 36,
      "outputs": []
    },
    {
      "cell_type": "code",
      "source": [
        "lst= [1,2,3,4,5]\n",
        "r = reduce(lambda x,y:x+y,lst)\n",
        "print(r)"
      ],
      "metadata": {
        "colab": {
          "base_uri": "https://localhost:8080/"
        },
        "id": "xZWsm0iepwj0",
        "outputId": "7d3878d3-576b-4250-9ae2-b1fe764a4e6b"
      },
      "execution_count": 38,
      "outputs": [
        {
          "output_type": "stream",
          "name": "stdout",
          "text": [
            "15\n"
          ]
        }
      ]
    },
    {
      "cell_type": "code",
      "source": [
        "lst1= [\"a\",'b','c','d','e']\n",
        "print(reduce(lambda x,y:x+y,lst1))\n"
      ],
      "metadata": {
        "colab": {
          "base_uri": "https://localhost:8080/"
        },
        "id": "oPkPf97lp5FA",
        "outputId": "7c5a194e-4d1f-4931-db8b-a9a95c4c5f9e"
      },
      "execution_count": 41,
      "outputs": [
        {
          "output_type": "stream",
          "name": "stdout",
          "text": [
            "abcde\n"
          ]
        }
      ]
    },
    {
      "cell_type": "code",
      "source": [
        "a = list(range(1,11))\n",
        "b= list(reversed(a))\n",
        "#b = a[::-1]"
      ],
      "metadata": {
        "id": "5Y0U8v3XqnAp"
      },
      "execution_count": 45,
      "outputs": []
    },
    {
      "cell_type": "code",
      "source": [
        "a"
      ],
      "metadata": {
        "colab": {
          "base_uri": "https://localhost:8080/"
        },
        "id": "TRatZKrQrSt-",
        "outputId": "8d784d49-8769-4ca7-cda1-2540ffc932bb"
      },
      "execution_count": 43,
      "outputs": [
        {
          "output_type": "execute_result",
          "data": {
            "text/plain": [
              "[1, 2, 3, 4, 5, 6, 7, 8, 9, 10]"
            ]
          },
          "metadata": {},
          "execution_count": 43
        }
      ]
    },
    {
      "cell_type": "code",
      "source": [
        "b"
      ],
      "metadata": {
        "colab": {
          "base_uri": "https://localhost:8080/"
        },
        "id": "nrzXIVk1rTy6",
        "outputId": "41f24fd0-02e1-47c2-9734-3bb31a43f2fc"
      },
      "execution_count": 44,
      "outputs": [
        {
          "output_type": "execute_result",
          "data": {
            "text/plain": [
              "[10, 9, 8, 7, 6, 5, 4, 3, 2, 1]"
            ]
          },
          "metadata": {},
          "execution_count": 44
        }
      ]
    },
    {
      "cell_type": "code",
      "source": [
        "reduce(lambda x,y:x*y,a) == reduce(lambda x,y:x*y,b)"
      ],
      "metadata": {
        "colab": {
          "base_uri": "https://localhost:8080/"
        },
        "id": "OMAmv2wHrUiq",
        "outputId": "9574918a-0cbf-4853-9965-db7985c8b85b"
      },
      "execution_count": 46,
      "outputs": [
        {
          "output_type": "execute_result",
          "data": {
            "text/plain": [
              "True"
            ]
          },
          "metadata": {},
          "execution_count": 46
        }
      ]
    },
    {
      "cell_type": "code",
      "source": [
        "'''\n",
        "Question-\n",
        "write the function to print the max element in a list using reduce\n",
        "'''"
      ],
      "metadata": {
        "colab": {
          "base_uri": "https://localhost:8080/",
          "height": 35
        },
        "id": "WPWobDyur00V",
        "outputId": "a3f41952-bf4b-40e7-c949-16178c53d89e"
      },
      "execution_count": 47,
      "outputs": [
        {
          "output_type": "execute_result",
          "data": {
            "text/plain": [
              "'\\nQuestion-\\nwrite the function to print the max element in a list using reduce\\n'"
            ],
            "application/vnd.google.colaboratory.intrinsic+json": {
              "type": "string"
            }
          },
          "metadata": {},
          "execution_count": 47
        }
      ]
    },
    {
      "cell_type": "code",
      "source": [
        "from functools import reduce\n",
        "print(reduce(lambda x,y:x if x>y else y,a))"
      ],
      "metadata": {
        "colab": {
          "base_uri": "https://localhost:8080/"
        },
        "id": "ibCYsERCspaJ",
        "outputId": "d8eea631-cbca-4d02-c311-ba36a5d2d332"
      },
      "execution_count": 50,
      "outputs": [
        {
          "output_type": "stream",
          "name": "stdout",
          "text": [
            "10\n"
          ]
        }
      ]
    },
    {
      "cell_type": "markdown",
      "source": [
        "ARGS and KWARGS - used as a way to pass a variable number of arguments to a function. *args allows a function to accept any number of positional arguments. It is used in the function definition as a parameter preceded by an asterisk (*). When calling the function, any number of positional arguments can be passed and they will be stored in a tuple inside the function."
      ],
      "metadata": {
        "id": "ZWfcZdoUwl88"
      }
    },
    {
      "cell_type": "code",
      "source": [
        "def custom_sum(a,b):\n",
        "  return a+b"
      ],
      "metadata": {
        "id": "aHMvPiZRs_aO"
      },
      "execution_count": 51,
      "outputs": []
    },
    {
      "cell_type": "code",
      "source": [
        "custom_sum(4,5)"
      ],
      "metadata": {
        "colab": {
          "base_uri": "https://localhost:8080/"
        },
        "id": "mhxHFhJeycrD",
        "outputId": "7f28143f-b6d2-445a-c223-2465c998fa51"
      },
      "execution_count": 52,
      "outputs": [
        {
          "output_type": "execute_result",
          "data": {
            "text/plain": [
              "9"
            ]
          },
          "metadata": {},
          "execution_count": 52
        }
      ]
    },
    {
      "cell_type": "code",
      "source": [
        "def custom_sum1(a,b,*args):\n",
        "  print(a)\n",
        "  print(b)\n",
        "  print(args)"
      ],
      "metadata": {
        "id": "IgdV11k8yizo"
      },
      "execution_count": 53,
      "outputs": []
    },
    {
      "cell_type": "code",
      "source": [
        "custom_sum1(5,6)"
      ],
      "metadata": {
        "colab": {
          "base_uri": "https://localhost:8080/"
        },
        "id": "h_ETXT5Ryxnj",
        "outputId": "e0b6c49d-a979-4d6a-f16f-f9b149702a87"
      },
      "execution_count": 54,
      "outputs": [
        {
          "output_type": "stream",
          "name": "stdout",
          "text": [
            "5\n",
            "6\n",
            "()\n"
          ]
        }
      ]
    },
    {
      "cell_type": "code",
      "source": [
        "custom_sum1(5,6,3,4,4,5,6,7,2,3,9,8,6)"
      ],
      "metadata": {
        "colab": {
          "base_uri": "https://localhost:8080/"
        },
        "id": "9RKwzVP2y3Tp",
        "outputId": "9a8be363-d006-42d5-b9dc-55607a7ad668"
      },
      "execution_count": 55,
      "outputs": [
        {
          "output_type": "stream",
          "name": "stdout",
          "text": [
            "5\n",
            "6\n",
            "(3, 4, 4, 5, 6, 7, 2, 3, 9, 8, 6)\n"
          ]
        }
      ]
    },
    {
      "cell_type": "code",
      "source": [
        "def custom_sum2(a,b,*args):\n",
        "  return a +b + sum(args)\n",
        "\n",
        "custom_sum2(3,4,5,6,7,8,9,10,20,34)"
      ],
      "metadata": {
        "colab": {
          "base_uri": "https://localhost:8080/"
        },
        "id": "zQTpzHoHy9fR",
        "outputId": "579c4bfe-d0e1-4c33-8216-c4d8cde74a80"
      },
      "execution_count": 57,
      "outputs": [
        {
          "output_type": "execute_result",
          "data": {
            "text/plain": [
              "106"
            ]
          },
          "metadata": {},
          "execution_count": 57
        }
      ]
    },
    {
      "cell_type": "code",
      "source": [
        "#args can be any variable name but asterisk is important before that variable name\n",
        "#args consolidates all the extra positional arguments into a tuple"
      ],
      "metadata": {
        "id": "Yl9zh2DG44oP"
      },
      "execution_count": 59,
      "outputs": []
    },
    {
      "cell_type": "code",
      "source": [
        "def create_person(name, age,gender):\n",
        "  person={\n",
        "      \"name\":name,\n",
        "      \"age\":age,\n",
        "      \"gender\":gender\n",
        "  }\n",
        "  return person"
      ],
      "metadata": {
        "id": "ato4P7Xw5vEm"
      },
      "execution_count": 62,
      "outputs": []
    },
    {
      "cell_type": "code",
      "source": [
        "create_person(\"shikha\",50,\"female\")"
      ],
      "metadata": {
        "colab": {
          "base_uri": "https://localhost:8080/"
        },
        "id": "bsojNFID7jCa",
        "outputId": "81c5ba8c-c086-4c81-9942-c063245bed6f"
      },
      "execution_count": 64,
      "outputs": [
        {
          "output_type": "execute_result",
          "data": {
            "text/plain": [
              "{'name': 'shikha', 'age': 50, 'gender': 'female'}"
            ]
          },
          "metadata": {},
          "execution_count": 64
        }
      ]
    },
    {
      "cell_type": "code",
      "source": [
        "def create_person1(name, age,gender,**kwargs):\n",
        "  # print(kwargs)\n",
        "  person={\n",
        "      \"name\":name,\n",
        "      \"age\":age,\n",
        "      \"gender\":gender\n",
        "  }\n",
        "  person.update(kwargs)\n",
        "  return person"
      ],
      "metadata": {
        "id": "rQ9IvEH87xp_"
      },
      "execution_count": 73,
      "outputs": []
    },
    {
      "cell_type": "code",
      "source": [
        "create_person1(name=\"shikha\",age=50,gender=\"female\",profile=[\"SWE\",\"PRof\"],education=[\"Btech\",\"masters\"])"
      ],
      "metadata": {
        "colab": {
          "base_uri": "https://localhost:8080/"
        },
        "id": "0NzFdeKC77QH",
        "outputId": "2e501bff-9259-4668-9b92-71f64d50d9eb"
      },
      "execution_count": 74,
      "outputs": [
        {
          "output_type": "execute_result",
          "data": {
            "text/plain": [
              "{'name': 'shikha',\n",
              " 'age': 50,\n",
              " 'gender': 'female',\n",
              " 'profile': ['SWE', 'PRof'],\n",
              " 'education': ['Btech', 'masters']}"
            ]
          },
          "metadata": {},
          "execution_count": 74
        }
      ]
    },
    {
      "cell_type": "markdown",
      "source": [
        "Kwargs consolidates extra keyworded arguments into a dictionary"
      ],
      "metadata": {
        "id": "93M_YxfYqfPt"
      }
    },
    {
      "cell_type": "code",
      "source": [
        "def random(a,b,c,*args,**kwargs):\n",
        "  print(a)\n",
        "  print(b)\n",
        "  print(c)\n",
        "  print(args)\n",
        "  print(kwargs)"
      ],
      "metadata": {
        "id": "vpbPxfOt8RwQ"
      },
      "execution_count": 75,
      "outputs": []
    },
    {
      "cell_type": "code",
      "source": [
        "random(5,4,6,7,8,9,10,x=99,y=19,z=67)"
      ],
      "metadata": {
        "colab": {
          "base_uri": "https://localhost:8080/"
        },
        "id": "gAjWZvUPDngJ",
        "outputId": "297c2768-8c7d-4017-ffc2-280584b6cff0"
      },
      "execution_count": 77,
      "outputs": [
        {
          "output_type": "stream",
          "name": "stdout",
          "text": [
            "5\n",
            "4\n",
            "6\n",
            "(7, 8, 9, 10)\n",
            "{'x': 99, 'y': 19, 'z': 67}\n"
          ]
        }
      ]
    },
    {
      "cell_type": "code",
      "source": [
        "def random1():\n",
        "  return 100, 200, 300, 400, 500 "
      ],
      "metadata": {
        "id": "9I79U6E1Dvk8"
      },
      "execution_count": 4,
      "outputs": []
    },
    {
      "cell_type": "code",
      "source": [
        "x, y,*z = random1()"
      ],
      "metadata": {
        "id": "LYEyPwSBpnrn"
      },
      "execution_count": 5,
      "outputs": []
    },
    {
      "cell_type": "code",
      "source": [
        "x"
      ],
      "metadata": {
        "colab": {
          "base_uri": "https://localhost:8080/"
        },
        "id": "nw-aip0EpyGq",
        "outputId": "678c876d-ec2b-4b57-cc05-c325d8a2660a"
      },
      "execution_count": 6,
      "outputs": [
        {
          "output_type": "execute_result",
          "data": {
            "text/plain": [
              "100"
            ]
          },
          "metadata": {},
          "execution_count": 6
        }
      ]
    },
    {
      "cell_type": "code",
      "source": [
        "z"
      ],
      "metadata": {
        "colab": {
          "base_uri": "https://localhost:8080/"
        },
        "id": "qPKAOEePqDY4",
        "outputId": "80354ce8-99e1-446e-9663-c4b90bf44090"
      },
      "execution_count": 7,
      "outputs": [
        {
          "output_type": "execute_result",
          "data": {
            "text/plain": [
              "[300, 400, 500]"
            ]
          },
          "metadata": {},
          "execution_count": 7
        }
      ]
    },
    {
      "cell_type": "code",
      "source": [
        "arr = [\"php\", \"w3r\", \"python\", \"aaa\", \"java\"]"
      ],
      "metadata": {
        "id": "YH-i_mbXqEZq"
      },
      "execution_count": 1,
      "outputs": []
    },
    {
      "cell_type": "code",
      "source": [
        "list(filter(lambda word: word == word[::-1], arr))"
      ],
      "metadata": {
        "colab": {
          "base_uri": "https://localhost:8080/"
        },
        "id": "xUzWJfT2aqaF",
        "outputId": "241fae2b-2d3a-4f4d-df89-15bd82cd55e4"
      },
      "execution_count": 2,
      "outputs": [
        {
          "output_type": "execute_result",
          "data": {
            "text/plain": [
              "['php', 'aaa']"
            ]
          },
          "metadata": {},
          "execution_count": 2
        }
      ]
    },
    {
      "cell_type": "code",
      "source": [
        "# list( filter( lambda x: (Counter(str) == Counter(x)), arr)\n",
        "list( filter( lambda x: (x ==\"\".join( reversed(x))), arr))"
      ],
      "metadata": {
        "colab": {
          "base_uri": "https://localhost:8080/"
        },
        "id": "2IFs3GKLavAe",
        "outputId": "f817d636-817a-4cc5-9c56-d34069289f1a"
      },
      "execution_count": 5,
      "outputs": [
        {
          "output_type": "execute_result",
          "data": {
            "text/plain": [
              "['php', 'aaa']"
            ]
          },
          "metadata": {},
          "execution_count": 5
        }
      ]
    },
    {
      "cell_type": "code",
      "source": [
        "column_names = ['name', 'salary', 'job']\n",
        "db_rows = [('Alice', 180000, 'data scientist'),\n",
        "           ('Bob', 99000, 'data engineer'),\n",
        "           ('Frank', 87000, 'data analyst')]\n",
        "\n",
        "db = [dict(zip(column_names,row)) for row in db_rows]\n",
        "print(db)"
      ],
      "metadata": {
        "colab": {
          "base_uri": "https://localhost:8080/"
        },
        "id": "NBCksoKoa1-r",
        "outputId": "8eb638b7-87f3-410d-9e33-bed0c1d0b658"
      },
      "execution_count": 1,
      "outputs": [
        {
          "output_type": "stream",
          "name": "stdout",
          "text": [
            "[{'name': 'Alice', 'salary': 180000, 'job': 'data scientist'}, {'name': 'Bob', 'salary': 99000, 'job': 'data engineer'}, {'name': 'Frank', 'salary': 87000, 'job': 'data analyst'}]\n"
          ]
        }
      ]
    },
    {
      "cell_type": "code",
      "source": [
        "sentence = \"abc cde def\"\n",
        "result = list(map(lambda x: list(x), sentence.split(\" \")))\n",
        "print(result)"
      ],
      "metadata": {
        "colab": {
          "base_uri": "https://localhost:8080/"
        },
        "id": "m9ZZTynz9GMw",
        "outputId": "56814c3a-3192-47b1-f46d-472b50dd54ad"
      },
      "execution_count": 2,
      "outputs": [
        {
          "output_type": "stream",
          "name": "stdout",
          "text": [
            "[['a', 'b', 'c'], ['c', 'd', 'e'], ['d', 'e', 'f']]\n"
          ]
        }
      ]
    },
    {
      "cell_type": "code",
      "source": [
        "sentence = \"abc cde def\"\n",
        "result = list(map(lambda x: x, sentence.split(\" \")))\n",
        "print(result)"
      ],
      "metadata": {
        "colab": {
          "base_uri": "https://localhost:8080/"
        },
        "id": "Atqfl_Tb9cjX",
        "outputId": "4ae8d5e3-39c5-429d-ee1d-fa3564ce92eb"
      },
      "execution_count": 3,
      "outputs": [
        {
          "output_type": "stream",
          "name": "stdout",
          "text": [
            "['abc', 'cde', 'def']\n"
          ]
        }
      ]
    },
    {
      "cell_type": "code",
      "source": [
        "list1 = [[1,2,3],[4,5,6],[7,8,9]]\n",
        "list2 = [[9,8,7],[6,5,4],[3,2,1]]\n",
        "ls11,ls12,ls13=list1\n",
        "ls21,ls22,ls23=list2\n",
        "# print(list(zip(ls11,ls12,ls13,ls21,ls22,ls23)))\n",
        "print(list(zip(ls11,ls12,ls21)))"
      ],
      "metadata": {
        "colab": {
          "base_uri": "https://localhost:8080/"
        },
        "id": "Kpo4Zc1G9-2N",
        "outputId": "0d6fb9e4-205b-4456-95fd-26ed5d23c066"
      },
      "execution_count": 8,
      "outputs": [
        {
          "output_type": "stream",
          "name": "stdout",
          "text": [
            "[(1, 4, 9), (2, 5, 8), (3, 6, 7)]\n"
          ]
        }
      ]
    },
    {
      "cell_type": "code",
      "source": [
        "array  = [1, 2, 3, 4, 5]\n",
        "def func1(x):\n",
        "    return x<0\n",
        "result=filter(func1, array)\n",
        "print(list(result))"
      ],
      "metadata": {
        "colab": {
          "base_uri": "https://localhost:8080/"
        },
        "id": "8ovxFH5J-RTL",
        "outputId": "462ce98d-e07c-4520-f3c0-9efdfd85c748"
      },
      "execution_count": 9,
      "outputs": [
        {
          "output_type": "stream",
          "name": "stdout",
          "text": [
            "[]\n"
          ]
        }
      ]
    },
    {
      "cell_type": "code",
      "source": [
        "array  = [1, 2, 3, 4, 5]\n",
        "list(filter(lambda x:x<0, array))"
      ],
      "metadata": {
        "colab": {
          "base_uri": "https://localhost:8080/"
        },
        "id": "KOo5zevOMSF3",
        "outputId": "8a6d8544-9f51-49d6-beb3-011c66c3c598"
      },
      "execution_count": 10,
      "outputs": [
        {
          "output_type": "execute_result",
          "data": {
            "text/plain": [
              "[]"
            ]
          },
          "metadata": {},
          "execution_count": 10
        }
      ]
    },
    {
      "cell_type": "code",
      "source": [
        "ids=[\"Sam@gmail.com\", \"Ram@gmail.com\", \"Sam@gmail.com\", \"samJohnson@iit.com\", \"SAM@harvard.com\"]\n",
        "name=\"sam\"\n",
        "result = list(filter(lambda x : name in x.lower() , ids))\n",
        "print(result)"
      ],
      "metadata": {
        "colab": {
          "base_uri": "https://localhost:8080/"
        },
        "id": "LCz-x_qJMbjM",
        "outputId": "e78d9e98-6c70-4732-e6a6-6fba8f6a2a5e"
      },
      "execution_count": 11,
      "outputs": [
        {
          "output_type": "stream",
          "name": "stdout",
          "text": [
            "['Sam@gmail.com', 'Sam@gmail.com', 'samJohnson@iit.com', 'SAM@harvard.com']\n"
          ]
        }
      ]
    },
    {
      "cell_type": "code",
      "source": [
        "ids=[\"Sam@gmail.com\", \"Ram@gmail.com\", \"Sam@gmail.com\", \"samJohnson@iit.com\", \"SAM@harvard.com\"]\n",
        "name=\"sam\"\n",
        "result = list(filter(lambda x : (name.lower() or name.upper()) in x , ids))\n",
        "print(result)"
      ],
      "metadata": {
        "colab": {
          "base_uri": "https://localhost:8080/"
        },
        "id": "Xgzje5FmMiiF",
        "outputId": "8cce293c-b246-43fe-bc21-d7d50e5c22c7"
      },
      "execution_count": 9,
      "outputs": [
        {
          "output_type": "stream",
          "name": "stdout",
          "text": [
            "['samJohnson@iit.com']\n"
          ]
        }
      ]
    },
    {
      "cell_type": "code",
      "source": [
        "a=[1,[2,3],4,5]\n",
        "result = lambda x: list(map(lambda y:2*y, x)) if isinstance(x,list) else lambda x:3*x\n",
        "print(result(a))"
      ],
      "metadata": {
        "colab": {
          "base_uri": "https://localhost:8080/"
        },
        "id": "8tL7IABS57Ye",
        "outputId": "bfe0e63f-de6f-4b93-a029-299b4aabab19"
      },
      "execution_count": 10,
      "outputs": [
        {
          "output_type": "stream",
          "name": "stdout",
          "text": [
            "[2, [2, 3, 2, 3], 8, 10]\n"
          ]
        }
      ]
    },
    {
      "cell_type": "code",
      "source": [
        "names= [\"A\",\"B\",\"C\",\"D\"]\n",
        "grades= [1,2,3,4]\n"
      ],
      "metadata": {
        "id": "MryirBkr7210"
      },
      "execution_count": 12,
      "outputs": []
    },
    {
      "cell_type": "code",
      "source": [
        "data= list(zip(names,grades)) #takes the elements and puts them in a tuple\n",
        "data"
      ],
      "metadata": {
        "colab": {
          "base_uri": "https://localhost:8080/"
        },
        "id": "o7-BDTj_BnS4",
        "outputId": "2921c288-800c-42a0-e4a1-75cb4e2a0abc"
      },
      "execution_count": 14,
      "outputs": [
        {
          "output_type": "execute_result",
          "data": {
            "text/plain": [
              "[('A', 1), ('B', 2), ('C', 3), ('D', 4)]"
            ]
          },
          "metadata": {},
          "execution_count": 14
        }
      ]
    },
    {
      "cell_type": "code",
      "source": [
        "email=\"shikha.mishra@gmail.com\""
      ],
      "metadata": {
        "id": "3KUgEn90By4J"
      },
      "execution_count": 18,
      "outputs": []
    },
    {
      "cell_type": "code",
      "source": [
        "components = email.split(\"@\")\n",
        "components\n"
      ],
      "metadata": {
        "colab": {
          "base_uri": "https://localhost:8080/"
        },
        "id": "p2AWlj6yCLy0",
        "outputId": "657fa847-b4f0-4e69-fa8e-dbcbb5bf4486"
      },
      "execution_count": 19,
      "outputs": [
        {
          "output_type": "execute_result",
          "data": {
            "text/plain": [
              "['shikha.mishra', 'gmail.com']"
            ]
          },
          "metadata": {},
          "execution_count": 19
        }
      ]
    },
    {
      "cell_type": "code",
      "source": [
        "len(components) ==2"
      ],
      "metadata": {
        "id": "hS5WcrHECj9c",
        "outputId": "8980aca0-b617-4f6d-8249-35433670c970",
        "colab": {
          "base_uri": "https://localhost:8080/"
        }
      },
      "execution_count": 20,
      "outputs": [
        {
          "output_type": "execute_result",
          "data": {
            "text/plain": [
              "True"
            ]
          },
          "metadata": {},
          "execution_count": 20
        }
      ]
    },
    {
      "cell_type": "code",
      "source": [
        "print(list(map(lambda word:word if 1<=len(word)<=20 else None,components)))"
      ],
      "metadata": {
        "id": "0oL0ThjzCs6p",
        "outputId": "8d48b8d7-17c1-4e53-cd0c-ebd3ff5f00a9",
        "colab": {
          "base_uri": "https://localhost:8080/"
        }
      },
      "execution_count": 24,
      "outputs": [
        {
          "output_type": "stream",
          "name": "stdout",
          "text": [
            "['shikha.mishra', 'gmail.com']\n"
          ]
        }
      ]
    },
    {
      "cell_type": "code",
      "source": [],
      "metadata": {
        "id": "bVtxGi2iD4dh"
      },
      "execution_count": null,
      "outputs": []
    }
  ]
}